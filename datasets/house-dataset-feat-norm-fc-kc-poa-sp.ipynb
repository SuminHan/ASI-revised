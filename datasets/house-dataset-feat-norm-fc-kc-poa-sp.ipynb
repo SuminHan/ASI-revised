{
 "cells": [
  {
   "cell_type": "code",
   "execution_count": 1,
   "id": "9d6d0643",
   "metadata": {},
   "outputs": [
    {
     "name": "stdout",
     "output_type": "stream",
     "text": [
      "Note: NumExpr detected 64 cores but \"NUMEXPR_MAX_THREADS\" not set, so enforcing safe limit of 8.\n",
      "NumExpr defaulting to 8 threads.\n"
     ]
    }
   ],
   "source": [
    "import os, tqdm\n",
    "import numpy as np\n",
    "from cartoframes.viz import *\n",
    "import pandas as pd\n",
    "import geopandas as gpd"
   ]
  },
  {
   "cell_type": "code",
   "execution_count": 2,
   "id": "5040edd8",
   "metadata": {},
   "outputs": [],
   "source": [
    "from sklearn.metrics import r2_score\n",
    "import numpy as np\n",
    "\n",
    "# metric\n",
    "def metric(label, pred):\n",
    "    assert label.shape == pred.shape\n",
    "    \n",
    "    with np.errstate(divide = 'ignore', invalid = 'ignore'):\n",
    "        mask = (label == label) & (pred == pred)\n",
    "        mask = mask.astype(np.float32)\n",
    "        mask /= np.mean(mask)\n",
    "        \n",
    "        male = np.abs(np.subtract(np.log(pred), np.log(label))).astype(np.float32)\n",
    "        mae = np.abs(np.subtract(pred, label)).astype(np.float32)\n",
    "        \n",
    "        male = np.nan_to_num(male * mask)\n",
    "        male = np.mean(male)\n",
    "        \n",
    "        mae = np.nan_to_num(mae * mask)\n",
    "        mae = np.mean(mae)\n",
    "        \n",
    "        rmse = np.square(mae)\n",
    "        rmse = np.nan_to_num(rmse * mask)\n",
    "        rmse = np.sqrt(np.mean(rmse))\n",
    "        \n",
    "        mape = np.divide(mae, label)\n",
    "        mape = np.nan_to_num(mape * mask)\n",
    "        mape = np.median(mape*mask)\n",
    "        \n",
    "        print('masked:', np.sum(mask == 0))\n",
    "    return male, rmse, mape"
   ]
  },
  {
   "cell_type": "code",
   "execution_count": 3,
   "id": "102d1e70",
   "metadata": {},
   "outputs": [],
   "source": [
    "streetmap = {\n",
    "    'style': 'mapbox://styles/mapbox/streets-v9',\n",
    "    'token': 'pk.eyJ1IjoiaHNtNjkxMSIsImEiOiJjazl0and6aDUwOWF2M2RvemdrYjllczV3In0.qGmaAF6v-1LAF9C-dnMLBg'\n",
    "}\n",
    "mybasemap = {\n",
    "    #'style': 'mapbox://styles/mapbox/streets-v9',\n",
    "    'style': 'mapbox://styles/mapbox/satellite-v9',\n",
    "    'token': 'pk.eyJ1IjoiaHNtNjkxMSIsImEiOiJjazl0and6aDUwOWF2M2RvemdrYjllczV3In0.qGmaAF6v-1LAF9C-dnMLBg'\n",
    "}"
   ]
  },
  {
   "cell_type": "code",
   "execution_count": 4,
   "id": "1a1de5ef",
   "metadata": {},
   "outputs": [
    {
     "name": "stdout",
     "output_type": "stream",
     "text": [
      "fc\n",
      "attr0 6447\n",
      "attr1 18\n",
      "attr2 11\n",
      "attr3 6447\n",
      "attr4 16372\n",
      "attr5 79\n",
      "attr6 3230\n",
      "attr7 8\n",
      "attr8 6\n",
      "kc\n",
      "attr0 13\n",
      "attr1 30\n",
      "attr2 1038\n",
      "attr3 9782\n",
      "attr4 6\n",
      "attr5 2\n",
      "attr6 5\n",
      "attr7 5\n",
      "attr8 12\n",
      "attr9 946\n",
      "attr10 306\n",
      "attr11 116\n",
      "attr12 70\n",
      "attr13 70\n",
      "attr14 777\n",
      "attr15 8689\n",
      "poa\n",
      "attr0 9\n",
      "attr1 2644\n",
      "attr2 10\n",
      "attr3 2\n",
      "attr4 2\n",
      "sp\n",
      "attr0 10\n",
      "attr1 467\n",
      "attr2 10\n",
      "attr3 2\n",
      "attr4 2\n"
     ]
    }
   ],
   "source": [
    "for dname in ['fc', 'kc', 'poa', 'sp']:\n",
    "\n",
    "    print(dname)\n",
    "    data = np.load(f'{dname}/data.npz')\n",
    "\n",
    "    dict1 = {'lat':data['X_train'][:,0], 'lng': data['X_train'][:,1], 'price': data['y_train']}\n",
    "    dict2 = {'lat':data['X_test'][:,0], 'lng': data['X_test'][:,1], 'price': data['y_test']}\n",
    "    attr_names = []\n",
    "    for a in range(2, data['X_train'].shape[1]):\n",
    "        dict1.update({f'attr{a-2}': data['X_train'][:, a]})\n",
    "        dict2.update({f'attr{a-2}': data['X_test'][:, a]})\n",
    "        attr_names.append(f'attr{a-2}')\n",
    "    df1 = pd.DataFrame(dict1)\n",
    "    df2 = pd.DataFrame(dict2)\n",
    "    df = pd.concat([df1, df2])\n",
    "\n",
    "    train_gdf = gpd.GeoDataFrame(df1.copy(), geometry=gpd.points_from_xy(x=df1.lng, y=df1.lat))\n",
    "    train_gdf.crs = 'EPSG:4326'\n",
    "    test_gdf = gpd.GeoDataFrame(df2.copy(), geometry=gpd.points_from_xy(x=df2.lng, y=df2.lat))\n",
    "    test_gdf.crs = 'EPSG:4326'\n",
    "    house_gdf = gpd.GeoDataFrame(df.copy(), geometry=gpd.points_from_xy(x=df.lng, y=df.lat))\n",
    "    house_gdf.crs = 'EPSG:4326'\n",
    "    #print(np.exp(df['price'].values).mean())\n",
    "    gdf = house_gdf\n",
    "    for attr in attr_names:\n",
    "        print(attr, gdf[attr].nunique())\n",
    "        if gdf[attr].nunique() < 30:\n",
    "            gdf[attr] = gdf[attr].astype(str)\n",
    "    gdfcpy = gdf.copy()\n",
    "    \n",
    "    ####################\n",
    "    \n",
    "    X_all = df.values\n",
    "    X_norm = (X_all - X_all.mean(0)) / X_all.std(0)\n",
    "\n",
    "    newdata = dict() \n",
    "    newdata['X_train'] = X_norm[:len(train_gdf)]\n",
    "    newdata['y_train'] = data['y_train']\n",
    "    newdata['X_test'] = X_norm[len(train_gdf):]\n",
    "    newdata['y_test'] = data['y_test']\n",
    "    newdata['idx_eucli'] = data['idx_eucli']\n",
    "    newdata['idx_geo'] = data['idx_geo']\n",
    "    newdata['dist_eucli'] = data['dist_eucli']\n",
    "    newdata['dist_geo'] = data['dist_geo']\n",
    "    np.savez(f'{dname}/data_normalized.npz', **newdata)\n",
    "\n",
    "    #vectors = np.load(f'{dname}/road2vec_n2v_32_nodes.npy')\n",
    "    np.save(f'{dname}/feat_norm.npy', X_norm)"
   ]
  },
  {
   "cell_type": "code",
   "execution_count": null,
   "id": "e99422d4",
   "metadata": {},
   "outputs": [],
   "source": []
  }
 ],
 "metadata": {
  "kernelspec": {
   "display_name": "TF2",
   "language": "python",
   "name": "tf2"
  },
  "language_info": {
   "codemirror_mode": {
    "name": "ipython",
    "version": 3
   },
   "file_extension": ".py",
   "mimetype": "text/x-python",
   "name": "python",
   "nbconvert_exporter": "python",
   "pygments_lexer": "ipython3",
   "version": "3.10.8"
  }
 },
 "nbformat": 4,
 "nbformat_minor": 5
}
