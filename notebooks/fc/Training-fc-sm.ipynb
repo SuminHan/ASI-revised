{
 "cells": [
  {
   "cell_type": "code",
   "execution_count": 1,
   "metadata": {},
   "outputs": [],
   "source": [
    "import os\n",
    "os.environ[\"CUDA_VISIBLE_DEVICES\"]= '0'"
   ]
  },
  {
   "cell_type": "code",
   "execution_count": 2,
   "metadata": {
    "scrolled": true
   },
   "outputs": [
    {
     "name": "stderr",
     "output_type": "stream",
     "text": [
      "2023-08-22 10:56:33.777934: I tensorflow/core/platform/cpu_feature_guard.cc:193] This TensorFlow binary is optimized with oneAPI Deep Neural Network Library (oneDNN) to use the following CPU instructions in performance-critical operations:  SSE4.1 SSE4.2 AVX AVX2 FMA\n",
      "To enable them in other operations, rebuild TensorFlow with the appropriate compiler flags.\n"
     ]
    }
   ],
   "source": [
    "%matplotlib inline\n",
    "\n",
    "import sys\n",
    "sys.path.append(\"../../\")\n",
    "\n",
    "from train_model_sm import train\n",
    "\n",
    "from sklearn.linear_model import LinearRegression\n",
    "from yellowbrick.regressor import ResidualsPlot, PredictionError\n",
    "\n",
    "import seaborn as sns\n",
    "import matplotlib.pyplot as plt\n",
    "\n",
    "from matplotlib import rcParams\n",
    "rcParams['figure.figsize'] = (8, 4)\n",
    "rcParams['figure.dpi'] = 100\n",
    "rcParams['font.size'] = 8\n",
    "rcParams['font.family'] = 'sans-serif'\n",
    "rcParams['axes.facecolor'] = '#ffffff'\n",
    "rcParams['lines.linewidth'] = 2.0"
   ]
  },
  {
   "cell_type": "code",
   "execution_count": 3,
   "metadata": {
    "scrolled": true
   },
   "outputs": [],
   "source": [
    "hyperparameter={\n",
    "\"num_nearest\":60,\n",
    "\"sigma\":10,\n",
    "\"learning_rate\":0.0019,\n",
    "\"batch_size\":250,\n",
    "\"num_neuron\":60,\n",
    "\"num_layers\":3,\n",
    "\"size_embedded\":50,\n",
    "\"num_nearest_geo\":20,\n",
    "\"num_nearest_eucli\":20,\n",
    "\"id_dataset\":'fc',\n",
    "\"epochs\":300,\n",
    "\"optimier\":'adam',\n",
    "\"validation_split\":0.1,\n",
    "\"label\":'asi_fc',\n",
    "\"early_stopping\": False,\n",
    "\"graph_label\":'matrix',\n",
    "\"sequence\":'_normalized'\n",
    "}"
   ]
  },
  {
   "cell_type": "markdown",
   "metadata": {},
   "source": [
    "# Model"
   ]
  },
  {
   "cell_type": "code",
   "execution_count": 4,
   "metadata": {},
   "outputs": [],
   "source": [
    "spatial = train(**hyperparameter)"
   ]
  },
  {
   "cell_type": "code",
   "execution_count": 5,
   "metadata": {
    "scrolled": false
   },
   "outputs": [
    {
     "name": "stdout",
     "output_type": "stream",
     "text": [
      "node2vec (83136, 11)\n",
      "self.dist_eucli.shape, self.context_struc_eucli_target.shape, self.n2v_eucli.shape (None, 20) (None, 20, 12) (None, 21, 11)\n",
      "self.dist_geo.shape, self.context_geo_target_dist.shape, self.n2v_geo.shape (None, 20) (None, 20, 13) (None, 21, 11)\n",
      "WARNING:tensorflow:From /home/smhan/.conda/envs/TF2/lib/python3.10/site-packages/tensorflow/python/autograph/pyct/static_analysis/liveness.py:83: Analyzer.lamba_check (from tensorflow.python.autograph.pyct.static_analysis.liveness) is deprecated and will be removed after 2023-09-23.\n",
      "Instructions for updating:\n",
      "Lambda fuctions will be no more assumed to be used in the statement where they are used, or at least in the same block. https://github.com/tensorflow/tensorflow/issues/56089\n"
     ]
    },
    {
     "name": "stderr",
     "output_type": "stream",
     "text": [
      "2023-08-22 10:56:36.070681: I tensorflow/compiler/xla/stream_executor/cuda/cuda_gpu_executor.cc:981] successful NUMA node read from SysFS had negative value (-1), but there must be at least one NUMA node, so returning NUMA node zero\n",
      "2023-08-22 10:56:36.074687: I tensorflow/compiler/xla/stream_executor/cuda/cuda_gpu_executor.cc:981] successful NUMA node read from SysFS had negative value (-1), but there must be at least one NUMA node, so returning NUMA node zero\n",
      "2023-08-22 10:56:36.074949: I tensorflow/compiler/xla/stream_executor/cuda/cuda_gpu_executor.cc:981] successful NUMA node read from SysFS had negative value (-1), but there must be at least one NUMA node, so returning NUMA node zero\n",
      "2023-08-22 10:56:36.075618: I tensorflow/core/platform/cpu_feature_guard.cc:193] This TensorFlow binary is optimized with oneAPI Deep Neural Network Library (oneDNN) to use the following CPU instructions in performance-critical operations:  SSE4.1 SSE4.2 AVX AVX2 FMA\n",
      "To enable them in other operations, rebuild TensorFlow with the appropriate compiler flags.\n",
      "2023-08-22 10:56:36.078235: I tensorflow/compiler/xla/stream_executor/cuda/cuda_gpu_executor.cc:981] successful NUMA node read from SysFS had negative value (-1), but there must be at least one NUMA node, so returning NUMA node zero\n",
      "2023-08-22 10:56:36.078741: I tensorflow/compiler/xla/stream_executor/cuda/cuda_gpu_executor.cc:981] successful NUMA node read from SysFS had negative value (-1), but there must be at least one NUMA node, so returning NUMA node zero\n",
      "2023-08-22 10:56:36.079144: I tensorflow/compiler/xla/stream_executor/cuda/cuda_gpu_executor.cc:981] successful NUMA node read from SysFS had negative value (-1), but there must be at least one NUMA node, so returning NUMA node zero\n",
      "2023-08-22 10:56:36.430151: I tensorflow/compiler/xla/stream_executor/cuda/cuda_gpu_executor.cc:981] successful NUMA node read from SysFS had negative value (-1), but there must be at least one NUMA node, so returning NUMA node zero\n",
      "2023-08-22 10:56:36.430430: I tensorflow/compiler/xla/stream_executor/cuda/cuda_gpu_executor.cc:981] successful NUMA node read from SysFS had negative value (-1), but there must be at least one NUMA node, so returning NUMA node zero\n",
      "2023-08-22 10:56:36.430665: I tensorflow/compiler/xla/stream_executor/cuda/cuda_gpu_executor.cc:981] successful NUMA node read from SysFS had negative value (-1), but there must be at least one NUMA node, so returning NUMA node zero\n",
      "2023-08-22 10:56:36.430858: I tensorflow/core/common_runtime/gpu/gpu_device.cc:1613] Created device /job:localhost/replica:0/task:0/device:GPU:0 with 22273 MB memory:  -> device: 0, name: NVIDIA GeForce RTX 3090, pci bus id: 0000:01:00.0, compute capability: 8.6\n"
     ]
    },
    {
     "name": "stdout",
     "output_type": "stream",
     "text": [
      "self.input_phenomenon.shape Tensor(\"Placeholder:0\", shape=(None, 11), dtype=float32)\n",
      "self.source_distance.shape (None, 20)\n",
      "self.context.shape (None, 20, 13)\n",
      "self.n2v.shape (None, 21, 11)\n",
      "att_query.shape, att_value.shape (None, 1, 64) (None, 20, 64)\n",
      "att_output (None, 64)\n",
      "feedforward (None, 60)\n",
      "Epoch 1/300\n",
      "self.input_phenomenon.shape Tensor(\"IteratorGetNext:0\", shape=(None, 11), dtype=float32)\n",
      "self.source_distance.shape (None, 20)\n",
      "self.context.shape (None, 20, 13)\n",
      "self.n2v.shape (None, 21, 11)\n",
      "att_query.shape, att_value.shape (None, 1, 64) (None, 20, 64)\n",
      "att_output (None, 64)\n",
      "self.input_phenomenon.shape Tensor(\"IteratorGetNext:0\", shape=(None, 11), dtype=float32)\n",
      "self.source_distance.shape (None, 20)\n",
      "self.context.shape (None, 20, 13)\n",
      "self.n2v.shape (None, 21, 11)\n",
      "att_query.shape, att_value.shape (None, 1, 64) (None, 20, 64)\n",
      "att_output (None, 64)\n"
     ]
    },
    {
     "name": "stderr",
     "output_type": "stream",
     "text": [
      "2023-08-22 10:56:40.051337: I tensorflow/compiler/xla/stream_executor/cuda/cuda_blas.cc:630] TensorFloat-32 will be used for the matrix multiplication. This will only be logged once.\n",
      "2023-08-22 10:56:40.059671: I tensorflow/compiler/xla/service/service.cc:173] XLA service 0x7f8c50022d50 initialized for platform CUDA (this does not guarantee that XLA will be used). Devices:\n",
      "2023-08-22 10:56:40.059706: I tensorflow/compiler/xla/service/service.cc:181]   StreamExecutor device (0): NVIDIA GeForce RTX 3090, Compute Capability 8.6\n",
      "2023-08-22 10:56:40.065109: I tensorflow/compiler/mlir/tensorflow/utils/dump_mlir_util.cc:268] disabling MLIR crash reproducer, set env var `MLIR_CRASH_REPRODUCER_DIRECTORY` to enable.\n",
      "2023-08-22 10:56:40.151417: I tensorflow/compiler/jit/xla_compilation_cache.cc:477] Compiled cluster using XLA!  This line is logged at most once for the lifetime of the process.\n"
     ]
    },
    {
     "name": "stdout",
     "output_type": "stream",
     "text": [
      "235/240 [============================>.] - ETA: 0s - loss: 0.5115 - root_mean_squared_error: 1.7806self.input_phenomenon.shape Tensor(\"IteratorGetNext:0\", shape=(None, 11), dtype=float32)\n",
      "self.source_distance.shape (None, 20)\n",
      "self.context.shape (None, 20, 13)\n",
      "self.n2v.shape (None, 21, 11)\n",
      "att_query.shape, att_value.shape (None, 1, 64) (None, 20, 64)\n",
      "att_output (None, 64)\n",
      "\n",
      "Epoch 1: val_loss improved from inf to 0.11843, saving model to /disk1/jupyter/smhan/ASI-revised/output_sm/models/fc/asi_fc_weights.hdf5\n",
      "240/240 [==============================] - 7s 10ms/step - loss: 0.5043 - root_mean_squared_error: 1.7643 - val_loss: 0.1184 - val_root_mean_squared_error: 0.1780 - lr: 0.0019\n",
      "Epoch 2/300\n",
      "237/240 [============================>.] - ETA: 0s - loss: 0.1250 - root_mean_squared_error: 0.1901\n",
      "Epoch 2: val_loss improved from 0.11843 to 0.10602, saving model to /disk1/jupyter/smhan/ASI-revised/output_sm/models/fc/asi_fc_weights.hdf5\n",
      "240/240 [==============================] - 2s 9ms/step - loss: 0.1248 - root_mean_squared_error: 0.1899 - val_loss: 0.1060 - val_root_mean_squared_error: 0.1663 - lr: 0.0019\n",
      "Epoch 3/300\n",
      "235/240 [============================>.] - ETA: 0s - loss: 0.1194 - root_mean_squared_error: 0.1835\n",
      "Epoch 3: val_loss did not improve from 0.10602\n",
      "240/240 [==============================] - 2s 8ms/step - loss: 0.1193 - root_mean_squared_error: 0.1833 - val_loss: 0.1140 - val_root_mean_squared_error: 0.1711 - lr: 0.0019\n",
      "Epoch 4/300\n",
      "234/240 [============================>.] - ETA: 0s - loss: 0.1156 - root_mean_squared_error: 0.1798\n",
      "Epoch 4: val_loss did not improve from 0.10602\n",
      "240/240 [==============================] - 2s 8ms/step - loss: 0.1157 - root_mean_squared_error: 0.1796 - val_loss: 0.1076 - val_root_mean_squared_error: 0.1648 - lr: 0.0019\n",
      "Epoch 5/300\n",
      "240/240 [==============================] - ETA: 0s - loss: 0.1134 - root_mean_squared_error: 0.1765\n",
      "Epoch 5: val_loss improved from 0.10602 to 0.09821, saving model to /disk1/jupyter/smhan/ASI-revised/output_sm/models/fc/asi_fc_weights.hdf5\n",
      "240/240 [==============================] - 2s 9ms/step - loss: 0.1134 - root_mean_squared_error: 0.1765 - val_loss: 0.0982 - val_root_mean_squared_error: 0.1567 - lr: 0.0019\n",
      "Epoch 6/300\n",
      "237/240 [============================>.] - ETA: 0s - loss: 0.1108 - root_mean_squared_error: 0.1739\n",
      "Epoch 6: val_loss did not improve from 0.09821\n",
      "240/240 [==============================] - 2s 8ms/step - loss: 0.1107 - root_mean_squared_error: 0.1739 - val_loss: 0.1033 - val_root_mean_squared_error: 0.1614 - lr: 0.0019\n",
      "Epoch 7/300\n",
      "235/240 [============================>.] - ETA: 0s - loss: 0.1095 - root_mean_squared_error: 0.1728\n",
      "Epoch 7: val_loss did not improve from 0.09821\n",
      "240/240 [==============================] - 2s 8ms/step - loss: 0.1093 - root_mean_squared_error: 0.1725 - val_loss: 0.0986 - val_root_mean_squared_error: 0.1551 - lr: 0.0019\n",
      "Epoch 8/300\n",
      "238/240 [============================>.] - ETA: 0s - loss: 0.1132 - root_mean_squared_error: 0.1764\n",
      "Epoch 8: val_loss did not improve from 0.09821\n",
      "240/240 [==============================] - 2s 8ms/step - loss: 0.1132 - root_mean_squared_error: 0.1763 - val_loss: 0.1019 - val_root_mean_squared_error: 0.1574 - lr: 0.0019\n",
      "Epoch 9/300\n",
      "237/240 [============================>.] - ETA: 0s - loss: 0.1075 - root_mean_squared_error: 0.1708\n",
      "Epoch 9: val_loss did not improve from 0.09821\n",
      "240/240 [==============================] - 2s 8ms/step - loss: 0.1076 - root_mean_squared_error: 0.1708 - val_loss: 0.0993 - val_root_mean_squared_error: 0.1552 - lr: 0.0019\n",
      "Epoch 10/300\n",
      "240/240 [==============================] - ETA: 0s - loss: 0.1065 - root_mean_squared_error: 0.1698\n",
      "Epoch 10: val_loss did not improve from 0.09821\n",
      "240/240 [==============================] - 2s 8ms/step - loss: 0.1065 - root_mean_squared_error: 0.1698 - val_loss: 0.1068 - val_root_mean_squared_error: 0.1615 - lr: 0.0019\n",
      "Epoch 11/300\n",
      "237/240 [============================>.] - ETA: 0s - loss: 0.0989 - root_mean_squared_error: 0.1637\n",
      "Epoch 11: val_loss improved from 0.09821 to 0.09498, saving model to /disk1/jupyter/smhan/ASI-revised/output_sm/models/fc/asi_fc_weights.hdf5\n",
      "240/240 [==============================] - 2s 9ms/step - loss: 0.0989 - root_mean_squared_error: 0.1637 - val_loss: 0.0950 - val_root_mean_squared_error: 0.1525 - lr: 1.9000e-04\n",
      "Epoch 12/300\n",
      "234/240 [============================>.] - ETA: 0s - loss: 0.0984 - root_mean_squared_error: 0.1636\n",
      "Epoch 12: val_loss improved from 0.09498 to 0.09486, saving model to /disk1/jupyter/smhan/ASI-revised/output_sm/models/fc/asi_fc_weights.hdf5\n",
      "240/240 [==============================] - 2s 8ms/step - loss: 0.0984 - root_mean_squared_error: 0.1633 - val_loss: 0.0949 - val_root_mean_squared_error: 0.1528 - lr: 1.9000e-04\n",
      "Epoch 13/300\n",
      "235/240 [============================>.] - ETA: 0s - loss: 0.0985 - root_mean_squared_error: 0.1634\n",
      "Epoch 13: val_loss improved from 0.09486 to 0.09473, saving model to /disk1/jupyter/smhan/ASI-revised/output_sm/models/fc/asi_fc_weights.hdf5\n",
      "240/240 [==============================] - 2s 8ms/step - loss: 0.0984 - root_mean_squared_error: 0.1632 - val_loss: 0.0947 - val_root_mean_squared_error: 0.1524 - lr: 1.9000e-04\n",
      "Epoch 14/300\n",
      "240/240 [==============================] - ETA: 0s - loss: 0.0983 - root_mean_squared_error: 0.1629\n",
      "Epoch 14: val_loss did not improve from 0.09473\n",
      "240/240 [==============================] - 2s 8ms/step - loss: 0.0983 - root_mean_squared_error: 0.1629 - val_loss: 0.0951 - val_root_mean_squared_error: 0.1524 - lr: 1.9000e-04\n",
      "Epoch 15/300\n",
      "239/240 [============================>.] - ETA: 0s - loss: 0.0983 - root_mean_squared_error: 0.1630\n",
      "Epoch 15: val_loss did not improve from 0.09473\n",
      "240/240 [==============================] - 2s 8ms/step - loss: 0.0983 - root_mean_squared_error: 0.1629 - val_loss: 0.0961 - val_root_mean_squared_error: 0.1540 - lr: 1.9000e-04\n",
      "Epoch 16/300\n",
      "238/240 [============================>.] - ETA: 0s - loss: 0.0982 - root_mean_squared_error: 0.1628\n",
      "Epoch 16: val_loss improved from 0.09473 to 0.09448, saving model to /disk1/jupyter/smhan/ASI-revised/output_sm/models/fc/asi_fc_weights.hdf5\n",
      "240/240 [==============================] - 2s 8ms/step - loss: 0.0981 - root_mean_squared_error: 0.1628 - val_loss: 0.0945 - val_root_mean_squared_error: 0.1524 - lr: 1.9000e-04\n",
      "Epoch 17/300\n",
      "236/240 [============================>.] - ETA: 0s - loss: 0.0978 - root_mean_squared_error: 0.1625\n",
      "Epoch 17: val_loss did not improve from 0.09448\n",
      "240/240 [==============================] - 2s 8ms/step - loss: 0.0980 - root_mean_squared_error: 0.1625 - val_loss: 0.0959 - val_root_mean_squared_error: 0.1536 - lr: 1.9000e-04\n",
      "Epoch 18/300\n",
      "235/240 [============================>.] - ETA: 0s - loss: 0.0981 - root_mean_squared_error: 0.1621\n",
      "Epoch 18: val_loss did not improve from 0.09448\n",
      "240/240 [==============================] - 2s 8ms/step - loss: 0.0982 - root_mean_squared_error: 0.1625 - val_loss: 0.0952 - val_root_mean_squared_error: 0.1523 - lr: 1.9000e-04\n",
      "Epoch 19/300\n",
      "238/240 [============================>.] - ETA: 0s - loss: 0.0981 - root_mean_squared_error: 0.1623\n",
      "Epoch 19: val_loss did not improve from 0.09448\n",
      "240/240 [==============================] - 2s 8ms/step - loss: 0.0982 - root_mean_squared_error: 0.1623 - val_loss: 0.0956 - val_root_mean_squared_error: 0.1531 - lr: 1.9000e-04\n",
      "Epoch 20/300\n",
      "239/240 [============================>.] - ETA: 0s - loss: 0.0978 - root_mean_squared_error: 0.1617\n",
      "Epoch 20: val_loss did not improve from 0.09448\n",
      "240/240 [==============================] - 2s 8ms/step - loss: 0.0978 - root_mean_squared_error: 0.1617 - val_loss: 0.0953 - val_root_mean_squared_error: 0.1517 - lr: 1.9000e-04\n",
      "Epoch 21/300\n",
      "234/240 [============================>.] - ETA: 0s - loss: 0.0976 - root_mean_squared_error: 0.1609\n",
      "Epoch 21: val_loss did not improve from 0.09448\n",
      "240/240 [==============================] - 2s 8ms/step - loss: 0.0976 - root_mean_squared_error: 0.1614 - val_loss: 0.0947 - val_root_mean_squared_error: 0.1520 - lr: 1.9000e-04\n",
      "Epoch 22/300\n",
      "239/240 [============================>.] - ETA: 0s - loss: 0.0967 - root_mean_squared_error: 0.1607\n",
      "Epoch 22: val_loss improved from 0.09448 to 0.09420, saving model to /disk1/jupyter/smhan/ASI-revised/output_sm/models/fc/asi_fc_weights.hdf5\n"
     ]
    },
    {
     "name": "stdout",
     "output_type": "stream",
     "text": [
      "240/240 [==============================] - 2s 9ms/step - loss: 0.0967 - root_mean_squared_error: 0.1607 - val_loss: 0.0942 - val_root_mean_squared_error: 0.1515 - lr: 1.9000e-05\n",
      "Epoch 23/300\n",
      "236/240 [============================>.] - ETA: 0s - loss: 0.0964 - root_mean_squared_error: 0.1603\n",
      "Epoch 23: val_loss improved from 0.09420 to 0.09408, saving model to /disk1/jupyter/smhan/ASI-revised/output_sm/models/fc/asi_fc_weights.hdf5\n",
      "240/240 [==============================] - 2s 9ms/step - loss: 0.0965 - root_mean_squared_error: 0.1604 - val_loss: 0.0941 - val_root_mean_squared_error: 0.1515 - lr: 1.9000e-05\n",
      "Epoch 24/300\n",
      "239/240 [============================>.] - ETA: 0s - loss: 0.0965 - root_mean_squared_error: 0.1604\n",
      "Epoch 24: val_loss did not improve from 0.09408\n",
      "240/240 [==============================] - 2s 8ms/step - loss: 0.0965 - root_mean_squared_error: 0.1603 - val_loss: 0.0941 - val_root_mean_squared_error: 0.1515 - lr: 1.9000e-05\n",
      "Epoch 25/300\n",
      "234/240 [============================>.] - ETA: 0s - loss: 0.0964 - root_mean_squared_error: 0.1603\n",
      "Epoch 25: val_loss did not improve from 0.09408\n",
      "240/240 [==============================] - 2s 8ms/step - loss: 0.0964 - root_mean_squared_error: 0.1603 - val_loss: 0.0942 - val_root_mean_squared_error: 0.1515 - lr: 1.9000e-05\n",
      "Epoch 26/300\n",
      "237/240 [============================>.] - ETA: 0s - loss: 0.0964 - root_mean_squared_error: 0.1600\n",
      "Epoch 26: val_loss did not improve from 0.09408\n",
      "240/240 [==============================] - 2s 8ms/step - loss: 0.0964 - root_mean_squared_error: 0.1603 - val_loss: 0.0941 - val_root_mean_squared_error: 0.1515 - lr: 1.9000e-05\n",
      "Epoch 27/300\n",
      "240/240 [==============================] - ETA: 0s - loss: 0.0964 - root_mean_squared_error: 0.1602\n",
      "Epoch 27: val_loss did not improve from 0.09408\n",
      "240/240 [==============================] - 2s 8ms/step - loss: 0.0964 - root_mean_squared_error: 0.1602 - val_loss: 0.0943 - val_root_mean_squared_error: 0.1513 - lr: 1.9000e-05\n",
      "Epoch 28/300\n",
      "237/240 [============================>.] - ETA: 0s - loss: 0.0963 - root_mean_squared_error: 0.1600\n",
      "Epoch 28: val_loss did not improve from 0.09408\n",
      "240/240 [==============================] - 2s 9ms/step - loss: 0.0963 - root_mean_squared_error: 0.1600 - val_loss: 0.0941 - val_root_mean_squared_error: 0.1515 - lr: 1.9000e-05\n",
      "Epoch 29/300\n",
      "234/240 [============================>.] - ETA: 0s - loss: 0.0961 - root_mean_squared_error: 0.1598\n",
      "Epoch 29: val_loss improved from 0.09408 to 0.09405, saving model to /disk1/jupyter/smhan/ASI-revised/output_sm/models/fc/asi_fc_weights.hdf5\n",
      "240/240 [==============================] - 2s 9ms/step - loss: 0.0962 - root_mean_squared_error: 0.1599 - val_loss: 0.0941 - val_root_mean_squared_error: 0.1513 - lr: 1.9000e-06\n",
      "Epoch 30/300\n",
      "237/240 [============================>.] - ETA: 0s - loss: 0.0961 - root_mean_squared_error: 0.1600\n",
      "Epoch 30: val_loss improved from 0.09405 to 0.09403, saving model to /disk1/jupyter/smhan/ASI-revised/output_sm/models/fc/asi_fc_weights.hdf5\n",
      "240/240 [==============================] - 2s 9ms/step - loss: 0.0961 - root_mean_squared_error: 0.1599 - val_loss: 0.0940 - val_root_mean_squared_error: 0.1513 - lr: 1.9000e-06\n",
      "Epoch 31/300\n",
      "237/240 [============================>.] - ETA: 0s - loss: 0.0961 - root_mean_squared_error: 0.1598\n",
      "Epoch 31: val_loss did not improve from 0.09403\n",
      "240/240 [==============================] - 2s 8ms/step - loss: 0.0961 - root_mean_squared_error: 0.1598 - val_loss: 0.0941 - val_root_mean_squared_error: 0.1513 - lr: 1.9000e-06\n",
      "Epoch 32/300\n",
      "237/240 [============================>.] - ETA: 0s - loss: 0.0962 - root_mean_squared_error: 0.1600\n",
      "Epoch 32: val_loss improved from 0.09403 to 0.09403, saving model to /disk1/jupyter/smhan/ASI-revised/output_sm/models/fc/asi_fc_weights.hdf5\n",
      "240/240 [==============================] - 2s 9ms/step - loss: 0.0961 - root_mean_squared_error: 0.1598 - val_loss: 0.0940 - val_root_mean_squared_error: 0.1514 - lr: 1.9000e-06\n",
      "Epoch 33/300\n",
      "240/240 [==============================] - ETA: 0s - loss: 0.0961 - root_mean_squared_error: 0.1598\n",
      "Epoch 33: val_loss did not improve from 0.09403\n",
      "240/240 [==============================] - 2s 9ms/step - loss: 0.0961 - root_mean_squared_error: 0.1598 - val_loss: 0.0941 - val_root_mean_squared_error: 0.1513 - lr: 1.9000e-06\n",
      "Epoch 34/300\n",
      "236/240 [============================>.] - ETA: 0s - loss: 0.0961 - root_mean_squared_error: 0.1598\n",
      "Epoch 34: val_loss improved from 0.09403 to 0.09403, saving model to /disk1/jupyter/smhan/ASI-revised/output_sm/models/fc/asi_fc_weights.hdf5\n",
      "240/240 [==============================] - 2s 9ms/step - loss: 0.0961 - root_mean_squared_error: 0.1598 - val_loss: 0.0940 - val_root_mean_squared_error: 0.1513 - lr: 1.9000e-07\n",
      "Epoch 35/300\n",
      "238/240 [============================>.] - ETA: 0s - loss: 0.0961 - root_mean_squared_error: 0.1598\n",
      "Epoch 35: val_loss did not improve from 0.09403\n",
      "240/240 [==============================] - 2s 8ms/step - loss: 0.0961 - root_mean_squared_error: 0.1598 - val_loss: 0.0940 - val_root_mean_squared_error: 0.1513 - lr: 1.9000e-07\n",
      "Epoch 36/300\n",
      "236/240 [============================>.] - ETA: 0s - loss: 0.0961 - root_mean_squared_error: 0.1598\n",
      "Epoch 36: val_loss did not improve from 0.09403\n",
      "240/240 [==============================] - 2s 8ms/step - loss: 0.0961 - root_mean_squared_error: 0.1598 - val_loss: 0.0940 - val_root_mean_squared_error: 0.1513 - lr: 1.9000e-07\n",
      "Epoch 37/300\n",
      "238/240 [============================>.] - ETA: 0s - loss: 0.0961 - root_mean_squared_error: 0.1597\n",
      "Epoch 37: val_loss did not improve from 0.09403\n",
      "240/240 [==============================] - 2s 8ms/step - loss: 0.0961 - root_mean_squared_error: 0.1598 - val_loss: 0.0940 - val_root_mean_squared_error: 0.1513 - lr: 1.9000e-07\n",
      "Epoch 38/300\n",
      "236/240 [============================>.] - ETA: 0s - loss: 0.0960 - root_mean_squared_error: 0.1595\n",
      "Epoch 38: val_loss improved from 0.09403 to 0.09402, saving model to /disk1/jupyter/smhan/ASI-revised/output_sm/models/fc/asi_fc_weights.hdf5\n",
      "240/240 [==============================] - 2s 9ms/step - loss: 0.0961 - root_mean_squared_error: 0.1598 - val_loss: 0.0940 - val_root_mean_squared_error: 0.1513 - lr: 1.9000e-07\n",
      "Epoch 39/300\n",
      "238/240 [============================>.] - ETA: 0s - loss: 0.0960 - root_mean_squared_error: 0.1595\n",
      "Epoch 39: val_loss did not improve from 0.09402\n",
      "240/240 [==============================] - 2s 8ms/step - loss: 0.0961 - root_mean_squared_error: 0.1598 - val_loss: 0.0940 - val_root_mean_squared_error: 0.1513 - lr: 1.9000e-08\n",
      "Epoch 40/300\n",
      "240/240 [==============================] - ETA: 0s - loss: 0.0961 - root_mean_squared_error: 0.1598\n",
      "Epoch 40: val_loss did not improve from 0.09402\n",
      "240/240 [==============================] - 2s 8ms/step - loss: 0.0961 - root_mean_squared_error: 0.1598 - val_loss: 0.0940 - val_root_mean_squared_error: 0.1513 - lr: 1.9000e-08\n",
      "Epoch 41/300\n",
      "236/240 [============================>.] - ETA: 0s - loss: 0.0961 - root_mean_squared_error: 0.1599\n",
      "Epoch 41: val_loss did not improve from 0.09402\n",
      "240/240 [==============================] - 2s 9ms/step - loss: 0.0961 - root_mean_squared_error: 0.1598 - val_loss: 0.0940 - val_root_mean_squared_error: 0.1513 - lr: 1.9000e-08\n",
      "Epoch 42/300\n",
      "237/240 [============================>.] - ETA: 0s - loss: 0.0962 - root_mean_squared_error: 0.1601\n",
      "Epoch 42: val_loss did not improve from 0.09402\n",
      "240/240 [==============================] - 2s 9ms/step - loss: 0.0961 - root_mean_squared_error: 0.1598 - val_loss: 0.0940 - val_root_mean_squared_error: 0.1513 - lr: 1.9000e-08\n",
      "Epoch 43/300\n",
      "237/240 [============================>.] - ETA: 0s - loss: 0.0961 - root_mean_squared_error: 0.1599\n",
      "Epoch 43: val_loss did not improve from 0.09402\n",
      "240/240 [==============================] - 2s 8ms/step - loss: 0.0961 - root_mean_squared_error: 0.1598 - val_loss: 0.0940 - val_root_mean_squared_error: 0.1513 - lr: 1.9000e-08\n",
      "Epoch 44/300\n",
      "236/240 [============================>.] - ETA: 0s - loss: 0.0960 - root_mean_squared_error: 0.1597\n",
      "Epoch 44: val_loss did not improve from 0.09402\n",
      "240/240 [==============================] - 2s 8ms/step - loss: 0.0961 - root_mean_squared_error: 0.1598 - val_loss: 0.0940 - val_root_mean_squared_error: 0.1513 - lr: 1.9000e-09\n"
     ]
    },
    {
     "name": "stdout",
     "output_type": "stream",
     "text": [
      "Epoch 45/300\n",
      "239/240 [============================>.] - ETA: 0s - loss: 0.0961 - root_mean_squared_error: 0.1599\n",
      "Epoch 45: val_loss did not improve from 0.09402\n",
      "240/240 [==============================] - 2s 8ms/step - loss: 0.0961 - root_mean_squared_error: 0.1598 - val_loss: 0.0940 - val_root_mean_squared_error: 0.1513 - lr: 1.9000e-09\n",
      "Epoch 46/300\n",
      "239/240 [============================>.] - ETA: 0s - loss: 0.0961 - root_mean_squared_error: 0.1598\n",
      "Epoch 46: val_loss did not improve from 0.09402\n",
      "240/240 [==============================] - 2s 8ms/step - loss: 0.0961 - root_mean_squared_error: 0.1598 - val_loss: 0.0940 - val_root_mean_squared_error: 0.1513 - lr: 1.9000e-09\n",
      "Epoch 47/300\n",
      "239/240 [============================>.] - ETA: 0s - loss: 0.0961 - root_mean_squared_error: 0.1597\n",
      "Epoch 47: val_loss did not improve from 0.09402\n",
      "240/240 [==============================] - 2s 9ms/step - loss: 0.0961 - root_mean_squared_error: 0.1598 - val_loss: 0.0940 - val_root_mean_squared_error: 0.1513 - lr: 1.9000e-09\n",
      "Epoch 48/300\n",
      "237/240 [============================>.] - ETA: 0s - loss: 0.0960 - root_mean_squared_error: 0.1596\n",
      "Epoch 48: val_loss did not improve from 0.09402\n",
      "240/240 [==============================] - 2s 8ms/step - loss: 0.0961 - root_mean_squared_error: 0.1598 - val_loss: 0.0940 - val_root_mean_squared_error: 0.1513 - lr: 1.9000e-09\n",
      "self.input_phenomenon.shape Tensor(\"IteratorGetNext:0\", shape=(None, 11), dtype=float32)\n",
      "self.source_distance.shape (None, 20)\n",
      "self.context.shape (None, 20, 13)\n",
      "self.n2v.shape (None, 21, 11)\n",
      "att_query.shape, att_value.shape (None, 1, 64) (None, 20, 64)\n",
      "att_output (None, 64)\n",
      "520/520 [==============================] - 2s 3ms/step\n",
      "2079/2079 [==============================] - 6s 3ms/step\n",
      "self.input_phenomenon.shape Tensor(\"IteratorGetNext:0\", shape=(None, 11), dtype=float32)\n",
      "self.source_distance.shape (None, 20)\n",
      "self.context.shape (None, 20, 13)\n",
      "self.n2v.shape (None, 21, 11)\n",
      "att_query.shape, att_value.shape (None, 1, 64) (None, 20, 64)\n",
      "att_output (None, 64)\n",
      "267/267 [==============================] - 1s 2ms/step\n",
      "self.input_phenomenon.shape Tensor(\"IteratorGetNext:0\", shape=(None, 11), dtype=float32)\n",
      "self.source_distance.shape (None, 20)\n",
      "self.context.shape (None, 20, 13)\n",
      "self.n2v.shape (None, 21, 11)\n",
      "att_query.shape, att_value.shape (None, 1, 64) (None, 20, 64)\n",
      "att_output (None, 64)\n",
      "67/67 [==============================] - 0s 3ms/step\n",
      "self.input_phenomenon.shape Tensor(\"IteratorGetNext:0\", shape=(None, 11), dtype=float32)\n",
      "self.source_distance.shape (None, 20)\n",
      "self.context.shape (None, 20, 13)\n",
      "self.n2v.shape (None, 21, 11)\n",
      "att_query.shape, att_value.shape (None, 1, 64) (None, 20, 64)\n",
      "att_output (None, 64)\n",
      "267/267 [==============================] - 1s 3ms/step\n",
      "self.input_phenomenon.shape Tensor(\"IteratorGetNext:0\", shape=(None, 11), dtype=float32)\n",
      "self.source_distance.shape (None, 20)\n",
      "self.context.shape (None, 20, 13)\n",
      "self.n2v.shape (None, 21, 11)\n",
      "att_query.shape, att_value.shape (None, 1, 64) (None, 20, 64)\n",
      "att_output (None, 64)\n",
      "67/67 [==============================] - 0s 3ms/step\n"
     ]
    }
   ],
   "source": [
    "dataset,\\\n",
    "result,\\\n",
    "fit,\\\n",
    "embedded_train,\\\n",
    "embedded_test,\\\n",
    "predict_regression_train,\\\n",
    "predict_regression_test = spatial()"
   ]
  },
  {
   "cell_type": "code",
   "execution_count": 6,
   "metadata": {
    "scrolled": true
   },
   "outputs": [
    {
     "name": "stdout",
     "output_type": "stream",
     "text": [
      "################# Test ##########################\n",
      "MALE test:.... 0.0963311844277265\n",
      "RMSE test:.... 22610.387545128197\n",
      "MAPE test:.... 6.215099431818144\n",
      "################# Train ##########################\n",
      "MALE train:.... 0.09587558395083322\n",
      "RMSE train:.... 22498.684337998635\n",
      "MAPE train:.... 6.182477988484782\n"
     ]
    }
   ],
   "source": [
    "print('################# Test ##########################')\n",
    "print('MALE test:.... {}'.format(result[0]))\n",
    "print('RMSE test:.... {}'.format(result[1]))\n",
    "print('MAPE test:.... {}'.format(result[2]))\n",
    "print('################# Train ##########################')\n",
    "print('MALE train:.... {}'.format(result[3]))\n",
    "print('RMSE train:.... {}'.format(result[4]))\n",
    "print('MAPE train:.... {}'.format(result[5]))"
   ]
  },
  {
   "cell_type": "code",
   "execution_count": 7,
   "metadata": {},
   "outputs": [],
   "source": [
    "from sklearn.metrics import r2_score\n",
    "import numpy as np\n",
    "\n",
    "# metric\n",
    "def metric(pred, label):\n",
    "    assert label.shape == pred.shape\n",
    "    \n",
    "    with np.errstate(divide = 'ignore', invalid = 'ignore'):\n",
    "        mask = np.not_equal(label, 0)\n",
    "        mask = mask.astype(np.float32)\n",
    "        mask /= np.mean(mask)\n",
    "        male = np.abs(np.subtract(np.log(pred), np.log(label))).astype(np.float32)\n",
    "        male = np.nan_to_num(male * mask)\n",
    "        male = np.mean(male)\n",
    "        mae = np.abs(np.subtract(pred, label)).astype(np.float32)\n",
    "        rmse = np.square(mae)\n",
    "        mape = np.divide(mae, label)\n",
    "        mae = np.nan_to_num(mae * mask)\n",
    "        mae = np.mean(mae)\n",
    "        rmse = np.nan_to_num(rmse * mask)\n",
    "        rmse = np.sqrt(np.mean(rmse))\n",
    "        mape = np.nan_to_num(mape * mask)\n",
    "        mape = np.median(mape) # np.mean(mape) -- author leverages median\n",
    "    return male, rmse, mape\n",
    "\n"
   ]
  },
  {
   "cell_type": "code",
   "execution_count": 8,
   "metadata": {},
   "outputs": [
    {
     "data": {
      "text/plain": [
       "(0.09633119, 22610.387, 0.06215099431818184)"
      ]
     },
     "execution_count": 8,
     "metadata": {},
     "output_type": "execute_result"
    }
   ],
   "source": [
    "y_label = np.exp(dataset.y_test)\n",
    "y_pred = np.exp(result[6].flatten())\n",
    "metric(y_pred, y_label) # should be same value"
   ]
  },
  {
   "cell_type": "code",
   "execution_count": 9,
   "metadata": {},
   "outputs": [
    {
     "data": {
      "text/plain": [
       "Text(0.5, 1.0, 'R2: 0.9109480690636257')"
      ]
     },
     "execution_count": 9,
     "metadata": {},
     "output_type": "execute_result"
    },
    {
     "data": {
      "image/png": "[encoded data removed]",
      "text/plain": [
       "<Figure size 800x400 with 1 Axes>"
      ]
     },
     "metadata": {},
     "output_type": "display_data"
    }
   ],
   "source": [
    "from sklearn.metrics import r2_score\n",
    "\n",
    "plt.scatter(y_label, y_pred)\n",
    "plt.title(f'R2: {r2_score(y_label, y_pred)}')"
   ]
  },
  {
   "cell_type": "code",
   "execution_count": null,
   "metadata": {},
   "outputs": [],
   "source": []
  }
 ],
 "metadata": {
  "kernelspec": {
   "display_name": "TF2",
   "language": "python",
   "name": "tf2"
  },
  "language_info": {
   "codemirror_mode": {
    "name": "ipython",
    "version": 3
   },
   "file_extension": ".py",
   "mimetype": "text/x-python",
   "name": "python",
   "nbconvert_exporter": "python",
   "pygments_lexer": "ipython3",
   "version": "3.10.8"
  }
 },
 "nbformat": 4,
 "nbformat_minor": 4
}
