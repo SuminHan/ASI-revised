{
 "cells": [
  {
   "cell_type": "code",
   "execution_count": 1,
   "metadata": {
    "scrolled": true
   },
   "outputs": [
    {
     "name": "stderr",
     "output_type": "stream",
     "text": [
      "2023-08-21 23:40:34.582489: I tensorflow/core/platform/cpu_feature_guard.cc:193] This TensorFlow binary is optimized with oneAPI Deep Neural Network Library (oneDNN) to use the following CPU instructions in performance-critical operations:  SSE4.1 SSE4.2 AVX AVX2 FMA\n",
      "To enable them in other operations, rebuild TensorFlow with the appropriate compiler flags.\n"
     ]
    }
   ],
   "source": [
    "%matplotlib inline\n",
    "\n",
    "import sys\n",
    "sys.path.append(\"../../\")\n",
    "\n",
    "from train_model import train\n",
    "\n",
    "from sklearn.linear_model import LinearRegression\n",
    "from yellowbrick.regressor import ResidualsPlot, PredictionError\n",
    "\n",
    "import seaborn as sns\n",
    "import matplotlib.pyplot as plt\n",
    "\n",
    "from matplotlib import rcParams\n",
    "rcParams['figure.figsize'] = (8, 4)\n",
    "rcParams['figure.dpi'] = 100\n",
    "rcParams['font.size'] = 8\n",
    "rcParams['font.family'] = 'sans-serif'\n",
    "rcParams['axes.facecolor'] = '#ffffff'\n",
    "rcParams['lines.linewidth'] = 2.0"
   ]
  },
  {
   "cell_type": "code",
   "execution_count": 2,
   "metadata": {
    "scrolled": true
   },
   "outputs": [],
   "source": [
    "hyperparameter={\n",
    "\"num_nearest\":60,\n",
    "\"sigma\":10,\n",
    "\"learning_rate\":0.0019,\n",
    "\"batch_size\":250,\n",
    "\"num_neuron\":60,\n",
    "\"num_layers\":3,\n",
    "\"size_embedded\":50,\n",
    "\"num_nearest_geo\":20,\n",
    "\"num_nearest_eucli\":20,\n",
    "\"id_dataset\":'fc',\n",
    "\"epochs\":300,\n",
    "\"optimier\":'adam',\n",
    "\"validation_split\":0.1,\n",
    "\"label\":'asi_fc',\n",
    "\"early_stopping\": False,\n",
    "\"graph_label\":'matrix',\n",
    "}"
   ]
  },
  {
   "cell_type": "markdown",
   "metadata": {},
   "source": [
    "# Model"
   ]
  },
  {
   "cell_type": "code",
   "execution_count": 3,
   "metadata": {},
   "outputs": [],
   "source": [
    "spatial = train(**hyperparameter)"
   ]
  },
  {
   "cell_type": "code",
   "execution_count": 4,
   "metadata": {
    "scrolled": true
   },
   "outputs": [
    {
     "name": "stderr",
     "output_type": "stream",
     "text": [
      "2023-08-21 23:40:40.977499: I tensorflow/compiler/xla/stream_executor/cuda/cuda_gpu_executor.cc:981] successful NUMA node read from SysFS had negative value (-1), but there must be at least one NUMA node, so returning NUMA node zero\n",
      "2023-08-21 23:40:40.977802: I tensorflow/compiler/xla/stream_executor/cuda/cuda_gpu_executor.cc:981] successful NUMA node read from SysFS had negative value (-1), but there must be at least one NUMA node, so returning NUMA node zero\n",
      "2023-08-21 23:40:40.978075: I tensorflow/compiler/xla/stream_executor/cuda/cuda_gpu_executor.cc:981] successful NUMA node read from SysFS had negative value (-1), but there must be at least one NUMA node, so returning NUMA node zero\n",
      "2023-08-21 23:40:40.978330: I tensorflow/compiler/xla/stream_executor/cuda/cuda_gpu_executor.cc:981] successful NUMA node read from SysFS had negative value (-1), but there must be at least one NUMA node, so returning NUMA node zero\n",
      "2023-08-21 23:40:40.982443: I tensorflow/compiler/xla/stream_executor/cuda/cuda_gpu_executor.cc:981] successful NUMA node read from SysFS had negative value (-1), but there must be at least one NUMA node, so returning NUMA node zero\n",
      "2023-08-21 23:40:40.982703: I tensorflow/compiler/xla/stream_executor/cuda/cuda_gpu_executor.cc:981] successful NUMA node read from SysFS had negative value (-1), but there must be at least one NUMA node, so returning NUMA node zero\n",
      "2023-08-21 23:40:40.982939: I tensorflow/compiler/xla/stream_executor/cuda/cuda_gpu_executor.cc:981] successful NUMA node read from SysFS had negative value (-1), but there must be at least one NUMA node, so returning NUMA node zero\n",
      "2023-08-21 23:40:40.983169: I tensorflow/compiler/xla/stream_executor/cuda/cuda_gpu_executor.cc:981] successful NUMA node read from SysFS had negative value (-1), but there must be at least one NUMA node, so returning NUMA node zero\n",
      "2023-08-21 23:40:40.983392: I tensorflow/compiler/xla/stream_executor/cuda/cuda_gpu_executor.cc:981] successful NUMA node read from SysFS had negative value (-1), but there must be at least one NUMA node, so returning NUMA node zero\n",
      "2023-08-21 23:40:40.983612: I tensorflow/compiler/xla/stream_executor/cuda/cuda_gpu_executor.cc:981] successful NUMA node read from SysFS had negative value (-1), but there must be at least one NUMA node, so returning NUMA node zero\n",
      "2023-08-21 23:40:40.983831: I tensorflow/compiler/xla/stream_executor/cuda/cuda_gpu_executor.cc:981] successful NUMA node read from SysFS had negative value (-1), but there must be at least one NUMA node, so returning NUMA node zero\n",
      "2023-08-21 23:40:40.984050: I tensorflow/compiler/xla/stream_executor/cuda/cuda_gpu_executor.cc:981] successful NUMA node read from SysFS had negative value (-1), but there must be at least one NUMA node, so returning NUMA node zero\n",
      "2023-08-21 23:40:40.984872: I tensorflow/core/platform/cpu_feature_guard.cc:193] This TensorFlow binary is optimized with oneAPI Deep Neural Network Library (oneDNN) to use the following CPU instructions in performance-critical operations:  SSE4.1 SSE4.2 AVX AVX2 FMA\n",
      "To enable them in other operations, rebuild TensorFlow with the appropriate compiler flags.\n",
      "2023-08-21 23:40:41.230481: I tensorflow/compiler/xla/stream_executor/cuda/cuda_gpu_executor.cc:981] successful NUMA node read from SysFS had negative value (-1), but there must be at least one NUMA node, so returning NUMA node zero\n",
      "2023-08-21 23:40:41.230744: I tensorflow/compiler/xla/stream_executor/cuda/cuda_gpu_executor.cc:981] successful NUMA node read from SysFS had negative value (-1), but there must be at least one NUMA node, so returning NUMA node zero\n",
      "2023-08-21 23:40:41.230963: I tensorflow/compiler/xla/stream_executor/cuda/cuda_gpu_executor.cc:981] successful NUMA node read from SysFS had negative value (-1), but there must be at least one NUMA node, so returning NUMA node zero\n",
      "2023-08-21 23:40:41.231171: I tensorflow/compiler/xla/stream_executor/cuda/cuda_gpu_executor.cc:981] successful NUMA node read from SysFS had negative value (-1), but there must be at least one NUMA node, so returning NUMA node zero\n",
      "2023-08-21 23:40:41.231370: I tensorflow/compiler/xla/stream_executor/cuda/cuda_gpu_executor.cc:981] successful NUMA node read from SysFS had negative value (-1), but there must be at least one NUMA node, so returning NUMA node zero\n",
      "2023-08-21 23:40:41.231560: I tensorflow/compiler/xla/stream_executor/cuda/cuda_gpu_executor.cc:981] successful NUMA node read from SysFS had negative value (-1), but there must be at least one NUMA node, so returning NUMA node zero\n",
      "2023-08-21 23:40:41.231747: I tensorflow/compiler/xla/stream_executor/cuda/cuda_gpu_executor.cc:981] successful NUMA node read from SysFS had negative value (-1), but there must be at least one NUMA node, so returning NUMA node zero\n",
      "2023-08-21 23:40:41.231932: I tensorflow/compiler/xla/stream_executor/cuda/cuda_gpu_executor.cc:981] successful NUMA node read from SysFS had negative value (-1), but there must be at least one NUMA node, so returning NUMA node zero\n",
      "2023-08-21 23:40:41.232115: I tensorflow/compiler/xla/stream_executor/cuda/cuda_gpu_executor.cc:981] successful NUMA node read from SysFS had negative value (-1), but there must be at least one NUMA node, so returning NUMA node zero\n",
      "2023-08-21 23:40:41.232299: I tensorflow/compiler/xla/stream_executor/cuda/cuda_gpu_executor.cc:981] successful NUMA node read from SysFS had negative value (-1), but there must be at least one NUMA node, so returning NUMA node zero\n",
      "2023-08-21 23:40:41.232483: I tensorflow/compiler/xla/stream_executor/cuda/cuda_gpu_executor.cc:981] successful NUMA node read from SysFS had negative value (-1), but there must be at least one NUMA node, so returning NUMA node zero\n",
      "2023-08-21 23:40:41.232664: I tensorflow/compiler/xla/stream_executor/cuda/cuda_gpu_executor.cc:981] successful NUMA node read from SysFS had negative value (-1), but there must be at least one NUMA node, so returning NUMA node zero\n",
      "2023-08-21 23:40:42.274002: I tensorflow/compiler/xla/stream_executor/cuda/cuda_gpu_executor.cc:981] successful NUMA node read from SysFS had negative value (-1), but there must be at least one NUMA node, so returning NUMA node zero\n",
      "2023-08-21 23:40:42.274262: I tensorflow/compiler/xla/stream_executor/cuda/cuda_gpu_executor.cc:981] successful NUMA node read from SysFS had negative value (-1), but there must be at least one NUMA node, so returning NUMA node zero\n",
      "2023-08-21 23:40:42.274477: I tensorflow/compiler/xla/stream_executor/cuda/cuda_gpu_executor.cc:981] successful NUMA node read from SysFS had negative value (-1), but there must be at least one NUMA node, so returning NUMA node zero\n",
      "2023-08-21 23:40:42.274686: I tensorflow/compiler/xla/stream_executor/cuda/cuda_gpu_executor.cc:981] successful NUMA node read from SysFS had negative value (-1), but there must be at least one NUMA node, so returning NUMA node zero\n",
      "2023-08-21 23:40:42.274883: I tensorflow/compiler/xla/stream_executor/cuda/cuda_gpu_executor.cc:981] successful NUMA node read from SysFS had negative value (-1), but there must be at least one NUMA node, so returning NUMA node zero\n",
      "2023-08-21 23:40:42.275072: I tensorflow/compiler/xla/stream_executor/cuda/cuda_gpu_executor.cc:981] successful NUMA node read from SysFS had negative value (-1), but there must be at least one NUMA node, so returning NUMA node zero\n",
      "2023-08-21 23:40:42.275257: I tensorflow/compiler/xla/stream_executor/cuda/cuda_gpu_executor.cc:981] successful NUMA node read from SysFS had negative value (-1), but there must be at least one NUMA node, so returning NUMA node zero\n",
      "2023-08-21 23:40:42.275440: I tensorflow/compiler/xla/stream_executor/cuda/cuda_gpu_executor.cc:981] successful NUMA node read from SysFS had negative value (-1), but there must be at least one NUMA node, so returning NUMA node zero\n",
      "2023-08-21 23:40:42.275624: I tensorflow/compiler/xla/stream_executor/cuda/cuda_gpu_executor.cc:981] successful NUMA node read from SysFS had negative value (-1), but there must be at least one NUMA node, so returning NUMA node zero\n",
      "2023-08-21 23:40:42.275788: I tensorflow/core/common_runtime/gpu/gpu_device.cc:1613] Created device /job:localhost/replica:0/task:0/device:GPU:0 with 22273 MB memory:  -> device: 0, name: NVIDIA GeForce RTX 3090, pci bus id: 0000:01:00.0, compute capability: 8.6\n",
      "2023-08-21 23:40:42.276154: I tensorflow/compiler/xla/stream_executor/cuda/cuda_gpu_executor.cc:981] successful NUMA node read from SysFS had negative value (-1), but there must be at least one NUMA node, so returning NUMA node zero\n",
      "2023-08-21 23:40:42.276315: I tensorflow/core/common_runtime/gpu/gpu_device.cc:1613] Created device /job:localhost/replica:0/task:0/device:GPU:1 with 22273 MB memory:  -> device: 1, name: NVIDIA GeForce RTX 3090, pci bus id: 0000:81:00.0, compute capability: 8.6\n",
      "2023-08-21 23:40:42.276608: I tensorflow/compiler/xla/stream_executor/cuda/cuda_gpu_executor.cc:981] successful NUMA node read from SysFS had negative value (-1), but there must be at least one NUMA node, so returning NUMA node zero\n",
      "2023-08-21 23:40:42.276766: I tensorflow/core/common_runtime/gpu/gpu_device.cc:1613] Created device /job:localhost/replica:0/task:0/device:GPU:2 with 22273 MB memory:  -> device: 2, name: NVIDIA GeForce RTX 3090, pci bus id: 0000:82:00.0, compute capability: 8.6\n",
      "2023-08-21 23:40:42.277065: I tensorflow/compiler/xla/stream_executor/cuda/cuda_gpu_executor.cc:981] successful NUMA node read from SysFS had negative value (-1), but there must be at least one NUMA node, so returning NUMA node zero\n",
      "2023-08-21 23:40:42.277222: I tensorflow/core/common_runtime/gpu/gpu_device.cc:1613] Created device /job:localhost/replica:0/task:0/device:GPU:3 with 22273 MB memory:  -> device: 3, name: NVIDIA GeForce RTX 3090, pci bus id: 0000:c1:00.0, compute capability: 8.6\n"
     ]
    },
    {
     "name": "stdout",
     "output_type": "stream",
     "text": [
      "WARNING:tensorflow:From /home/smhan/.conda/envs/TF2/lib/python3.10/site-packages/tensorflow/python/autograph/pyct/static_analysis/liveness.py:83: Analyzer.lamba_check (from tensorflow.python.autograph.pyct.static_analysis.liveness) is deprecated and will be removed after 2023-09-23.\n",
      "Instructions for updating:\n",
      "Lambda fuctions will be no more assumed to be used in the statement where they are used, or at least in the same block. https://github.com/tensorflow/tensorflow/issues/56089\n",
      "Epoch 1/300\n"
     ]
    },
    {
     "name": "stderr",
     "output_type": "stream",
     "text": [
      "2023-08-21 23:40:44.316283: I tensorflow/compiler/xla/stream_executor/cuda/cuda_blas.cc:630] TensorFloat-32 will be used for the matrix multiplication. This will only be logged once.\n",
      "2023-08-21 23:40:44.319546: I tensorflow/compiler/xla/service/service.cc:173] XLA service 0x7f14f0014000 initialized for platform CUDA (this does not guarantee that XLA will be used). Devices:\n",
      "2023-08-21 23:40:44.319581: I tensorflow/compiler/xla/service/service.cc:181]   StreamExecutor device (0): NVIDIA GeForce RTX 3090, Compute Capability 8.6\n",
      "2023-08-21 23:40:44.319589: I tensorflow/compiler/xla/service/service.cc:181]   StreamExecutor device (1): NVIDIA GeForce RTX 3090, Compute Capability 8.6\n",
      "2023-08-21 23:40:44.319595: I tensorflow/compiler/xla/service/service.cc:181]   StreamExecutor device (2): NVIDIA GeForce RTX 3090, Compute Capability 8.6\n",
      "2023-08-21 23:40:44.319600: I tensorflow/compiler/xla/service/service.cc:181]   StreamExecutor device (3): NVIDIA GeForce RTX 3090, Compute Capability 8.6\n",
      "2023-08-21 23:40:44.324931: I tensorflow/compiler/mlir/tensorflow/utils/dump_mlir_util.cc:268] disabling MLIR crash reproducer, set env var `MLIR_CRASH_REPRODUCER_DIRECTORY` to enable.\n",
      "2023-08-21 23:40:44.415682: I tensorflow/compiler/jit/xla_compilation_cache.cc:477] Compiled cluster using XLA!  This line is logged at most once for the lifetime of the process.\n"
     ]
    },
    {
     "name": "stdout",
     "output_type": "stream",
     "text": [
      "233/240 [============================>.] - ETA: 0s - loss: 0.8963 - root_mean_squared_error: 2.4842\n",
      "Epoch 1: val_loss improved from inf to 0.11895, saving model to /disk1/jupyter/smhan/ASI-revised/output/models/fc/asi_fc_weights.hdf5\n",
      "240/240 [==============================] - 3s 5ms/step - loss: 0.8760 - root_mean_squared_error: 2.4508 - val_loss: 0.1190 - val_root_mean_squared_error: 0.1842 - lr: 0.0019\n",
      "Epoch 2/300\n",
      "230/240 [===========================>..] - ETA: 0s - loss: 0.1278 - root_mean_squared_error: 0.1970\n",
      "Epoch 2: val_loss did not improve from 0.11895\n",
      "240/240 [==============================] - 1s 4ms/step - loss: 0.1274 - root_mean_squared_error: 0.1964 - val_loss: 0.1229 - val_root_mean_squared_error: 0.1810 - lr: 0.0019\n",
      "Epoch 3/300\n",
      "238/240 [============================>.] - ETA: 0s - loss: 0.1199 - root_mean_squared_error: 0.1861\n",
      "Epoch 3: val_loss improved from 0.11895 to 0.10929, saving model to /disk1/jupyter/smhan/ASI-revised/output/models/fc/asi_fc_weights.hdf5\n",
      "240/240 [==============================] - 1s 4ms/step - loss: 0.1199 - root_mean_squared_error: 0.1862 - val_loss: 0.1093 - val_root_mean_squared_error: 0.1705 - lr: 0.0019\n",
      "Epoch 4/300\n",
      "237/240 [============================>.] - ETA: 0s - loss: 0.1130 - root_mean_squared_error: 0.1780\n",
      "Epoch 4: val_loss did not improve from 0.10929\n",
      "240/240 [==============================] - 1s 4ms/step - loss: 0.1130 - root_mean_squared_error: 0.1781 - val_loss: 0.1098 - val_root_mean_squared_error: 0.1662 - lr: 0.0019\n",
      "Epoch 5/300\n",
      "232/240 [============================>.] - ETA: 0s - loss: 0.1115 - root_mean_squared_error: 0.1761\n",
      "Epoch 5: val_loss improved from 0.10929 to 0.10616, saving model to /disk1/jupyter/smhan/ASI-revised/output/models/fc/asi_fc_weights.hdf5\n",
      "240/240 [==============================] - 1s 4ms/step - loss: 0.1113 - root_mean_squared_error: 0.1759 - val_loss: 0.1062 - val_root_mean_squared_error: 0.1624 - lr: 0.0019\n",
      "Epoch 6/300\n",
      "230/240 [===========================>..] - ETA: 0s - loss: 0.1087 - root_mean_squared_error: 0.1734\n",
      "Epoch 6: val_loss improved from 0.10616 to 0.10160, saving model to /disk1/jupyter/smhan/ASI-revised/output/models/fc/asi_fc_weights.hdf5\n",
      "240/240 [==============================] - 1s 4ms/step - loss: 0.1086 - root_mean_squared_error: 0.1730 - val_loss: 0.1016 - val_root_mean_squared_error: 0.1592 - lr: 0.0019\n",
      "Epoch 7/300\n",
      "233/240 [============================>.] - ETA: 0s - loss: 0.1091 - root_mean_squared_error: 0.1732\n",
      "Epoch 7: val_loss improved from 0.10160 to 0.10047, saving model to /disk1/jupyter/smhan/ASI-revised/output/models/fc/asi_fc_weights.hdf5\n",
      "240/240 [==============================] - 1s 4ms/step - loss: 0.1089 - root_mean_squared_error: 0.1729 - val_loss: 0.1005 - val_root_mean_squared_error: 0.1581 - lr: 0.0019\n",
      "Epoch 8/300\n",
      "233/240 [============================>.] - ETA: 0s - loss: 0.1089 - root_mean_squared_error: 0.1726\n",
      "Epoch 8: val_loss improved from 0.10047 to 0.09919, saving model to /disk1/jupyter/smhan/ASI-revised/output/models/fc/asi_fc_weights.hdf5\n",
      "240/240 [==============================] - 1s 4ms/step - loss: 0.1088 - root_mean_squared_error: 0.1726 - val_loss: 0.0992 - val_root_mean_squared_error: 0.1572 - lr: 0.0019\n",
      "Epoch 9/300\n",
      "233/240 [============================>.] - ETA: 0s - loss: 0.1077 - root_mean_squared_error: 0.1706\n",
      "Epoch 9: val_loss improved from 0.09919 to 0.09807, saving model to /disk1/jupyter/smhan/ASI-revised/output/models/fc/asi_fc_weights.hdf5\n",
      "240/240 [==============================] - 1s 4ms/step - loss: 0.1076 - root_mean_squared_error: 0.1706 - val_loss: 0.0981 - val_root_mean_squared_error: 0.1560 - lr: 0.0019\n",
      "Epoch 10/300\n",
      "237/240 [============================>.] - ETA: 0s - loss: 0.1075 - root_mean_squared_error: 0.1703\n",
      "Epoch 10: val_loss did not improve from 0.09807\n",
      "240/240 [==============================] - 1s 4ms/step - loss: 0.1076 - root_mean_squared_error: 0.1705 - val_loss: 0.1041 - val_root_mean_squared_error: 0.1608 - lr: 0.0019\n",
      "Epoch 11/300\n",
      "239/240 [============================>.] - ETA: 0s - loss: 0.1079 - root_mean_squared_error: 0.1707\n",
      "Epoch 11: val_loss did not improve from 0.09807\n",
      "240/240 [==============================] - 1s 4ms/step - loss: 0.1079 - root_mean_squared_error: 0.1707 - val_loss: 0.1010 - val_root_mean_squared_error: 0.1593 - lr: 0.0019\n",
      "Epoch 12/300\n",
      "237/240 [============================>.] - ETA: 0s - loss: 0.1059 - root_mean_squared_error: 0.1687\n",
      "Epoch 12: val_loss did not improve from 0.09807\n",
      "240/240 [==============================] - 1s 4ms/step - loss: 0.1059 - root_mean_squared_error: 0.1687 - val_loss: 0.0986 - val_root_mean_squared_error: 0.1562 - lr: 0.0019\n",
      "Epoch 13/300\n",
      "237/240 [============================>.] - ETA: 0s - loss: 0.1063 - root_mean_squared_error: 0.1694\n",
      "Epoch 13: val_loss did not improve from 0.09807\n",
      "240/240 [==============================] - 1s 4ms/step - loss: 0.1062 - root_mean_squared_error: 0.1693 - val_loss: 0.1091 - val_root_mean_squared_error: 0.1663 - lr: 0.0019\n",
      "Epoch 14/300\n",
      "237/240 [============================>.] - ETA: 0s - loss: 0.1070 - root_mean_squared_error: 0.1697\n",
      "Epoch 14: val_loss did not improve from 0.09807\n",
      "240/240 [==============================] - 1s 4ms/step - loss: 0.1070 - root_mean_squared_error: 0.1696 - val_loss: 0.0996 - val_root_mean_squared_error: 0.1580 - lr: 0.0019\n",
      "Epoch 15/300\n",
      "238/240 [============================>.] - ETA: 0s - loss: 0.1000 - root_mean_squared_error: 0.1635\n",
      "Epoch 15: val_loss improved from 0.09807 to 0.09616, saving model to /disk1/jupyter/smhan/ASI-revised/output/models/fc/asi_fc_weights.hdf5\n",
      "240/240 [==============================] - 1s 4ms/step - loss: 0.1000 - root_mean_squared_error: 0.1635 - val_loss: 0.0962 - val_root_mean_squared_error: 0.1535 - lr: 1.9000e-04\n",
      "Epoch 16/300\n",
      "240/240 [==============================] - ETA: 0s - loss: 0.0997 - root_mean_squared_error: 0.1632\n",
      "Epoch 16: val_loss improved from 0.09616 to 0.09616, saving model to /disk1/jupyter/smhan/ASI-revised/output/models/fc/asi_fc_weights.hdf5\n",
      "240/240 [==============================] - 1s 4ms/step - loss: 0.0997 - root_mean_squared_error: 0.1632 - val_loss: 0.0962 - val_root_mean_squared_error: 0.1536 - lr: 1.9000e-04\n",
      "Epoch 17/300\n",
      "233/240 [============================>.] - ETA: 0s - loss: 0.0998 - root_mean_squared_error: 0.1635\n",
      "Epoch 17: val_loss improved from 0.09616 to 0.09579, saving model to /disk1/jupyter/smhan/ASI-revised/output/models/fc/asi_fc_weights.hdf5\n",
      "240/240 [==============================] - 1s 4ms/step - loss: 0.0998 - root_mean_squared_error: 0.1634 - val_loss: 0.0958 - val_root_mean_squared_error: 0.1531 - lr: 1.9000e-04\n",
      "Epoch 18/300\n",
      "234/240 [============================>.] - ETA: 0s - loss: 0.0997 - root_mean_squared_error: 0.1627\n",
      "Epoch 18: val_loss did not improve from 0.09579\n",
      "240/240 [==============================] - 1s 4ms/step - loss: 0.0997 - root_mean_squared_error: 0.1631 - val_loss: 0.0968 - val_root_mean_squared_error: 0.1534 - lr: 1.9000e-04\n",
      "Epoch 19/300\n",
      "236/240 [============================>.] - ETA: 0s - loss: 0.0997 - root_mean_squared_error: 0.1633\n",
      "Epoch 19: val_loss did not improve from 0.09579\n",
      "240/240 [==============================] - 1s 4ms/step - loss: 0.0997 - root_mean_squared_error: 0.1631 - val_loss: 0.0962 - val_root_mean_squared_error: 0.1533 - lr: 1.9000e-04\n",
      "Epoch 20/300\n",
      "234/240 [============================>.] - ETA: 0s - loss: 0.0997 - root_mean_squared_error: 0.1630\n",
      "Epoch 20: val_loss did not improve from 0.09579\n",
      "240/240 [==============================] - 1s 4ms/step - loss: 0.0997 - root_mean_squared_error: 0.1630 - val_loss: 0.0959 - val_root_mean_squared_error: 0.1528 - lr: 1.9000e-04\n",
      "Epoch 21/300\n",
      "236/240 [============================>.] - ETA: 0s - loss: 0.0995 - root_mean_squared_error: 0.1625\n",
      "Epoch 21: val_loss did not improve from 0.09579\n",
      "240/240 [==============================] - 1s 4ms/step - loss: 0.0995 - root_mean_squared_error: 0.1630 - val_loss: 0.0959 - val_root_mean_squared_error: 0.1530 - lr: 1.9000e-04\n",
      "Epoch 22/300\n",
      "228/240 [===========================>..] - ETA: 0s - loss: 0.0998 - root_mean_squared_error: 0.1631\n",
      "Epoch 22: val_loss did not improve from 0.09579\n",
      "240/240 [==============================] - 1s 4ms/step - loss: 0.0998 - root_mean_squared_error: 0.1631 - val_loss: 0.0961 - val_root_mean_squared_error: 0.1529 - lr: 1.9000e-04\n"
     ]
    },
    {
     "name": "stdout",
     "output_type": "stream",
     "text": [
      "Epoch 23/300\n",
      "240/240 [==============================] - ETA: 0s - loss: 0.0988 - root_mean_squared_error: 0.1622\n",
      "Epoch 23: val_loss improved from 0.09579 to 0.09554, saving model to /disk1/jupyter/smhan/ASI-revised/output/models/fc/asi_fc_weights.hdf5\n",
      "240/240 [==============================] - 1s 4ms/step - loss: 0.0988 - root_mean_squared_error: 0.1622 - val_loss: 0.0955 - val_root_mean_squared_error: 0.1526 - lr: 1.9000e-05\n",
      "Epoch 24/300\n",
      "238/240 [============================>.] - ETA: 0s - loss: 0.0987 - root_mean_squared_error: 0.1622\n",
      "Epoch 24: val_loss did not improve from 0.09554\n",
      "240/240 [==============================] - 1s 4ms/step - loss: 0.0987 - root_mean_squared_error: 0.1621 - val_loss: 0.0956 - val_root_mean_squared_error: 0.1526 - lr: 1.9000e-05\n",
      "Epoch 25/300\n",
      "232/240 [============================>.] - ETA: 0s - loss: 0.0988 - root_mean_squared_error: 0.1622\n",
      "Epoch 25: val_loss did not improve from 0.09554\n",
      "240/240 [==============================] - 1s 4ms/step - loss: 0.0987 - root_mean_squared_error: 0.1622 - val_loss: 0.0956 - val_root_mean_squared_error: 0.1526 - lr: 1.9000e-05\n",
      "Epoch 26/300\n",
      "231/240 [===========================>..] - ETA: 0s - loss: 0.0987 - root_mean_squared_error: 0.1621\n",
      "Epoch 26: val_loss improved from 0.09554 to 0.09552, saving model to /disk1/jupyter/smhan/ASI-revised/output/models/fc/asi_fc_weights.hdf5\n",
      "240/240 [==============================] - 1s 4ms/step - loss: 0.0987 - root_mean_squared_error: 0.1622 - val_loss: 0.0955 - val_root_mean_squared_error: 0.1526 - lr: 1.9000e-05\n",
      "Epoch 27/300\n",
      "228/240 [===========================>..] - ETA: 0s - loss: 0.0988 - root_mean_squared_error: 0.1628\n",
      "Epoch 27: val_loss did not improve from 0.09552\n",
      "240/240 [==============================] - 1s 4ms/step - loss: 0.0987 - root_mean_squared_error: 0.1622 - val_loss: 0.0957 - val_root_mean_squared_error: 0.1527 - lr: 1.9000e-05\n",
      "Epoch 28/300\n",
      "236/240 [============================>.] - ETA: 0s - loss: 0.0987 - root_mean_squared_error: 0.1623\n",
      "Epoch 28: val_loss did not improve from 0.09552\n",
      "240/240 [==============================] - 1s 4ms/step - loss: 0.0987 - root_mean_squared_error: 0.1622 - val_loss: 0.0956 - val_root_mean_squared_error: 0.1525 - lr: 1.9000e-05\n",
      "Epoch 29/300\n",
      "236/240 [============================>.] - ETA: 0s - loss: 0.0985 - root_mean_squared_error: 0.1620\n",
      "Epoch 29: val_loss did not improve from 0.09552\n",
      "240/240 [==============================] - 1s 4ms/step - loss: 0.0986 - root_mean_squared_error: 0.1621 - val_loss: 0.0955 - val_root_mean_squared_error: 0.1525 - lr: 1.9000e-06\n",
      "Epoch 30/300\n",
      "238/240 [============================>.] - ETA: 0s - loss: 0.0986 - root_mean_squared_error: 0.1620\n",
      "Epoch 30: val_loss improved from 0.09552 to 0.09549, saving model to /disk1/jupyter/smhan/ASI-revised/output/models/fc/asi_fc_weights.hdf5\n",
      "240/240 [==============================] - 1s 4ms/step - loss: 0.0986 - root_mean_squared_error: 0.1621 - val_loss: 0.0955 - val_root_mean_squared_error: 0.1525 - lr: 1.9000e-06\n",
      "Epoch 31/300\n",
      "237/240 [============================>.] - ETA: 0s - loss: 0.0986 - root_mean_squared_error: 0.1620\n",
      "Epoch 31: val_loss did not improve from 0.09549\n",
      "240/240 [==============================] - 1s 4ms/step - loss: 0.0986 - root_mean_squared_error: 0.1621 - val_loss: 0.0955 - val_root_mean_squared_error: 0.1525 - lr: 1.9000e-06\n",
      "Epoch 32/300\n",
      "235/240 [============================>.] - ETA: 0s - loss: 0.0986 - root_mean_squared_error: 0.1623\n",
      "Epoch 32: val_loss improved from 0.09549 to 0.09548, saving model to /disk1/jupyter/smhan/ASI-revised/output/models/fc/asi_fc_weights.hdf5\n",
      "240/240 [==============================] - 1s 4ms/step - loss: 0.0986 - root_mean_squared_error: 0.1621 - val_loss: 0.0955 - val_root_mean_squared_error: 0.1525 - lr: 1.9000e-06\n",
      "Epoch 33/300\n",
      "238/240 [============================>.] - ETA: 0s - loss: 0.0986 - root_mean_squared_error: 0.1621\n",
      "Epoch 33: val_loss did not improve from 0.09548\n",
      "240/240 [==============================] - 1s 4ms/step - loss: 0.0986 - root_mean_squared_error: 0.1621 - val_loss: 0.0956 - val_root_mean_squared_error: 0.1525 - lr: 1.9000e-06\n",
      "Epoch 34/300\n",
      "236/240 [============================>.] - ETA: 0s - loss: 0.0986 - root_mean_squared_error: 0.1621\n",
      "Epoch 34: val_loss did not improve from 0.09548\n",
      "240/240 [==============================] - 1s 4ms/step - loss: 0.0986 - root_mean_squared_error: 0.1621 - val_loss: 0.0955 - val_root_mean_squared_error: 0.1525 - lr: 1.9000e-07\n",
      "Epoch 35/300\n",
      "238/240 [============================>.] - ETA: 0s - loss: 0.0985 - root_mean_squared_error: 0.1620\n",
      "Epoch 35: val_loss did not improve from 0.09548\n",
      "240/240 [==============================] - 1s 4ms/step - loss: 0.0986 - root_mean_squared_error: 0.1621 - val_loss: 0.0955 - val_root_mean_squared_error: 0.1525 - lr: 1.9000e-07\n",
      "Epoch 36/300\n",
      "227/240 [===========================>..] - ETA: 0s - loss: 0.0986 - root_mean_squared_error: 0.1622\n",
      "Epoch 36: val_loss did not improve from 0.09548\n",
      "240/240 [==============================] - 1s 4ms/step - loss: 0.0986 - root_mean_squared_error: 0.1621 - val_loss: 0.0955 - val_root_mean_squared_error: 0.1525 - lr: 1.9000e-07\n",
      "Epoch 37/300\n",
      "240/240 [==============================] - ETA: 0s - loss: 0.0986 - root_mean_squared_error: 0.1621\n",
      "Epoch 37: val_loss did not improve from 0.09548\n",
      "240/240 [==============================] - 1s 4ms/step - loss: 0.0986 - root_mean_squared_error: 0.1621 - val_loss: 0.0955 - val_root_mean_squared_error: 0.1525 - lr: 1.9000e-07\n",
      "Epoch 38/300\n",
      "236/240 [============================>.] - ETA: 0s - loss: 0.0985 - root_mean_squared_error: 0.1619\n",
      "Epoch 38: val_loss did not improve from 0.09548\n",
      "240/240 [==============================] - 1s 4ms/step - loss: 0.0986 - root_mean_squared_error: 0.1621 - val_loss: 0.0955 - val_root_mean_squared_error: 0.1525 - lr: 1.9000e-07\n",
      "Epoch 39/300\n",
      "233/240 [============================>.] - ETA: 0s - loss: 0.0986 - root_mean_squared_error: 0.1619\n",
      "Epoch 39: val_loss did not improve from 0.09548\n",
      "240/240 [==============================] - 1s 4ms/step - loss: 0.0986 - root_mean_squared_error: 0.1621 - val_loss: 0.0955 - val_root_mean_squared_error: 0.1525 - lr: 1.9000e-08\n",
      "Epoch 40/300\n",
      "236/240 [============================>.] - ETA: 0s - loss: 0.0985 - root_mean_squared_error: 0.1620\n",
      "Epoch 40: val_loss did not improve from 0.09548\n",
      "240/240 [==============================] - 1s 4ms/step - loss: 0.0986 - root_mean_squared_error: 0.1621 - val_loss: 0.0955 - val_root_mean_squared_error: 0.1525 - lr: 1.9000e-08\n",
      "Epoch 41/300\n",
      "232/240 [============================>.] - ETA: 0s - loss: 0.0985 - root_mean_squared_error: 0.1618\n",
      "Epoch 41: val_loss did not improve from 0.09548\n",
      "240/240 [==============================] - 1s 4ms/step - loss: 0.0986 - root_mean_squared_error: 0.1621 - val_loss: 0.0955 - val_root_mean_squared_error: 0.1525 - lr: 1.9000e-08\n",
      "Epoch 42/300\n",
      "239/240 [============================>.] - ETA: 0s - loss: 0.0986 - root_mean_squared_error: 0.1621\n",
      "Epoch 42: val_loss did not improve from 0.09548\n",
      "240/240 [==============================] - 1s 4ms/step - loss: 0.0986 - root_mean_squared_error: 0.1621 - val_loss: 0.0955 - val_root_mean_squared_error: 0.1525 - lr: 1.9000e-08\n",
      "520/520 [==============================] - 1s 1ms/step\n",
      "2079/2079 [==============================] - 2s 1ms/step\n",
      "267/267 [==============================] - 0s 933us/step\n",
      "67/67 [==============================] - 0s 1ms/step\n",
      "267/267 [==============================] - 0s 1ms/step\n",
      "67/67 [==============================] - 0s 1ms/step\n"
     ]
    }
   ],
   "source": [
    "dataset,\\\n",
    "result,\\\n",
    "fit,\\\n",
    "embedded_train,\\\n",
    "embedded_test,\\\n",
    "predict_regression_train,\\\n",
    "predict_regression_test = spatial()"
   ]
  },
  {
   "cell_type": "code",
   "execution_count": 5,
   "metadata": {
    "scrolled": true
   },
   "outputs": [
    {
     "name": "stdout",
     "output_type": "stream",
     "text": [
      "################# Test ##########################\n",
      "MALE test:.... 0.09818094483573321\n",
      "RMSE test:.... 22958.41530611101\n",
      "MAPE test:.... 6.443727671591589\n",
      "################# Train ##########################\n",
      "MALE train:.... 0.09825419080451049\n",
      "RMSE train:.... 23007.063585325723\n",
      "MAPE train:.... 6.340562095231833\n"
     ]
    }
   ],
   "source": [
    "print('################# Test ##########################')\n",
    "print('MALE test:.... {}'.format(result[0]))\n",
    "print('RMSE test:.... {}'.format(result[1]))\n",
    "print('MAPE test:.... {}'.format(result[2]))\n",
    "print('################# Train ##########################')\n",
    "print('MALE train:.... {}'.format(result[3]))\n",
    "print('RMSE train:.... {}'.format(result[4]))\n",
    "print('MAPE train:.... {}'.format(result[5]))"
   ]
  },
  {
   "cell_type": "code",
   "execution_count": 37,
   "metadata": {},
   "outputs": [],
   "source": [
    "from sklearn.metrics import r2_score\n",
    "import numpy as np\n",
    "\n",
    "# metric\n",
    "def metric(pred, label):\n",
    "    assert label.shape == pred.shape\n",
    "    \n",
    "    with np.errstate(divide = 'ignore', invalid = 'ignore'):\n",
    "        mask = np.not_equal(label, 0)\n",
    "        mask = mask.astype(np.float32)\n",
    "        mask /= np.mean(mask)\n",
    "        male = np.abs(np.subtract(np.log(pred), np.log(label))).astype(np.float32)\n",
    "        male = np.nan_to_num(male * mask)\n",
    "        male = np.mean(male)\n",
    "        mae = np.abs(np.subtract(pred, label)).astype(np.float32)\n",
    "        rmse = np.square(mae)\n",
    "        mape = np.divide(mae, label)\n",
    "        mae = np.nan_to_num(mae * mask)\n",
    "        mae = np.mean(mae)\n",
    "        rmse = np.nan_to_num(rmse * mask)\n",
    "        rmse = np.sqrt(np.mean(rmse))\n",
    "        mape = np.nan_to_num(mape * mask)\n",
    "        mape = np.median(mape) # np.mean(mape) -- author leverages median\n",
    "    return male, rmse, mape\n",
    "\n"
   ]
  },
  {
   "cell_type": "code",
   "execution_count": 40,
   "metadata": {},
   "outputs": [
    {
     "data": {
      "text/plain": [
       "(0.09818096, 22958.416, 0.06443727671591618)"
      ]
     },
     "execution_count": 40,
     "metadata": {},
     "output_type": "execute_result"
    }
   ],
   "source": [
    "y_label = np.exp(dataset.y_test)\n",
    "y_pred = np.exp(result[6].flatten())\n",
    "metric(y_pred, y_label) # should be same value"
   ]
  },
  {
   "cell_type": "code",
   "execution_count": 41,
   "metadata": {},
   "outputs": [
    {
     "data": {
      "text/plain": [
       "<matplotlib.collections.PathCollection at 0x7f1a4d45b040>"
      ]
     },
     "execution_count": 41,
     "metadata": {},
     "output_type": "execute_result"
    },
    {
     "data": {
      "image/png": "[encoded data removed]",
      "text/plain": [
       "<Figure size 800x400 with 1 Axes>"
      ]
     },
     "metadata": {},
     "output_type": "display_data"
    }
   ],
   "source": [
    "plt.scatter(y_label, y_pred)"
   ]
  },
  {
   "cell_type": "code",
   "execution_count": null,
   "metadata": {},
   "outputs": [],
   "source": []
  }
 ],
 "metadata": {
  "kernelspec": {
   "display_name": "TF2",
   "language": "python",
   "name": "tf2"
  },
  "language_info": {
   "codemirror_mode": {
    "name": "ipython",
    "version": 3
   },
   "file_extension": ".py",
   "mimetype": "text/x-python",
   "name": "python",
   "nbconvert_exporter": "python",
   "pygments_lexer": "ipython3",
   "version": "3.10.8"
  }
 },
 "nbformat": 4,
 "nbformat_minor": 4
}
