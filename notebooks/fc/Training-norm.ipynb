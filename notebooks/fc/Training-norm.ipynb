{
 "cells": [
  {
   "cell_type": "code",
   "execution_count": 1,
   "metadata": {},
   "outputs": [],
   "source": [
    "import os\n",
    "os.environ[\"CUDA_VISIBLE_DEVICES\"]= '0'"
   ]
  },
  {
   "cell_type": "code",
   "execution_count": 2,
   "metadata": {
    "scrolled": true
   },
   "outputs": [
    {
     "name": "stderr",
     "output_type": "stream",
     "text": [
      "2023-08-22 10:42:50.124879: I tensorflow/core/platform/cpu_feature_guard.cc:193] This TensorFlow binary is optimized with oneAPI Deep Neural Network Library (oneDNN) to use the following CPU instructions in performance-critical operations:  SSE4.1 SSE4.2 AVX AVX2 FMA\n",
      "To enable them in other operations, rebuild TensorFlow with the appropriate compiler flags.\n"
     ]
    }
   ],
   "source": [
    "%matplotlib inline\n",
    "\n",
    "import sys\n",
    "sys.path.append(\"../../\")\n",
    "\n",
    "from train_model_norm import train\n",
    "\n",
    "from sklearn.linear_model import LinearRegression\n",
    "from yellowbrick.regressor import ResidualsPlot, PredictionError\n",
    "\n",
    "import seaborn as sns\n",
    "import matplotlib.pyplot as plt\n",
    "\n",
    "from matplotlib import rcParams\n",
    "rcParams['figure.figsize'] = (8, 4)\n",
    "rcParams['figure.dpi'] = 100\n",
    "rcParams['font.size'] = 8\n",
    "rcParams['font.family'] = 'sans-serif'\n",
    "rcParams['axes.facecolor'] = '#ffffff'\n",
    "rcParams['lines.linewidth'] = 2.0"
   ]
  },
  {
   "cell_type": "code",
   "execution_count": 3,
   "metadata": {
    "scrolled": true
   },
   "outputs": [],
   "source": [
    "hyperparameter={\n",
    "\"num_nearest\":60,\n",
    "\"sigma\":10,\n",
    "\"learning_rate\":0.0019,\n",
    "\"batch_size\":250,\n",
    "\"num_neuron\":60,\n",
    "\"num_layers\":3,\n",
    "\"size_embedded\":50,\n",
    "\"num_nearest_geo\":20,\n",
    "\"num_nearest_eucli\":20,\n",
    "\"id_dataset\":'fc',\n",
    "\"epochs\":300,\n",
    "\"optimier\":'adam',\n",
    "\"validation_split\":0.1,\n",
    "\"label\":'asi_fc',\n",
    "\"early_stopping\": False,\n",
    "\"graph_label\":'matrix',\n",
    "}"
   ]
  },
  {
   "cell_type": "markdown",
   "metadata": {},
   "source": [
    "# Model"
   ]
  },
  {
   "cell_type": "code",
   "execution_count": 4,
   "metadata": {},
   "outputs": [],
   "source": [
    "spatial = train(**hyperparameter)"
   ]
  },
  {
   "cell_type": "code",
   "execution_count": 5,
   "metadata": {
    "scrolled": false
   },
   "outputs": [
    {
     "name": "stdout",
     "output_type": "stream",
     "text": [
      "WARNING:tensorflow:From /home/smhan/.conda/envs/TF2/lib/python3.10/site-packages/tensorflow/python/autograph/pyct/static_analysis/liveness.py:83: Analyzer.lamba_check (from tensorflow.python.autograph.pyct.static_analysis.liveness) is deprecated and will be removed after 2023-09-23.\n",
      "Instructions for updating:\n",
      "Lambda fuctions will be no more assumed to be used in the statement where they are used, or at least in the same block. https://github.com/tensorflow/tensorflow/issues/56089\n"
     ]
    },
    {
     "name": "stderr",
     "output_type": "stream",
     "text": [
      "2023-08-22 10:42:52.122007: I tensorflow/compiler/xla/stream_executor/cuda/cuda_gpu_executor.cc:981] successful NUMA node read from SysFS had negative value (-1), but there must be at least one NUMA node, so returning NUMA node zero\n",
      "2023-08-22 10:42:52.125967: I tensorflow/compiler/xla/stream_executor/cuda/cuda_gpu_executor.cc:981] successful NUMA node read from SysFS had negative value (-1), but there must be at least one NUMA node, so returning NUMA node zero\n",
      "2023-08-22 10:42:52.126235: I tensorflow/compiler/xla/stream_executor/cuda/cuda_gpu_executor.cc:981] successful NUMA node read from SysFS had negative value (-1), but there must be at least one NUMA node, so returning NUMA node zero\n",
      "2023-08-22 10:42:52.126934: I tensorflow/core/platform/cpu_feature_guard.cc:193] This TensorFlow binary is optimized with oneAPI Deep Neural Network Library (oneDNN) to use the following CPU instructions in performance-critical operations:  SSE4.1 SSE4.2 AVX AVX2 FMA\n",
      "To enable them in other operations, rebuild TensorFlow with the appropriate compiler flags.\n",
      "2023-08-22 10:42:52.129208: I tensorflow/compiler/xla/stream_executor/cuda/cuda_gpu_executor.cc:981] successful NUMA node read from SysFS had negative value (-1), but there must be at least one NUMA node, so returning NUMA node zero\n",
      "2023-08-22 10:42:52.129464: I tensorflow/compiler/xla/stream_executor/cuda/cuda_gpu_executor.cc:981] successful NUMA node read from SysFS had negative value (-1), but there must be at least one NUMA node, so returning NUMA node zero\n",
      "2023-08-22 10:42:52.129702: I tensorflow/compiler/xla/stream_executor/cuda/cuda_gpu_executor.cc:981] successful NUMA node read from SysFS had negative value (-1), but there must be at least one NUMA node, so returning NUMA node zero\n",
      "2023-08-22 10:42:52.487792: I tensorflow/compiler/xla/stream_executor/cuda/cuda_gpu_executor.cc:981] successful NUMA node read from SysFS had negative value (-1), but there must be at least one NUMA node, so returning NUMA node zero\n",
      "2023-08-22 10:42:52.488065: I tensorflow/compiler/xla/stream_executor/cuda/cuda_gpu_executor.cc:981] successful NUMA node read from SysFS had negative value (-1), but there must be at least one NUMA node, so returning NUMA node zero\n",
      "2023-08-22 10:42:52.488292: I tensorflow/compiler/xla/stream_executor/cuda/cuda_gpu_executor.cc:981] successful NUMA node read from SysFS had negative value (-1), but there must be at least one NUMA node, so returning NUMA node zero\n",
      "2023-08-22 10:42:52.488490: I tensorflow/core/common_runtime/gpu/gpu_device.cc:1613] Created device /job:localhost/replica:0/task:0/device:GPU:0 with 22273 MB memory:  -> device: 0, name: NVIDIA GeForce RTX 3090, pci bus id: 0000:01:00.0, compute capability: 8.6\n"
     ]
    },
    {
     "name": "stdout",
     "output_type": "stream",
     "text": [
      "Epoch 1/300\n"
     ]
    },
    {
     "name": "stderr",
     "output_type": "stream",
     "text": [
      "2023-08-22 10:42:54.511118: I tensorflow/compiler/xla/stream_executor/cuda/cuda_blas.cc:630] TensorFloat-32 will be used for the matrix multiplication. This will only be logged once.\n",
      "2023-08-22 10:42:54.514073: I tensorflow/compiler/xla/service/service.cc:173] XLA service 0x55e965a8e310 initialized for platform CUDA (this does not guarantee that XLA will be used). Devices:\n",
      "2023-08-22 10:42:54.514111: I tensorflow/compiler/xla/service/service.cc:181]   StreamExecutor device (0): NVIDIA GeForce RTX 3090, Compute Capability 8.6\n",
      "2023-08-22 10:42:54.520932: I tensorflow/compiler/mlir/tensorflow/utils/dump_mlir_util.cc:268] disabling MLIR crash reproducer, set env var `MLIR_CRASH_REPRODUCER_DIRECTORY` to enable.\n",
      "2023-08-22 10:42:54.609766: I tensorflow/compiler/jit/xla_compilation_cache.cc:477] Compiled cluster using XLA!  This line is logged at most once for the lifetime of the process.\n"
     ]
    },
    {
     "name": "stdout",
     "output_type": "stream",
     "text": [
      "237/240 [============================>.] - ETA: 0s - loss: 0.7850 - root_mean_squared_error: 2.2583\n",
      "Epoch 1: val_loss improved from inf to 0.12269, saving model to /disk1/jupyter/smhan/ASI-revised/output_norm/models/fc/asi_fc_weights.hdf5\n",
      "240/240 [==============================] - 3s 5ms/step - loss: 0.7783 - root_mean_squared_error: 2.2469 - val_loss: 0.1227 - val_root_mean_squared_error: 0.1868 - lr: 0.0019\n",
      "Epoch 2/300\n",
      "231/240 [===========================>..] - ETA: 0s - loss: 0.1257 - root_mean_squared_error: 0.1963\n",
      "Epoch 2: val_loss improved from 0.12269 to 0.11661, saving model to /disk1/jupyter/smhan/ASI-revised/output_norm/models/fc/asi_fc_weights.hdf5\n",
      "240/240 [==============================] - 1s 4ms/step - loss: 0.1254 - root_mean_squared_error: 0.1960 - val_loss: 0.1166 - val_root_mean_squared_error: 0.1806 - lr: 0.0019\n",
      "Epoch 3/300\n",
      "238/240 [============================>.] - ETA: 0s - loss: 0.1157 - root_mean_squared_error: 0.1838\n",
      "Epoch 3: val_loss improved from 0.11661 to 0.10691, saving model to /disk1/jupyter/smhan/ASI-revised/output_norm/models/fc/asi_fc_weights.hdf5\n",
      "240/240 [==============================] - 1s 4ms/step - loss: 0.1157 - root_mean_squared_error: 0.1840 - val_loss: 0.1069 - val_root_mean_squared_error: 0.1681 - lr: 0.0019\n",
      "Epoch 4/300\n",
      "232/240 [============================>.] - ETA: 0s - loss: 0.1124 - root_mean_squared_error: 0.1795\n",
      "Epoch 4: val_loss improved from 0.10691 to 0.10200, saving model to /disk1/jupyter/smhan/ASI-revised/output_norm/models/fc/asi_fc_weights.hdf5\n",
      "240/240 [==============================] - 1s 4ms/step - loss: 0.1124 - root_mean_squared_error: 0.1794 - val_loss: 0.1020 - val_root_mean_squared_error: 0.1637 - lr: 0.0019\n",
      "Epoch 5/300\n",
      "230/240 [===========================>..] - ETA: 0s - loss: 0.1123 - root_mean_squared_error: 0.1773\n",
      "Epoch 5: val_loss improved from 0.10200 to 0.10155, saving model to /disk1/jupyter/smhan/ASI-revised/output_norm/models/fc/asi_fc_weights.hdf5\n",
      "240/240 [==============================] - 1s 4ms/step - loss: 0.1120 - root_mean_squared_error: 0.1772 - val_loss: 0.1016 - val_root_mean_squared_error: 0.1621 - lr: 0.0019\n",
      "Epoch 6/300\n",
      "228/240 [===========================>..] - ETA: 0s - loss: 0.1087 - root_mean_squared_error: 0.1741\n",
      "Epoch 6: val_loss did not improve from 0.10155\n",
      "240/240 [==============================] - 1s 4ms/step - loss: 0.1085 - root_mean_squared_error: 0.1737 - val_loss: 0.1037 - val_root_mean_squared_error: 0.1629 - lr: 0.0019\n",
      "Epoch 7/300\n",
      "230/240 [===========================>..] - ETA: 0s - loss: 0.1081 - root_mean_squared_error: 0.1730\n",
      "Epoch 7: val_loss did not improve from 0.10155\n",
      "240/240 [==============================] - 1s 4ms/step - loss: 0.1079 - root_mean_squared_error: 0.1728 - val_loss: 0.1110 - val_root_mean_squared_error: 0.1696 - lr: 0.0019\n",
      "Epoch 8/300\n",
      "229/240 [===========================>..] - ETA: 0s - loss: 0.1085 - root_mean_squared_error: 0.1732\n",
      "Epoch 8: val_loss improved from 0.10155 to 0.10142, saving model to /disk1/jupyter/smhan/ASI-revised/output_norm/models/fc/asi_fc_weights.hdf5\n",
      "240/240 [==============================] - 1s 4ms/step - loss: 0.1085 - root_mean_squared_error: 0.1732 - val_loss: 0.1014 - val_root_mean_squared_error: 0.1608 - lr: 0.0019\n",
      "Epoch 9/300\n",
      "227/240 [===========================>..] - ETA: 0s - loss: 0.1075 - root_mean_squared_error: 0.1713\n",
      "Epoch 9: val_loss did not improve from 0.10142\n",
      "240/240 [==============================] - 1s 4ms/step - loss: 0.1074 - root_mean_squared_error: 0.1715 - val_loss: 0.1112 - val_root_mean_squared_error: 0.1660 - lr: 0.0019\n",
      "Epoch 10/300\n",
      "230/240 [===========================>..] - ETA: 0s - loss: 0.1071 - root_mean_squared_error: 0.1710\n",
      "Epoch 10: val_loss improved from 0.10142 to 0.09953, saving model to /disk1/jupyter/smhan/ASI-revised/output_norm/models/fc/asi_fc_weights.hdf5\n",
      "240/240 [==============================] - 1s 4ms/step - loss: 0.1071 - root_mean_squared_error: 0.1711 - val_loss: 0.0995 - val_root_mean_squared_error: 0.1589 - lr: 0.0019\n",
      "Epoch 11/300\n",
      "229/240 [===========================>..] - ETA: 0s - loss: 0.1062 - root_mean_squared_error: 0.1698\n",
      "Epoch 11: val_loss did not improve from 0.09953\n",
      "240/240 [==============================] - 1s 4ms/step - loss: 0.1063 - root_mean_squared_error: 0.1701 - val_loss: 0.1012 - val_root_mean_squared_error: 0.1608 - lr: 0.0019\n",
      "Epoch 12/300\n",
      "237/240 [============================>.] - ETA: 0s - loss: 0.1058 - root_mean_squared_error: 0.1694\n",
      "Epoch 12: val_loss did not improve from 0.09953\n",
      "240/240 [==============================] - 1s 4ms/step - loss: 0.1058 - root_mean_squared_error: 0.1694 - val_loss: 0.1020 - val_root_mean_squared_error: 0.1619 - lr: 0.0019\n",
      "Epoch 13/300\n",
      "235/240 [============================>.] - ETA: 0s - loss: 0.1064 - root_mean_squared_error: 0.1701\n",
      "Epoch 13: val_loss did not improve from 0.09953\n",
      "240/240 [==============================] - 1s 4ms/step - loss: 0.1062 - root_mean_squared_error: 0.1698 - val_loss: 0.1056 - val_root_mean_squared_error: 0.1643 - lr: 0.0019\n",
      "Epoch 14/300\n",
      "236/240 [============================>.] - ETA: 0s - loss: 0.1053 - root_mean_squared_error: 0.1684\n",
      "Epoch 14: val_loss improved from 0.09953 to 0.09938, saving model to /disk1/jupyter/smhan/ASI-revised/output_norm/models/fc/asi_fc_weights.hdf5\n",
      "240/240 [==============================] - 1s 4ms/step - loss: 0.1053 - root_mean_squared_error: 0.1683 - val_loss: 0.0994 - val_root_mean_squared_error: 0.1581 - lr: 0.0019\n",
      "Epoch 15/300\n",
      "239/240 [============================>.] - ETA: 0s - loss: 0.1046 - root_mean_squared_error: 0.1680\n",
      "Epoch 15: val_loss did not improve from 0.09938\n",
      "240/240 [==============================] - 1s 4ms/step - loss: 0.1046 - root_mean_squared_error: 0.1679 - val_loss: 0.1010 - val_root_mean_squared_error: 0.1573 - lr: 0.0019\n",
      "Epoch 16/300\n",
      "239/240 [============================>.] - ETA: 0s - loss: 0.1051 - root_mean_squared_error: 0.1679\n",
      "Epoch 16: val_loss improved from 0.09938 to 0.09852, saving model to /disk1/jupyter/smhan/ASI-revised/output_norm/models/fc/asi_fc_weights.hdf5\n",
      "240/240 [==============================] - 1s 4ms/step - loss: 0.1051 - root_mean_squared_error: 0.1679 - val_loss: 0.0985 - val_root_mean_squared_error: 0.1577 - lr: 0.0019\n",
      "Epoch 17/300\n",
      "233/240 [============================>.] - ETA: 0s - loss: 0.1042 - root_mean_squared_error: 0.1673\n",
      "Epoch 17: val_loss did not improve from 0.09852\n",
      "240/240 [==============================] - 1s 4ms/step - loss: 0.1042 - root_mean_squared_error: 0.1671 - val_loss: 0.1006 - val_root_mean_squared_error: 0.1573 - lr: 0.0019\n",
      "Epoch 18/300\n",
      "229/240 [===========================>..] - ETA: 0s - loss: 0.1037 - root_mean_squared_error: 0.1658\n",
      "Epoch 18: val_loss did not improve from 0.09852\n",
      "240/240 [==============================] - 1s 4ms/step - loss: 0.1037 - root_mean_squared_error: 0.1665 - val_loss: 0.0993 - val_root_mean_squared_error: 0.1566 - lr: 0.0019\n",
      "Epoch 19/300\n",
      "239/240 [============================>.] - ETA: 0s - loss: 0.1040 - root_mean_squared_error: 0.1665\n",
      "Epoch 19: val_loss did not improve from 0.09852\n",
      "240/240 [==============================] - 1s 4ms/step - loss: 0.1040 - root_mean_squared_error: 0.1665 - val_loss: 0.0986 - val_root_mean_squared_error: 0.1564 - lr: 0.0019\n",
      "Epoch 20/300\n",
      "240/240 [==============================] - ETA: 0s - loss: 0.1036 - root_mean_squared_error: 0.1664\n",
      "Epoch 20: val_loss did not improve from 0.09852\n",
      "240/240 [==============================] - 1s 4ms/step - loss: 0.1036 - root_mean_squared_error: 0.1664 - val_loss: 0.1074 - val_root_mean_squared_error: 0.1620 - lr: 0.0019\n",
      "Epoch 21/300\n",
      "239/240 [============================>.] - ETA: 0s - loss: 0.1035 - root_mean_squared_error: 0.1660\n",
      "Epoch 21: val_loss improved from 0.09852 to 0.09679, saving model to /disk1/jupyter/smhan/ASI-revised/output_norm/models/fc/asi_fc_weights.hdf5\n",
      "240/240 [==============================] - 1s 4ms/step - loss: 0.1035 - root_mean_squared_error: 0.1662 - val_loss: 0.0968 - val_root_mean_squared_error: 0.1536 - lr: 0.0019\n",
      "Epoch 22/300\n",
      "235/240 [============================>.] - ETA: 0s - loss: 0.1041 - root_mean_squared_error: 0.1664\n",
      "Epoch 22: val_loss did not improve from 0.09679\n",
      "240/240 [==============================] - 1s 4ms/step - loss: 0.1042 - root_mean_squared_error: 0.1666 - val_loss: 0.0983 - val_root_mean_squared_error: 0.1554 - lr: 0.0019\n"
     ]
    },
    {
     "name": "stdout",
     "output_type": "stream",
     "text": [
      "Epoch 23/300\n",
      "240/240 [==============================] - ETA: 0s - loss: 0.1040 - root_mean_squared_error: 0.1664\n",
      "Epoch 23: val_loss did not improve from 0.09679\n",
      "240/240 [==============================] - 1s 4ms/step - loss: 0.1040 - root_mean_squared_error: 0.1664 - val_loss: 0.1153 - val_root_mean_squared_error: 0.1726 - lr: 0.0019\n",
      "Epoch 24/300\n",
      "236/240 [============================>.] - ETA: 0s - loss: 0.1047 - root_mean_squared_error: 0.1669\n",
      "Epoch 24: val_loss did not improve from 0.09679\n",
      "240/240 [==============================] - 1s 4ms/step - loss: 0.1046 - root_mean_squared_error: 0.1669 - val_loss: 0.1029 - val_root_mean_squared_error: 0.1621 - lr: 0.0019\n",
      "Epoch 25/300\n",
      "240/240 [==============================] - ETA: 0s - loss: 0.1026 - root_mean_squared_error: 0.1654\n",
      "Epoch 25: val_loss did not improve from 0.09679\n",
      "240/240 [==============================] - 1s 4ms/step - loss: 0.1026 - root_mean_squared_error: 0.1654 - val_loss: 0.0976 - val_root_mean_squared_error: 0.1542 - lr: 0.0019\n",
      "Epoch 26/300\n",
      "229/240 [===========================>..] - ETA: 0s - loss: 0.1031 - root_mean_squared_error: 0.1650\n",
      "Epoch 26: val_loss did not improve from 0.09679\n",
      "240/240 [==============================] - 1s 4ms/step - loss: 0.1031 - root_mean_squared_error: 0.1654 - val_loss: 0.1069 - val_root_mean_squared_error: 0.1626 - lr: 0.0019\n",
      "Epoch 27/300\n",
      "240/240 [==============================] - ETA: 0s - loss: 0.0982 - root_mean_squared_error: 0.1614\n",
      "Epoch 27: val_loss improved from 0.09679 to 0.09553, saving model to /disk1/jupyter/smhan/ASI-revised/output_norm/models/fc/asi_fc_weights.hdf5\n",
      "240/240 [==============================] - 1s 4ms/step - loss: 0.0982 - root_mean_squared_error: 0.1614 - val_loss: 0.0955 - val_root_mean_squared_error: 0.1532 - lr: 1.9000e-04\n",
      "Epoch 28/300\n",
      "236/240 [============================>.] - ETA: 0s - loss: 0.0977 - root_mean_squared_error: 0.1610\n",
      "Epoch 28: val_loss improved from 0.09553 to 0.09539, saving model to /disk1/jupyter/smhan/ASI-revised/output_norm/models/fc/asi_fc_weights.hdf5\n",
      "240/240 [==============================] - 1s 4ms/step - loss: 0.0976 - root_mean_squared_error: 0.1609 - val_loss: 0.0954 - val_root_mean_squared_error: 0.1531 - lr: 1.9000e-04\n",
      "Epoch 29/300\n",
      "227/240 [===========================>..] - ETA: 0s - loss: 0.0977 - root_mean_squared_error: 0.1614\n",
      "Epoch 29: val_loss did not improve from 0.09539\n",
      "240/240 [==============================] - 1s 4ms/step - loss: 0.0976 - root_mean_squared_error: 0.1608 - val_loss: 0.0957 - val_root_mean_squared_error: 0.1529 - lr: 1.9000e-04\n",
      "Epoch 30/300\n",
      "233/240 [============================>.] - ETA: 0s - loss: 0.0975 - root_mean_squared_error: 0.1607\n",
      "Epoch 30: val_loss did not improve from 0.09539\n",
      "240/240 [==============================] - 1s 4ms/step - loss: 0.0975 - root_mean_squared_error: 0.1607 - val_loss: 0.0956 - val_root_mean_squared_error: 0.1529 - lr: 1.9000e-04\n",
      "Epoch 31/300\n",
      "235/240 [============================>.] - ETA: 0s - loss: 0.0975 - root_mean_squared_error: 0.1606\n",
      "Epoch 31: val_loss improved from 0.09539 to 0.09525, saving model to /disk1/jupyter/smhan/ASI-revised/output_norm/models/fc/asi_fc_weights.hdf5\n",
      "240/240 [==============================] - 1s 4ms/step - loss: 0.0974 - root_mean_squared_error: 0.1605 - val_loss: 0.0953 - val_root_mean_squared_error: 0.1528 - lr: 1.9000e-04\n",
      "Epoch 32/300\n",
      "237/240 [============================>.] - ETA: 0s - loss: 0.0975 - root_mean_squared_error: 0.1608\n",
      "Epoch 32: val_loss did not improve from 0.09525\n",
      "240/240 [==============================] - 1s 4ms/step - loss: 0.0974 - root_mean_squared_error: 0.1606 - val_loss: 0.0961 - val_root_mean_squared_error: 0.1530 - lr: 1.9000e-04\n",
      "Epoch 33/300\n",
      "237/240 [============================>.] - ETA: 0s - loss: 0.0974 - root_mean_squared_error: 0.1606\n",
      "Epoch 33: val_loss did not improve from 0.09525\n",
      "240/240 [==============================] - 1s 4ms/step - loss: 0.0974 - root_mean_squared_error: 0.1605 - val_loss: 0.0961 - val_root_mean_squared_error: 0.1534 - lr: 1.9000e-04\n",
      "Epoch 34/300\n",
      "240/240 [==============================] - ETA: 0s - loss: 0.0975 - root_mean_squared_error: 0.1606\n",
      "Epoch 34: val_loss did not improve from 0.09525\n",
      "240/240 [==============================] - 1s 4ms/step - loss: 0.0975 - root_mean_squared_error: 0.1606 - val_loss: 0.0956 - val_root_mean_squared_error: 0.1532 - lr: 1.9000e-04\n",
      "Epoch 35/300\n",
      "227/240 [===========================>..] - ETA: 0s - loss: 0.0977 - root_mean_squared_error: 0.1607\n",
      "Epoch 35: val_loss did not improve from 0.09525\n",
      "240/240 [==============================] - 1s 4ms/step - loss: 0.0977 - root_mean_squared_error: 0.1607 - val_loss: 0.0965 - val_root_mean_squared_error: 0.1531 - lr: 1.9000e-04\n",
      "Epoch 36/300\n",
      "240/240 [==============================] - ETA: 0s - loss: 0.0973 - root_mean_squared_error: 0.1603\n",
      "Epoch 36: val_loss did not improve from 0.09525\n",
      "240/240 [==============================] - 1s 4ms/step - loss: 0.0973 - root_mean_squared_error: 0.1603 - val_loss: 0.0965 - val_root_mean_squared_error: 0.1537 - lr: 1.9000e-04\n",
      "Epoch 37/300\n",
      "238/240 [============================>.] - ETA: 0s - loss: 0.0967 - root_mean_squared_error: 0.1598\n",
      "Epoch 37: val_loss did not improve from 0.09525\n",
      "240/240 [==============================] - 1s 4ms/step - loss: 0.0967 - root_mean_squared_error: 0.1599 - val_loss: 0.0953 - val_root_mean_squared_error: 0.1527 - lr: 1.9000e-05\n",
      "Epoch 38/300\n",
      "240/240 [==============================] - ETA: 0s - loss: 0.0966 - root_mean_squared_error: 0.1597\n",
      "Epoch 38: val_loss did not improve from 0.09525\n",
      "240/240 [==============================] - 1s 4ms/step - loss: 0.0966 - root_mean_squared_error: 0.1597 - val_loss: 0.0953 - val_root_mean_squared_error: 0.1528 - lr: 1.9000e-05\n",
      "Epoch 39/300\n",
      "237/240 [============================>.] - ETA: 0s - loss: 0.0966 - root_mean_squared_error: 0.1595\n",
      "Epoch 39: val_loss did not improve from 0.09525\n",
      "240/240 [==============================] - 1s 4ms/step - loss: 0.0966 - root_mean_squared_error: 0.1597 - val_loss: 0.0953 - val_root_mean_squared_error: 0.1527 - lr: 1.9000e-05\n",
      "Epoch 40/300\n",
      "227/240 [===========================>..] - ETA: 0s - loss: 0.0967 - root_mean_squared_error: 0.1597\n",
      "Epoch 40: val_loss did not improve from 0.09525\n",
      "240/240 [==============================] - 1s 4ms/step - loss: 0.0966 - root_mean_squared_error: 0.1598 - val_loss: 0.0953 - val_root_mean_squared_error: 0.1528 - lr: 1.9000e-05\n",
      "Epoch 41/300\n",
      "229/240 [===========================>..] - ETA: 0s - loss: 0.0964 - root_mean_squared_error: 0.1589\n",
      "Epoch 41: val_loss did not improve from 0.09525\n",
      "240/240 [==============================] - 1s 4ms/step - loss: 0.0966 - root_mean_squared_error: 0.1597 - val_loss: 0.0954 - val_root_mean_squared_error: 0.1527 - lr: 1.9000e-05\n",
      "520/520 [==============================] - 1s 1ms/step\n",
      "2079/2079 [==============================] - 2s 1ms/step\n",
      "267/267 [==============================] - 0s 894us/step\n",
      "67/67 [==============================] - 0s 1ms/step\n",
      "267/267 [==============================] - 0s 977us/step\n",
      "67/67 [==============================] - 0s 1ms/step\n"
     ]
    }
   ],
   "source": [
    "dataset,\\\n",
    "result,\\\n",
    "fit,\\\n",
    "embedded_train,\\\n",
    "embedded_test,\\\n",
    "predict_regression_train,\\\n",
    "predict_regression_test = spatial()"
   ]
  },
  {
   "cell_type": "code",
   "execution_count": 6,
   "metadata": {
    "scrolled": true
   },
   "outputs": [
    {
     "name": "stdout",
     "output_type": "stream",
     "text": [
      "################# Test ##########################\n",
      "MALE test:.... 0.09734639487982186\n",
      "RMSE test:.... 22797.38340049712\n",
      "MAPE test:.... 6.269971914854147\n",
      "################# Train ##########################\n",
      "MALE train:.... 0.09687783758112879\n",
      "RMSE train:.... 22677.396780960968\n",
      "MAPE train:.... 6.224593706731999\n"
     ]
    }
   ],
   "source": [
    "print('################# Test ##########################')\n",
    "print('MALE test:.... {}'.format(result[0]))\n",
    "print('RMSE test:.... {}'.format(result[1]))\n",
    "print('MAPE test:.... {}'.format(result[2]))\n",
    "print('################# Train ##########################')\n",
    "print('MALE train:.... {}'.format(result[3]))\n",
    "print('RMSE train:.... {}'.format(result[4]))\n",
    "print('MAPE train:.... {}'.format(result[5]))"
   ]
  },
  {
   "cell_type": "code",
   "execution_count": 7,
   "metadata": {},
   "outputs": [],
   "source": [
    "from sklearn.metrics import r2_score\n",
    "import numpy as np\n",
    "\n",
    "# metric\n",
    "def metric(pred, label):\n",
    "    assert label.shape == pred.shape\n",
    "    \n",
    "    with np.errstate(divide = 'ignore', invalid = 'ignore'):\n",
    "        mask = np.not_equal(label, 0)\n",
    "        mask = mask.astype(np.float32)\n",
    "        mask /= np.mean(mask)\n",
    "        male = np.abs(np.subtract(np.log(pred), np.log(label))).astype(np.float32)\n",
    "        male = np.nan_to_num(male * mask)\n",
    "        male = np.mean(male)\n",
    "        mae = np.abs(np.subtract(pred, label)).astype(np.float32)\n",
    "        rmse = np.square(mae)\n",
    "        mape = np.divide(mae, label)\n",
    "        mae = np.nan_to_num(mae * mask)\n",
    "        mae = np.mean(mae)\n",
    "        rmse = np.nan_to_num(rmse * mask)\n",
    "        rmse = np.sqrt(np.mean(rmse))\n",
    "        mape = np.nan_to_num(mape * mask)\n",
    "        mape = np.median(mape) # np.mean(mape) -- author leverages median\n",
    "    return male, rmse, mape\n",
    "\n"
   ]
  },
  {
   "cell_type": "code",
   "execution_count": 8,
   "metadata": {},
   "outputs": [
    {
     "data": {
      "text/plain": [
       "(0.097346395, 22797.383, 0.06269971914854187)"
      ]
     },
     "execution_count": 8,
     "metadata": {},
     "output_type": "execute_result"
    }
   ],
   "source": [
    "y_label = np.exp(dataset.y_test)\n",
    "y_pred = np.exp(result[6].flatten())\n",
    "metric(y_pred, y_label) # should be same value"
   ]
  },
  {
   "cell_type": "code",
   "execution_count": 9,
   "metadata": {},
   "outputs": [
    {
     "data": {
      "text/plain": [
       "<matplotlib.collections.PathCollection at 0x7f67182001c0>"
      ]
     },
     "execution_count": 9,
     "metadata": {},
     "output_type": "execute_result"
    },
    {
     "data": {
      "image/png": "[encoded data removed]",
      "text/plain": [
       "<Figure size 800x400 with 1 Axes>"
      ]
     },
     "metadata": {},
     "output_type": "display_data"
    }
   ],
   "source": [
    "plt.scatter(y_label, y_pred)"
   ]
  },
  {
   "cell_type": "code",
   "execution_count": null,
   "metadata": {},
   "outputs": [],
   "source": []
  }
 ],
 "metadata": {
  "kernelspec": {
   "display_name": "TF2",
   "language": "python",
   "name": "tf2"
  },
  "language_info": {
   "codemirror_mode": {
    "name": "ipython",
    "version": 3
   },
   "file_extension": ".py",
   "mimetype": "text/x-python",
   "name": "python",
   "nbconvert_exporter": "python",
   "pygments_lexer": "ipython3",
   "version": "3.10.8"
  }
 },
 "nbformat": 4,
 "nbformat_minor": 4
}
