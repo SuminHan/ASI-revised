{
 "cells": [
  {
   "cell_type": "code",
   "execution_count": 1,
   "metadata": {},
   "outputs": [],
   "source": [
    "import os\n",
    "os.environ[\"CUDA_VISIBLE_DEVICES\"]= '1'"
   ]
  },
  {
   "cell_type": "code",
   "execution_count": 2,
   "metadata": {
    "scrolled": true
   },
   "outputs": [
    {
     "name": "stderr",
     "output_type": "stream",
     "text": [
      "2023-08-22 10:56:56.644139: I tensorflow/core/platform/cpu_feature_guard.cc:193] This TensorFlow binary is optimized with oneAPI Deep Neural Network Library (oneDNN) to use the following CPU instructions in performance-critical operations:  SSE4.1 SSE4.2 AVX AVX2 FMA\n",
      "To enable them in other operations, rebuild TensorFlow with the appropriate compiler flags.\n"
     ]
    }
   ],
   "source": [
    "%matplotlib inline\n",
    "\n",
    "import sys\n",
    "sys.path.append(\"../../\")\n",
    "\n",
    "from train_model_sm import train\n",
    "\n",
    "from sklearn.linear_model import LinearRegression\n",
    "from yellowbrick.regressor import ResidualsPlot, PredictionError\n",
    "\n",
    "import seaborn as sns\n",
    "import matplotlib.pyplot as plt\n",
    "\n",
    "from matplotlib import rcParams\n",
    "rcParams['figure.figsize'] = (8, 4)\n",
    "rcParams['figure.dpi'] = 100\n",
    "rcParams['font.size'] = 8\n",
    "rcParams['font.family'] = 'sans-serif'\n",
    "rcParams['axes.facecolor'] = '#ffffff'\n",
    "rcParams['lines.linewidth'] = 2.0"
   ]
  },
  {
   "cell_type": "code",
   "execution_count": 3,
   "metadata": {
    "scrolled": true
   },
   "outputs": [],
   "source": [
    "hyperparameter={\n",
    "\"num_nearest\":60,\n",
    "\"sigma\":2,\n",
    "\"learning_rate\":0.001,\n",
    "\"batch_size\":250,\n",
    "\"num_neuron\":60,\n",
    "\"num_layers\":3,\n",
    "\"size_embedded\":50,\n",
    "\"num_nearest_geo\":45,\n",
    "\"num_nearest_eucli\":45,\n",
    "\"id_dataset\":'kc',\n",
    "\"epochs\":300,\n",
    "\"optimier\":'adam',\n",
    "\"validation_split\":0.1,\n",
    "\"label\":'asi_kc',\n",
    "\"early_stopping\": False,\n",
    "\"graph_label\":'matrix',\n",
    "\"sequence\":'_normalized'\n",
    "}"
   ]
  },
  {
   "cell_type": "markdown",
   "metadata": {},
   "source": [
    "# Model"
   ]
  },
  {
   "cell_type": "code",
   "execution_count": 4,
   "metadata": {},
   "outputs": [],
   "source": [
    "spatial = train(**hyperparameter)"
   ]
  },
  {
   "cell_type": "code",
   "execution_count": 5,
   "metadata": {
    "scrolled": true
   },
   "outputs": [
    {
     "name": "stdout",
     "output_type": "stream",
     "text": [
      "node2vec (21608, 18)\n"
     ]
    },
    {
     "name": "stderr",
     "output_type": "stream",
     "text": [
      "2023-08-22 10:56:58.350187: I tensorflow/compiler/xla/stream_executor/cuda/cuda_gpu_executor.cc:981] successful NUMA node read from SysFS had negative value (-1), but there must be at least one NUMA node, so returning NUMA node zero\n",
      "2023-08-22 10:56:58.354265: I tensorflow/compiler/xla/stream_executor/cuda/cuda_gpu_executor.cc:981] successful NUMA node read from SysFS had negative value (-1), but there must be at least one NUMA node, so returning NUMA node zero\n",
      "2023-08-22 10:56:58.354719: I tensorflow/compiler/xla/stream_executor/cuda/cuda_gpu_executor.cc:981] successful NUMA node read from SysFS had negative value (-1), but there must be at least one NUMA node, so returning NUMA node zero\n",
      "2023-08-22 10:56:58.355462: I tensorflow/core/platform/cpu_feature_guard.cc:193] This TensorFlow binary is optimized with oneAPI Deep Neural Network Library (oneDNN) to use the following CPU instructions in performance-critical operations:  SSE4.1 SSE4.2 AVX AVX2 FMA\n",
      "To enable them in other operations, rebuild TensorFlow with the appropriate compiler flags.\n",
      "2023-08-22 10:56:58.357492: I tensorflow/compiler/xla/stream_executor/cuda/cuda_gpu_executor.cc:981] successful NUMA node read from SysFS had negative value (-1), but there must be at least one NUMA node, so returning NUMA node zero\n",
      "2023-08-22 10:56:58.357744: I tensorflow/compiler/xla/stream_executor/cuda/cuda_gpu_executor.cc:981] successful NUMA node read from SysFS had negative value (-1), but there must be at least one NUMA node, so returning NUMA node zero\n",
      "2023-08-22 10:56:58.357969: I tensorflow/compiler/xla/stream_executor/cuda/cuda_gpu_executor.cc:981] successful NUMA node read from SysFS had negative value (-1), but there must be at least one NUMA node, so returning NUMA node zero\n",
      "2023-08-22 10:56:58.733950: I tensorflow/compiler/xla/stream_executor/cuda/cuda_gpu_executor.cc:981] successful NUMA node read from SysFS had negative value (-1), but there must be at least one NUMA node, so returning NUMA node zero\n",
      "2023-08-22 10:56:58.734238: I tensorflow/compiler/xla/stream_executor/cuda/cuda_gpu_executor.cc:981] successful NUMA node read from SysFS had negative value (-1), but there must be at least one NUMA node, so returning NUMA node zero\n",
      "2023-08-22 10:56:58.734465: I tensorflow/compiler/xla/stream_executor/cuda/cuda_gpu_executor.cc:981] successful NUMA node read from SysFS had negative value (-1), but there must be at least one NUMA node, so returning NUMA node zero\n",
      "2023-08-22 10:56:58.734768: I tensorflow/core/common_runtime/gpu/gpu_device.cc:1613] Created device /job:localhost/replica:0/task:0/device:GPU:0 with 22273 MB memory:  -> device: 0, name: NVIDIA GeForce RTX 3090, pci bus id: 0000:81:00.0, compute capability: 8.6\n"
     ]
    },
    {
     "name": "stdout",
     "output_type": "stream",
     "text": [
      "self.dist_eucli.shape, self.context_struc_eucli_target.shape, self.n2v_eucli.shape (None, 45) (None, 45, 19) (None, 46, 18)\n",
      "self.dist_geo.shape, self.context_geo_target_dist.shape, self.n2v_geo.shape (None, 45) (None, 45, 20) (None, 46, 18)\n",
      "WARNING:tensorflow:From /home/smhan/.conda/envs/TF2/lib/python3.10/site-packages/tensorflow/python/autograph/pyct/static_analysis/liveness.py:83: Analyzer.lamba_check (from tensorflow.python.autograph.pyct.static_analysis.liveness) is deprecated and will be removed after 2023-09-23.\n",
      "Instructions for updating:\n",
      "Lambda fuctions will be no more assumed to be used in the statement where they are used, or at least in the same block. https://github.com/tensorflow/tensorflow/issues/56089\n",
      "self.input_phenomenon.shape Tensor(\"Placeholder:0\", shape=(None, 18), dtype=float32)\n",
      "self.source_distance.shape (None, 45)\n",
      "self.context.shape (None, 45, 20)\n",
      "self.n2v.shape (None, 46, 18)\n",
      "att_query.shape, att_value.shape (None, 1, 64) (None, 45, 64)\n",
      "att_output (None, 64)\n",
      "feedforward (None, 60)\n",
      "Epoch 1/300\n",
      "self.input_phenomenon.shape Tensor(\"IteratorGetNext:0\", shape=(None, 18), dtype=float32)\n",
      "self.source_distance.shape (None, 45)\n",
      "self.context.shape (None, 45, 20)\n",
      "self.n2v.shape (None, 46, 18)\n",
      "att_query.shape, att_value.shape (None, 1, 64) (None, 45, 64)\n",
      "att_output (None, 64)\n",
      "self.input_phenomenon.shape Tensor(\"IteratorGetNext:0\", shape=(None, 18), dtype=float32)\n",
      "self.source_distance.shape (None, 45)\n",
      "self.context.shape (None, 45, 20)\n",
      "self.n2v.shape (None, 46, 18)\n",
      "att_query.shape, att_value.shape (None, 1, 64) (None, 45, 64)\n",
      "att_output (None, 64)\n"
     ]
    },
    {
     "name": "stderr",
     "output_type": "stream",
     "text": [
      "2023-08-22 10:57:02.470533: I tensorflow/compiler/xla/stream_executor/cuda/cuda_blas.cc:630] TensorFloat-32 will be used for the matrix multiplication. This will only be logged once.\n",
      "2023-08-22 10:57:02.477990: I tensorflow/compiler/xla/service/service.cc:173] XLA service 0x563160de4b10 initialized for platform CUDA (this does not guarantee that XLA will be used). Devices:\n",
      "2023-08-22 10:57:02.478016: I tensorflow/compiler/xla/service/service.cc:181]   StreamExecutor device (0): NVIDIA GeForce RTX 3090, Compute Capability 8.6\n",
      "2023-08-22 10:57:02.481535: I tensorflow/compiler/mlir/tensorflow/utils/dump_mlir_util.cc:268] disabling MLIR crash reproducer, set env var `MLIR_CRASH_REPRODUCER_DIRECTORY` to enable.\n",
      "2023-08-22 10:57:02.565369: I tensorflow/compiler/jit/xla_compilation_cache.cc:477] Compiled cluster using XLA!  This line is logged at most once for the lifetime of the process.\n"
     ]
    },
    {
     "name": "stdout",
     "output_type": "stream",
     "text": [
      "62/63 [============================>.] - ETA: 0s - loss: 2.1582 - root_mean_squared_error: 4.2358self.input_phenomenon.shape Tensor(\"IteratorGetNext:0\", shape=(None, 18), dtype=float32)\n",
      "self.source_distance.shape (None, 45)\n",
      "self.context.shape (None, 45, 20)\n",
      "self.n2v.shape (None, 46, 18)\n",
      "att_query.shape, att_value.shape (None, 1, 64) (None, 45, 64)\n",
      "att_output (None, 64)\n",
      "\n",
      "Epoch 1: val_loss improved from inf to 0.20350, saving model to /disk1/jupyter/smhan/ASI-revised/output_sm/models/kc/asi_kc_weights.hdf5\n",
      "63/63 [==============================] - 6s 14ms/step - loss: 2.1512 - root_mean_squared_error: 4.2280 - val_loss: 0.2035 - val_root_mean_squared_error: 0.2877 - lr: 0.0010\n",
      "Epoch 2/300\n",
      "63/63 [==============================] - ETA: 0s - loss: 0.1798 - root_mean_squared_error: 0.2401\n",
      "Epoch 2: val_loss improved from 0.20350 to 0.19949, saving model to /disk1/jupyter/smhan/ASI-revised/output_sm/models/kc/asi_kc_weights.hdf5\n",
      "63/63 [==============================] - 1s 9ms/step - loss: 0.1798 - root_mean_squared_error: 0.2401 - val_loss: 0.1995 - val_root_mean_squared_error: 0.2459 - lr: 0.0010\n",
      "Epoch 3/300\n",
      "57/63 [==========================>...] - ETA: 0s - loss: 0.1541 - root_mean_squared_error: 0.2014\n",
      "Epoch 3: val_loss improved from 0.19949 to 0.12666, saving model to /disk1/jupyter/smhan/ASI-revised/output_sm/models/kc/asi_kc_weights.hdf5\n",
      "63/63 [==============================] - 1s 9ms/step - loss: 0.1532 - root_mean_squared_error: 0.2007 - val_loss: 0.1267 - val_root_mean_squared_error: 0.1764 - lr: 0.0010\n",
      "Epoch 4/300\n",
      "59/63 [===========================>..] - ETA: 0s - loss: 0.1354 - root_mean_squared_error: 0.1820\n",
      "Epoch 4: val_loss did not improve from 0.12666\n",
      "63/63 [==============================] - 1s 9ms/step - loss: 0.1352 - root_mean_squared_error: 0.1815 - val_loss: 0.1572 - val_root_mean_squared_error: 0.2039 - lr: 0.0010\n",
      "Epoch 5/300\n",
      "62/63 [============================>.] - ETA: 0s - loss: 0.1456 - root_mean_squared_error: 0.1930\n",
      "Epoch 5: val_loss did not improve from 0.12666\n",
      "63/63 [==============================] - 1s 9ms/step - loss: 0.1456 - root_mean_squared_error: 0.1929 - val_loss: 0.1422 - val_root_mean_squared_error: 0.1895 - lr: 0.0010\n",
      "Epoch 6/300\n",
      "60/63 [===========================>..] - ETA: 0s - loss: 0.1475 - root_mean_squared_error: 0.1931\n",
      "Epoch 6: val_loss did not improve from 0.12666\n",
      "63/63 [==============================] - 1s 9ms/step - loss: 0.1471 - root_mean_squared_error: 0.1929 - val_loss: 0.1496 - val_root_mean_squared_error: 0.1962 - lr: 0.0010\n",
      "Epoch 7/300\n",
      "63/63 [==============================] - ETA: 0s - loss: 0.1302 - root_mean_squared_error: 0.1762\n",
      "Epoch 7: val_loss improved from 0.12666 to 0.11959, saving model to /disk1/jupyter/smhan/ASI-revised/output_sm/models/kc/asi_kc_weights.hdf5\n",
      "63/63 [==============================] - 1s 9ms/step - loss: 0.1302 - root_mean_squared_error: 0.1762 - val_loss: 0.1196 - val_root_mean_squared_error: 0.1670 - lr: 0.0010\n",
      "Epoch 8/300\n",
      "57/63 [==========================>...] - ETA: 0s - loss: 0.1246 - root_mean_squared_error: 0.1697\n",
      "Epoch 8: val_loss improved from 0.11959 to 0.11759, saving model to /disk1/jupyter/smhan/ASI-revised/output_sm/models/kc/asi_kc_weights.hdf5\n",
      "63/63 [==============================] - 1s 10ms/step - loss: 0.1248 - root_mean_squared_error: 0.1704 - val_loss: 0.1176 - val_root_mean_squared_error: 0.1658 - lr: 0.0010\n",
      "Epoch 9/300\n",
      "62/63 [============================>.] - ETA: 0s - loss: 0.1354 - root_mean_squared_error: 0.1810\n",
      "Epoch 9: val_loss did not improve from 0.11759\n",
      "63/63 [==============================] - 1s 9ms/step - loss: 0.1353 - root_mean_squared_error: 0.1810 - val_loss: 0.1324 - val_root_mean_squared_error: 0.1804 - lr: 0.0010\n",
      "Epoch 10/300\n",
      "62/63 [============================>.] - ETA: 0s - loss: 0.1308 - root_mean_squared_error: 0.1766\n",
      "Epoch 10: val_loss did not improve from 0.11759\n",
      "63/63 [==============================] - 1s 9ms/step - loss: 0.1307 - root_mean_squared_error: 0.1765 - val_loss: 0.1283 - val_root_mean_squared_error: 0.1758 - lr: 0.0010\n",
      "Epoch 11/300\n",
      "63/63 [==============================] - ETA: 0s - loss: 0.1234 - root_mean_squared_error: 0.1691\n",
      "Epoch 11: val_loss did not improve from 0.11759\n",
      "63/63 [==============================] - 1s 9ms/step - loss: 0.1234 - root_mean_squared_error: 0.1691 - val_loss: 0.1303 - val_root_mean_squared_error: 0.1780 - lr: 0.0010\n",
      "Epoch 12/300\n",
      "62/63 [============================>.] - ETA: 0s - loss: 0.1297 - root_mean_squared_error: 0.1756\n",
      "Epoch 12: val_loss did not improve from 0.11759\n",
      "63/63 [==============================] - 1s 9ms/step - loss: 0.1297 - root_mean_squared_error: 0.1756 - val_loss: 0.1247 - val_root_mean_squared_error: 0.1734 - lr: 0.0010\n",
      "Epoch 13/300\n",
      "62/63 [============================>.] - ETA: 0s - loss: 0.1230 - root_mean_squared_error: 0.1685\n",
      "Epoch 13: val_loss improved from 0.11759 to 0.11472, saving model to /disk1/jupyter/smhan/ASI-revised/output_sm/models/kc/asi_kc_weights.hdf5\n",
      "63/63 [==============================] - 1s 9ms/step - loss: 0.1230 - root_mean_squared_error: 0.1686 - val_loss: 0.1147 - val_root_mean_squared_error: 0.1649 - lr: 0.0010\n",
      "Epoch 14/300\n",
      "56/63 [=========================>....] - ETA: 0s - loss: 0.1210 - root_mean_squared_error: 0.1664\n",
      "Epoch 14: val_loss did not improve from 0.11472\n",
      "63/63 [==============================] - 1s 9ms/step - loss: 0.1208 - root_mean_squared_error: 0.1664 - val_loss: 0.1285 - val_root_mean_squared_error: 0.1762 - lr: 0.0010\n",
      "Epoch 15/300\n",
      "57/63 [==========================>...] - ETA: 0s - loss: 0.1311 - root_mean_squared_error: 0.1761\n",
      "Epoch 15: val_loss did not improve from 0.11472\n",
      "63/63 [==============================] - 1s 9ms/step - loss: 0.1303 - root_mean_squared_error: 0.1755 - val_loss: 0.1282 - val_root_mean_squared_error: 0.1753 - lr: 0.0010\n",
      "Epoch 16/300\n",
      "61/63 [============================>.] - ETA: 0s - loss: 0.1185 - root_mean_squared_error: 0.1639\n",
      "Epoch 16: val_loss did not improve from 0.11472\n",
      "63/63 [==============================] - 1s 9ms/step - loss: 0.1185 - root_mean_squared_error: 0.1639 - val_loss: 0.1162 - val_root_mean_squared_error: 0.1655 - lr: 0.0010\n",
      "Epoch 17/300\n",
      "61/63 [============================>.] - ETA: 0s - loss: 0.1179 - root_mean_squared_error: 0.1633\n",
      "Epoch 17: val_loss did not improve from 0.11472\n",
      "63/63 [==============================] - 1s 9ms/step - loss: 0.1177 - root_mean_squared_error: 0.1631 - val_loss: 0.1155 - val_root_mean_squared_error: 0.1646 - lr: 0.0010\n",
      "Epoch 18/300\n",
      "62/63 [============================>.] - ETA: 0s - loss: 0.1176 - root_mean_squared_error: 0.1634\n",
      "Epoch 18: val_loss improved from 0.11472 to 0.11403, saving model to /disk1/jupyter/smhan/ASI-revised/output_sm/models/kc/asi_kc_weights.hdf5\n",
      "63/63 [==============================] - 1s 9ms/step - loss: 0.1176 - root_mean_squared_error: 0.1634 - val_loss: 0.1140 - val_root_mean_squared_error: 0.1650 - lr: 0.0010\n",
      "Epoch 19/300\n",
      "60/63 [===========================>..] - ETA: 0s - loss: 0.1198 - root_mean_squared_error: 0.1649\n",
      "Epoch 19: val_loss did not improve from 0.11403\n",
      "63/63 [==============================] - 1s 9ms/step - loss: 0.1197 - root_mean_squared_error: 0.1649 - val_loss: 0.1169 - val_root_mean_squared_error: 0.1682 - lr: 0.0010\n",
      "Epoch 20/300\n",
      "58/63 [==========================>...] - ETA: 0s - loss: 0.1388 - root_mean_squared_error: 0.1828\n",
      "Epoch 20: val_loss did not improve from 0.11403\n",
      "63/63 [==============================] - 1s 9ms/step - loss: 0.1384 - root_mean_squared_error: 0.1825 - val_loss: 0.1162 - val_root_mean_squared_error: 0.1669 - lr: 0.0010\n",
      "Epoch 21/300\n",
      "57/63 [==========================>...] - ETA: 0s - loss: 0.1253 - root_mean_squared_error: 0.1713\n",
      "Epoch 21: val_loss did not improve from 0.11403\n",
      "63/63 [==============================] - 1s 9ms/step - loss: 0.1249 - root_mean_squared_error: 0.1708 - val_loss: 0.1415 - val_root_mean_squared_error: 0.1880 - lr: 0.0010\n",
      "Epoch 22/300\n",
      "63/63 [==============================] - ETA: 0s - loss: 0.1178 - root_mean_squared_error: 0.1630\n",
      "Epoch 22: val_loss did not improve from 0.11403\n",
      "63/63 [==============================] - 1s 9ms/step - loss: 0.1178 - root_mean_squared_error: 0.1630 - val_loss: 0.1161 - val_root_mean_squared_error: 0.1648 - lr: 0.0010\n",
      "Epoch 23/300\n"
     ]
    },
    {
     "name": "stdout",
     "output_type": "stream",
     "text": [
      "60/63 [===========================>..] - ETA: 0s - loss: 0.1161 - root_mean_squared_error: 0.1612\n",
      "Epoch 23: val_loss did not improve from 0.11403\n",
      "63/63 [==============================] - 1s 9ms/step - loss: 0.1163 - root_mean_squared_error: 0.1616 - val_loss: 0.1405 - val_root_mean_squared_error: 0.1865 - lr: 0.0010\n",
      "Epoch 24/300\n",
      "60/63 [===========================>..] - ETA: 0s - loss: 0.1132 - root_mean_squared_error: 0.1588\n",
      "Epoch 24: val_loss did not improve from 0.11403\n",
      "63/63 [==============================] - 1s 9ms/step - loss: 0.1129 - root_mean_squared_error: 0.1585 - val_loss: 0.1145 - val_root_mean_squared_error: 0.1636 - lr: 1.0000e-04\n",
      "Epoch 25/300\n",
      "63/63 [==============================] - ETA: 0s - loss: 0.1113 - root_mean_squared_error: 0.1570\n",
      "Epoch 25: val_loss improved from 0.11403 to 0.11300, saving model to /disk1/jupyter/smhan/ASI-revised/output_sm/models/kc/asi_kc_weights.hdf5\n",
      "63/63 [==============================] - 1s 9ms/step - loss: 0.1113 - root_mean_squared_error: 0.1570 - val_loss: 0.1130 - val_root_mean_squared_error: 0.1624 - lr: 1.0000e-04\n",
      "Epoch 26/300\n",
      "60/63 [===========================>..] - ETA: 0s - loss: 0.1112 - root_mean_squared_error: 0.1573\n",
      "Epoch 26: val_loss improved from 0.11300 to 0.11222, saving model to /disk1/jupyter/smhan/ASI-revised/output_sm/models/kc/asi_kc_weights.hdf5\n",
      "63/63 [==============================] - 1s 9ms/step - loss: 0.1109 - root_mean_squared_error: 0.1568 - val_loss: 0.1122 - val_root_mean_squared_error: 0.1620 - lr: 1.0000e-04\n",
      "Epoch 27/300\n",
      "57/63 [==========================>...] - ETA: 0s - loss: 0.1107 - root_mean_squared_error: 0.1563\n",
      "Epoch 27: val_loss did not improve from 0.11222\n",
      "63/63 [==============================] - 1s 9ms/step - loss: 0.1108 - root_mean_squared_error: 0.1565 - val_loss: 0.1141 - val_root_mean_squared_error: 0.1631 - lr: 1.0000e-04\n",
      "Epoch 28/300\n",
      "60/63 [===========================>..] - ETA: 0s - loss: 0.1109 - root_mean_squared_error: 0.1567\n",
      "Epoch 28: val_loss did not improve from 0.11222\n",
      "63/63 [==============================] - 1s 9ms/step - loss: 0.1108 - root_mean_squared_error: 0.1567 - val_loss: 0.1128 - val_root_mean_squared_error: 0.1625 - lr: 1.0000e-04\n",
      "Epoch 29/300\n",
      "63/63 [==============================] - ETA: 0s - loss: 0.1105 - root_mean_squared_error: 0.1563\n",
      "Epoch 29: val_loss did not improve from 0.11222\n",
      "63/63 [==============================] - 1s 9ms/step - loss: 0.1105 - root_mean_squared_error: 0.1563 - val_loss: 0.1130 - val_root_mean_squared_error: 0.1624 - lr: 1.0000e-04\n",
      "Epoch 30/300\n",
      "62/63 [============================>.] - ETA: 0s - loss: 0.1103 - root_mean_squared_error: 0.1563\n",
      "Epoch 30: val_loss did not improve from 0.11222\n",
      "63/63 [==============================] - 1s 9ms/step - loss: 0.1104 - root_mean_squared_error: 0.1563 - val_loss: 0.1124 - val_root_mean_squared_error: 0.1620 - lr: 1.0000e-04\n",
      "Epoch 31/300\n",
      "58/63 [==========================>...] - ETA: 0s - loss: 0.1112 - root_mean_squared_error: 0.1570\n",
      "Epoch 31: val_loss did not improve from 0.11222\n",
      "63/63 [==============================] - 1s 8ms/step - loss: 0.1110 - root_mean_squared_error: 0.1570 - val_loss: 0.1124 - val_root_mean_squared_error: 0.1620 - lr: 1.0000e-04\n",
      "Epoch 32/300\n",
      "61/63 [============================>.] - ETA: 0s - loss: 0.1098 - root_mean_squared_error: 0.1557\n",
      "Epoch 32: val_loss improved from 0.11222 to 0.11220, saving model to /disk1/jupyter/smhan/ASI-revised/output_sm/models/kc/asi_kc_weights.hdf5\n",
      "63/63 [==============================] - 1s 9ms/step - loss: 0.1100 - root_mean_squared_error: 0.1559 - val_loss: 0.1122 - val_root_mean_squared_error: 0.1618 - lr: 1.0000e-05\n",
      "Epoch 33/300\n",
      "62/63 [============================>.] - ETA: 0s - loss: 0.1099 - root_mean_squared_error: 0.1557\n",
      "Epoch 33: val_loss improved from 0.11220 to 0.11219, saving model to /disk1/jupyter/smhan/ASI-revised/output_sm/models/kc/asi_kc_weights.hdf5\n",
      "63/63 [==============================] - 1s 9ms/step - loss: 0.1100 - root_mean_squared_error: 0.1559 - val_loss: 0.1122 - val_root_mean_squared_error: 0.1618 - lr: 1.0000e-05\n",
      "Epoch 34/300\n",
      "63/63 [==============================] - ETA: 0s - loss: 0.1100 - root_mean_squared_error: 0.1558\n",
      "Epoch 34: val_loss improved from 0.11219 to 0.11209, saving model to /disk1/jupyter/smhan/ASI-revised/output_sm/models/kc/asi_kc_weights.hdf5\n",
      "63/63 [==============================] - 1s 9ms/step - loss: 0.1100 - root_mean_squared_error: 0.1558 - val_loss: 0.1121 - val_root_mean_squared_error: 0.1618 - lr: 1.0000e-05\n",
      "Epoch 35/300\n",
      "62/63 [============================>.] - ETA: 0s - loss: 0.1100 - root_mean_squared_error: 0.1559\n",
      "Epoch 35: val_loss improved from 0.11209 to 0.11209, saving model to /disk1/jupyter/smhan/ASI-revised/output_sm/models/kc/asi_kc_weights.hdf5\n",
      "63/63 [==============================] - 1s 9ms/step - loss: 0.1100 - root_mean_squared_error: 0.1559 - val_loss: 0.1121 - val_root_mean_squared_error: 0.1618 - lr: 1.0000e-05\n",
      "Epoch 36/300\n",
      "57/63 [==========================>...] - ETA: 0s - loss: 0.1100 - root_mean_squared_error: 0.1558\n",
      "Epoch 36: val_loss improved from 0.11209 to 0.11206, saving model to /disk1/jupyter/smhan/ASI-revised/output_sm/models/kc/asi_kc_weights.hdf5\n",
      "63/63 [==============================] - 1s 9ms/step - loss: 0.1099 - root_mean_squared_error: 0.1558 - val_loss: 0.1121 - val_root_mean_squared_error: 0.1618 - lr: 1.0000e-05\n",
      "Epoch 37/300\n",
      "63/63 [==============================] - ETA: 0s - loss: 0.1100 - root_mean_squared_error: 0.1559\n",
      "Epoch 37: val_loss did not improve from 0.11206\n",
      "63/63 [==============================] - 1s 9ms/step - loss: 0.1100 - root_mean_squared_error: 0.1559 - val_loss: 0.1121 - val_root_mean_squared_error: 0.1618 - lr: 1.0000e-05\n",
      "Epoch 38/300\n",
      "63/63 [==============================] - ETA: 0s - loss: 0.1100 - root_mean_squared_error: 0.1559\n",
      "Epoch 38: val_loss did not improve from 0.11206\n",
      "63/63 [==============================] - 1s 9ms/step - loss: 0.1100 - root_mean_squared_error: 0.1559 - val_loss: 0.1124 - val_root_mean_squared_error: 0.1619 - lr: 1.0000e-05\n",
      "Epoch 39/300\n",
      "57/63 [==========================>...] - ETA: 0s - loss: 0.1096 - root_mean_squared_error: 0.1557\n",
      "Epoch 39: val_loss did not improve from 0.11206\n",
      "63/63 [==============================] - 1s 9ms/step - loss: 0.1099 - root_mean_squared_error: 0.1559 - val_loss: 0.1121 - val_root_mean_squared_error: 0.1617 - lr: 1.0000e-05\n",
      "Epoch 40/300\n",
      "58/63 [==========================>...] - ETA: 0s - loss: 0.1100 - root_mean_squared_error: 0.1561\n",
      "Epoch 40: val_loss did not improve from 0.11206\n",
      "63/63 [==============================] - 1s 9ms/step - loss: 0.1099 - root_mean_squared_error: 0.1558 - val_loss: 0.1121 - val_root_mean_squared_error: 0.1618 - lr: 1.0000e-06\n",
      "Epoch 41/300\n",
      "56/63 [=========================>....] - ETA: 0s - loss: 0.1099 - root_mean_squared_error: 0.1557\n",
      "Epoch 41: val_loss did not improve from 0.11206\n",
      "63/63 [==============================] - 1s 9ms/step - loss: 0.1099 - root_mean_squared_error: 0.1558 - val_loss: 0.1121 - val_root_mean_squared_error: 0.1617 - lr: 1.0000e-06\n",
      "Epoch 42/300\n",
      "58/63 [==========================>...] - ETA: 0s - loss: 0.1098 - root_mean_squared_error: 0.1555\n",
      "Epoch 42: val_loss did not improve from 0.11206\n",
      "63/63 [==============================] - 1s 8ms/step - loss: 0.1099 - root_mean_squared_error: 0.1558 - val_loss: 0.1121 - val_root_mean_squared_error: 0.1617 - lr: 1.0000e-06\n",
      "Epoch 43/300\n",
      "63/63 [==============================] - ETA: 0s - loss: 0.1099 - root_mean_squared_error: 0.1557\n",
      "Epoch 43: val_loss did not improve from 0.11206\n",
      "63/63 [==============================] - 1s 8ms/step - loss: 0.1099 - root_mean_squared_error: 0.1557 - val_loss: 0.1121 - val_root_mean_squared_error: 0.1618 - lr: 1.0000e-06\n",
      "Epoch 44/300\n",
      "63/63 [==============================] - ETA: 0s - loss: 0.1099 - root_mean_squared_error: 0.1558\n",
      "Epoch 44: val_loss did not improve from 0.11206\n",
      "63/63 [==============================] - 1s 9ms/step - loss: 0.1099 - root_mean_squared_error: 0.1558 - val_loss: 0.1121 - val_root_mean_squared_error: 0.1617 - lr: 1.0000e-06\n",
      "Epoch 45/300\n",
      "57/63 [==========================>...] - ETA: 0s - loss: 0.1095 - root_mean_squared_error: 0.1553\n",
      "Epoch 45: val_loss did not improve from 0.11206\n",
      "63/63 [==============================] - 1s 9ms/step - loss: 0.1099 - root_mean_squared_error: 0.1558 - val_loss: 0.1121 - val_root_mean_squared_error: 0.1618 - lr: 1.0000e-07\n"
     ]
    },
    {
     "name": "stdout",
     "output_type": "stream",
     "text": [
      "Epoch 46/300\n",
      "61/63 [============================>.] - ETA: 0s - loss: 0.1098 - root_mean_squared_error: 0.1556\n",
      "Epoch 46: val_loss did not improve from 0.11206\n",
      "63/63 [==============================] - 1s 9ms/step - loss: 0.1099 - root_mean_squared_error: 0.1558 - val_loss: 0.1121 - val_root_mean_squared_error: 0.1617 - lr: 1.0000e-07\n",
      "self.input_phenomenon.shape Tensor(\"IteratorGetNext:0\", shape=(None, 18), dtype=float32)\n",
      "self.source_distance.shape (None, 45)\n",
      "self.context.shape (None, 45, 20)\n",
      "self.n2v.shape (None, 46, 18)\n",
      "att_query.shape, att_value.shape (None, 1, 64) (None, 45, 64)\n",
      "att_output (None, 64)\n",
      "136/136 [==============================] - 1s 3ms/step\n",
      "541/541 [==============================] - 2s 3ms/step\n",
      "self.input_phenomenon.shape Tensor(\"IteratorGetNext:0\", shape=(None, 18), dtype=float32)\n",
      "self.source_distance.shape (None, 45)\n",
      "self.context.shape (None, 45, 20)\n",
      "self.n2v.shape (None, 46, 18)\n",
      "att_query.shape, att_value.shape (None, 1, 64) (None, 45, 64)\n",
      "att_output (None, 64)\n",
      "70/70 [==============================] - 1s 3ms/step\n",
      "self.input_phenomenon.shape Tensor(\"IteratorGetNext:0\", shape=(None, 18), dtype=float32)\n",
      "self.source_distance.shape (None, 45)\n",
      "self.context.shape (None, 45, 20)\n",
      "self.n2v.shape (None, 46, 18)\n",
      "att_query.shape, att_value.shape (None, 1, 64) (None, 45, 64)\n",
      "att_output (None, 64)\n",
      "18/18 [==============================] - 0s 3ms/step\n",
      "self.input_phenomenon.shape Tensor(\"IteratorGetNext:0\", shape=(None, 18), dtype=float32)\n",
      "self.source_distance.shape (None, 45)\n",
      "self.context.shape (None, 45, 20)\n",
      "self.n2v.shape (None, 46, 18)\n",
      "att_query.shape, att_value.shape (None, 1, 64) (None, 45, 64)\n",
      "att_output (None, 64)\n",
      "70/70 [==============================] - 0s 3ms/step\n",
      "self.input_phenomenon.shape Tensor(\"IteratorGetNext:0\", shape=(None, 18), dtype=float32)\n",
      "self.source_distance.shape (None, 45)\n",
      "self.context.shape (None, 45, 20)\n",
      "self.n2v.shape (None, 46, 18)\n",
      "att_query.shape, att_value.shape (None, 1, 64) (None, 45, 64)\n",
      "att_output (None, 64)\n",
      "18/18 [==============================] - 0s 3ms/step\n"
     ]
    }
   ],
   "source": [
    "dataset,\\\n",
    "result,\\\n",
    "fit,\\\n",
    "embedded_train,\\\n",
    "embedded_test,\\\n",
    "predict_regression_train,\\\n",
    "predict_regression_test = spatial()"
   ]
  },
  {
   "cell_type": "code",
   "execution_count": 6,
   "metadata": {
    "scrolled": true
   },
   "outputs": [
    {
     "name": "stdout",
     "output_type": "stream",
     "text": [
      "################# Test ##########################\n",
      "MALE test:.... 0.11353860254853636\n",
      "RMSE test:.... 120168.22161635572\n",
      "MAPE test:.... 8.113802787714839\n",
      "################# Train ##########################\n",
      "MALE train:.... 0.11018987451391038\n",
      "RMSE train:.... 102616.40601725235\n",
      "MAPE train:.... 7.80482392970403\n"
     ]
    }
   ],
   "source": [
    "print('################# Test ##########################')\n",
    "print('MALE test:.... {}'.format(result[0]))\n",
    "print('RMSE test:.... {}'.format(result[1]))\n",
    "print('MAPE test:.... {}'.format(result[2]))\n",
    "print('################# Train ##########################')\n",
    "print('MALE train:.... {}'.format(result[3]))\n",
    "print('RMSE train:.... {}'.format(result[4]))\n",
    "print('MAPE train:.... {}'.format(result[5]))"
   ]
  },
  {
   "cell_type": "code",
   "execution_count": 7,
   "metadata": {},
   "outputs": [],
   "source": [
    "from sklearn.metrics import r2_score\n",
    "import numpy as np\n",
    "\n",
    "# metric\n",
    "def metric(pred, label):\n",
    "    assert label.shape == pred.shape\n",
    "    \n",
    "    with np.errstate(divide = 'ignore', invalid = 'ignore'):\n",
    "        mask = np.not_equal(label, 0)\n",
    "        mask = mask.astype(np.float32)\n",
    "        mask /= np.mean(mask)\n",
    "        male = np.abs(np.subtract(np.log(pred), np.log(label))).astype(np.float32)\n",
    "        male = np.nan_to_num(male * mask)\n",
    "        male = np.mean(male)\n",
    "        mae = np.abs(np.subtract(pred, label)).astype(np.float32)\n",
    "        rmse = np.square(mae)\n",
    "        mape = np.divide(mae, label)\n",
    "        mae = np.nan_to_num(mae * mask)\n",
    "        mae = np.mean(mae)\n",
    "        rmse = np.nan_to_num(rmse * mask)\n",
    "        rmse = np.sqrt(np.mean(rmse))\n",
    "        mape = np.nan_to_num(mape * mask)\n",
    "        mape = np.median(mape) # np.mean(mape) -- author leverages median\n",
    "    return male, rmse, mape\n",
    "\n"
   ]
  },
  {
   "cell_type": "code",
   "execution_count": 8,
   "metadata": {},
   "outputs": [
    {
     "data": {
      "text/plain": [
       "(0.11353861, 120168.22, 0.08113802787714852)"
      ]
     },
     "execution_count": 8,
     "metadata": {},
     "output_type": "execute_result"
    }
   ],
   "source": [
    "y_label = np.exp(dataset.y_test)\n",
    "y_pred = np.exp(result[6].flatten())\n",
    "metric(y_pred, y_label) # should be same value"
   ]
  },
  {
   "cell_type": "code",
   "execution_count": 9,
   "metadata": {},
   "outputs": [
    {
     "data": {
      "text/plain": [
       "Text(0.5, 1.0, 'R2: 0.8941740638855971')"
      ]
     },
     "execution_count": 9,
     "metadata": {},
     "output_type": "execute_result"
    },
    {
     "data": {
      "image/png": "[encoded data removed]",
      "text/plain": [
       "<Figure size 800x400 with 1 Axes>"
      ]
     },
     "metadata": {},
     "output_type": "display_data"
    }
   ],
   "source": [
    "from sklearn.metrics import r2_score\n",
    "\n",
    "plt.scatter(y_label, y_pred)\n",
    "plt.title(f'R2: {r2_score(y_label, y_pred)}')"
   ]
  },
  {
   "cell_type": "code",
   "execution_count": null,
   "metadata": {},
   "outputs": [],
   "source": []
  }
 ],
 "metadata": {
  "kernelspec": {
   "display_name": "TF2",
   "language": "python",
   "name": "tf2"
  },
  "language_info": {
   "codemirror_mode": {
    "name": "ipython",
    "version": 3
   },
   "file_extension": ".py",
   "mimetype": "text/x-python",
   "name": "python",
   "nbconvert_exporter": "python",
   "pygments_lexer": "ipython3",
   "version": "3.10.8"
  }
 },
 "nbformat": 4,
 "nbformat_minor": 4
}
