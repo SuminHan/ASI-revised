{
 "cells": [
  {
   "cell_type": "code",
   "execution_count": 1,
   "metadata": {},
   "outputs": [],
   "source": [
    "import os\n",
    "os.environ[\"CUDA_VISIBLE_DEVICES\"]= '1'"
   ]
  },
  {
   "cell_type": "code",
   "execution_count": 2,
   "metadata": {
    "scrolled": true
   },
   "outputs": [
    {
     "name": "stderr",
     "output_type": "stream",
     "text": [
      "2023-08-22 00:04:07.318832: I tensorflow/core/platform/cpu_feature_guard.cc:193] This TensorFlow binary is optimized with oneAPI Deep Neural Network Library (oneDNN) to use the following CPU instructions in performance-critical operations:  SSE4.1 SSE4.2 AVX AVX2 FMA\n",
      "To enable them in other operations, rebuild TensorFlow with the appropriate compiler flags.\n"
     ]
    }
   ],
   "source": [
    "%matplotlib inline\n",
    "\n",
    "import sys\n",
    "sys.path.append(\"../../\")\n",
    "\n",
    "from train_model import train\n",
    "\n",
    "from sklearn.linear_model import LinearRegression\n",
    "from yellowbrick.regressor import ResidualsPlot, PredictionError\n",
    "\n",
    "import seaborn as sns\n",
    "import matplotlib.pyplot as plt\n",
    "\n",
    "from matplotlib import rcParams\n",
    "rcParams['figure.figsize'] = (8, 4)\n",
    "rcParams['figure.dpi'] = 100\n",
    "rcParams['font.size'] = 8\n",
    "rcParams['font.family'] = 'sans-serif'\n",
    "rcParams['axes.facecolor'] = '#ffffff'\n",
    "rcParams['lines.linewidth'] = 2.0"
   ]
  },
  {
   "cell_type": "code",
   "execution_count": 3,
   "metadata": {
    "scrolled": true
   },
   "outputs": [],
   "source": [
    "hyperparameter={\n",
    "\"num_nearest\":60,\n",
    "\"sigma\":2,\n",
    "\"learning_rate\":0.001,\n",
    "\"batch_size\":250,\n",
    "\"num_neuron\":60,\n",
    "\"num_layers\":3,\n",
    "\"size_embedded\":50,\n",
    "\"num_nearest_geo\":45,\n",
    "\"num_nearest_eucli\":45,\n",
    "\"id_dataset\":'kc',\n",
    "\"epochs\":300,\n",
    "\"optimier\":'adam',\n",
    "\"validation_split\":0.1,\n",
    "\"label\":'asi_kc',\n",
    "\"early_stopping\": False,\n",
    "\"graph_label\":'matrix',\n",
    "}"
   ]
  },
  {
   "cell_type": "markdown",
   "metadata": {},
   "source": [
    "# Model"
   ]
  },
  {
   "cell_type": "code",
   "execution_count": 4,
   "metadata": {},
   "outputs": [],
   "source": [
    "spatial = train(**hyperparameter)"
   ]
  },
  {
   "cell_type": "code",
   "execution_count": 5,
   "metadata": {
    "scrolled": true
   },
   "outputs": [
    {
     "name": "stdout",
     "output_type": "stream",
     "text": [
      "WARNING:tensorflow:From /home/smhan/.conda/envs/TF2/lib/python3.10/site-packages/tensorflow/python/autograph/pyct/static_analysis/liveness.py:83: Analyzer.lamba_check (from tensorflow.python.autograph.pyct.static_analysis.liveness) is deprecated and will be removed after 2023-09-23.\n",
      "Instructions for updating:\n",
      "Lambda fuctions will be no more assumed to be used in the statement where they are used, or at least in the same block. https://github.com/tensorflow/tensorflow/issues/56089\n"
     ]
    },
    {
     "name": "stderr",
     "output_type": "stream",
     "text": [
      "2023-08-22 00:04:09.035142: I tensorflow/compiler/xla/stream_executor/cuda/cuda_gpu_executor.cc:981] successful NUMA node read from SysFS had negative value (-1), but there must be at least one NUMA node, so returning NUMA node zero\n",
      "2023-08-22 00:04:09.039107: I tensorflow/compiler/xla/stream_executor/cuda/cuda_gpu_executor.cc:981] successful NUMA node read from SysFS had negative value (-1), but there must be at least one NUMA node, so returning NUMA node zero\n",
      "2023-08-22 00:04:09.039365: I tensorflow/compiler/xla/stream_executor/cuda/cuda_gpu_executor.cc:981] successful NUMA node read from SysFS had negative value (-1), but there must be at least one NUMA node, so returning NUMA node zero\n",
      "2023-08-22 00:04:09.040066: I tensorflow/core/platform/cpu_feature_guard.cc:193] This TensorFlow binary is optimized with oneAPI Deep Neural Network Library (oneDNN) to use the following CPU instructions in performance-critical operations:  SSE4.1 SSE4.2 AVX AVX2 FMA\n",
      "To enable them in other operations, rebuild TensorFlow with the appropriate compiler flags.\n",
      "2023-08-22 00:04:09.042497: I tensorflow/compiler/xla/stream_executor/cuda/cuda_gpu_executor.cc:981] successful NUMA node read from SysFS had negative value (-1), but there must be at least one NUMA node, so returning NUMA node zero\n",
      "2023-08-22 00:04:09.042754: I tensorflow/compiler/xla/stream_executor/cuda/cuda_gpu_executor.cc:981] successful NUMA node read from SysFS had negative value (-1), but there must be at least one NUMA node, so returning NUMA node zero\n",
      "2023-08-22 00:04:09.042987: I tensorflow/compiler/xla/stream_executor/cuda/cuda_gpu_executor.cc:981] successful NUMA node read from SysFS had negative value (-1), but there must be at least one NUMA node, so returning NUMA node zero\n",
      "2023-08-22 00:04:09.409076: I tensorflow/compiler/xla/stream_executor/cuda/cuda_gpu_executor.cc:981] successful NUMA node read from SysFS had negative value (-1), but there must be at least one NUMA node, so returning NUMA node zero\n",
      "2023-08-22 00:04:09.409341: I tensorflow/compiler/xla/stream_executor/cuda/cuda_gpu_executor.cc:981] successful NUMA node read from SysFS had negative value (-1), but there must be at least one NUMA node, so returning NUMA node zero\n",
      "2023-08-22 00:04:09.409563: I tensorflow/compiler/xla/stream_executor/cuda/cuda_gpu_executor.cc:981] successful NUMA node read from SysFS had negative value (-1), but there must be at least one NUMA node, so returning NUMA node zero\n",
      "2023-08-22 00:04:09.409750: I tensorflow/core/common_runtime/gpu/gpu_device.cc:1613] Created device /job:localhost/replica:0/task:0/device:GPU:0 with 22273 MB memory:  -> device: 0, name: NVIDIA GeForce RTX 3090, pci bus id: 0000:81:00.0, compute capability: 8.6\n"
     ]
    },
    {
     "name": "stdout",
     "output_type": "stream",
     "text": [
      "Epoch 1/300\n"
     ]
    },
    {
     "name": "stderr",
     "output_type": "stream",
     "text": [
      "2023-08-22 00:04:11.427103: I tensorflow/compiler/xla/stream_executor/cuda/cuda_blas.cc:630] TensorFloat-32 will be used for the matrix multiplication. This will only be logged once.\n",
      "2023-08-22 00:04:11.429841: I tensorflow/compiler/xla/service/service.cc:173] XLA service 0x7f31914f2b60 initialized for platform CUDA (this does not guarantee that XLA will be used). Devices:\n",
      "2023-08-22 00:04:11.429855: I tensorflow/compiler/xla/service/service.cc:181]   StreamExecutor device (0): NVIDIA GeForce RTX 3090, Compute Capability 8.6\n",
      "2023-08-22 00:04:11.432919: I tensorflow/compiler/mlir/tensorflow/utils/dump_mlir_util.cc:268] disabling MLIR crash reproducer, set env var `MLIR_CRASH_REPRODUCER_DIRECTORY` to enable.\n",
      "2023-08-22 00:04:11.513302: I tensorflow/compiler/jit/xla_compilation_cache.cc:477] Compiled cluster using XLA!  This line is logged at most once for the lifetime of the process.\n"
     ]
    },
    {
     "name": "stdout",
     "output_type": "stream",
     "text": [
      "56/63 [=========================>....] - ETA: 0s - loss: 4.7070 - root_mean_squared_error: 6.5657 \n",
      "Epoch 1: val_loss improved from inf to 0.80704, saving model to /disk1/jupyter/smhan/ASI-revised/output/models/kc/asi_kc_weights.hdf5\n",
      "63/63 [==============================] - 3s 7ms/step - loss: 4.3258 - root_mean_squared_error: 6.2419 - val_loss: 0.8070 - val_root_mean_squared_error: 1.1138 - lr: 0.0010\n",
      "Epoch 2/300\n",
      "55/63 [=========================>....] - ETA: 0s - loss: 0.5051 - root_mean_squared_error: 0.7486\n",
      "Epoch 2: val_loss improved from 0.80704 to 0.23070, saving model to /disk1/jupyter/smhan/ASI-revised/output/models/kc/asi_kc_weights.hdf5\n",
      "63/63 [==============================] - 0s 5ms/step - loss: 0.4776 - root_mean_squared_error: 0.7148 - val_loss: 0.2307 - val_root_mean_squared_error: 0.3154 - lr: 0.0010\n",
      "Epoch 3/300\n",
      "57/63 [==========================>...] - ETA: 0s - loss: 0.1899 - root_mean_squared_error: 0.2602\n",
      "Epoch 3: val_loss improved from 0.23070 to 0.15700, saving model to /disk1/jupyter/smhan/ASI-revised/output/models/kc/asi_kc_weights.hdf5\n",
      "63/63 [==============================] - 0s 5ms/step - loss: 0.1866 - root_mean_squared_error: 0.2565 - val_loss: 0.1570 - val_root_mean_squared_error: 0.2158 - lr: 0.0010\n",
      "Epoch 4/300\n",
      "56/63 [=========================>....] - ETA: 0s - loss: 0.1473 - root_mean_squared_error: 0.1996\n",
      "Epoch 4: val_loss improved from 0.15700 to 0.13357, saving model to /disk1/jupyter/smhan/ASI-revised/output/models/kc/asi_kc_weights.hdf5\n",
      "63/63 [==============================] - 0s 5ms/step - loss: 0.1486 - root_mean_squared_error: 0.2007 - val_loss: 0.1336 - val_root_mean_squared_error: 0.1861 - lr: 0.0010\n",
      "Epoch 5/300\n",
      "55/63 [=========================>....] - ETA: 0s - loss: 0.1416 - root_mean_squared_error: 0.1910\n",
      "Epoch 5: val_loss did not improve from 0.13357\n",
      "63/63 [==============================] - 0s 4ms/step - loss: 0.1415 - root_mean_squared_error: 0.1908 - val_loss: 0.1422 - val_root_mean_squared_error: 0.1921 - lr: 0.0010\n",
      "Epoch 6/300\n",
      "54/63 [========================>.....] - ETA: 0s - loss: 0.1362 - root_mean_squared_error: 0.1841\n",
      "Epoch 6: val_loss improved from 0.13357 to 0.12821, saving model to /disk1/jupyter/smhan/ASI-revised/output/models/kc/asi_kc_weights.hdf5\n",
      "63/63 [==============================] - 0s 5ms/step - loss: 0.1349 - root_mean_squared_error: 0.1831 - val_loss: 0.1282 - val_root_mean_squared_error: 0.1767 - lr: 0.0010\n",
      "Epoch 7/300\n",
      "57/63 [==========================>...] - ETA: 0s - loss: 0.1318 - root_mean_squared_error: 0.1788\n",
      "Epoch 7: val_loss did not improve from 0.12821\n",
      "63/63 [==============================] - 0s 4ms/step - loss: 0.1324 - root_mean_squared_error: 0.1793 - val_loss: 0.1307 - val_root_mean_squared_error: 0.1780 - lr: 0.0010\n",
      "Epoch 8/300\n",
      "53/63 [========================>.....] - ETA: 0s - loss: 0.1373 - root_mean_squared_error: 0.1842\n",
      "Epoch 8: val_loss did not improve from 0.12821\n",
      "63/63 [==============================] - 0s 5ms/step - loss: 0.1361 - root_mean_squared_error: 0.1831 - val_loss: 0.1341 - val_root_mean_squared_error: 0.1827 - lr: 0.0010\n",
      "Epoch 9/300\n",
      "55/63 [=========================>....] - ETA: 0s - loss: 0.1249 - root_mean_squared_error: 0.1717\n",
      "Epoch 9: val_loss improved from 0.12821 to 0.12052, saving model to /disk1/jupyter/smhan/ASI-revised/output/models/kc/asi_kc_weights.hdf5\n",
      "63/63 [==============================] - 0s 5ms/step - loss: 0.1248 - root_mean_squared_error: 0.1713 - val_loss: 0.1205 - val_root_mean_squared_error: 0.1694 - lr: 0.0010\n",
      "Epoch 10/300\n",
      "56/63 [=========================>....] - ETA: 0s - loss: 0.1273 - root_mean_squared_error: 0.1734\n",
      "Epoch 10: val_loss did not improve from 0.12052\n",
      "63/63 [==============================] - 0s 4ms/step - loss: 0.1267 - root_mean_squared_error: 0.1729 - val_loss: 0.1244 - val_root_mean_squared_error: 0.1718 - lr: 0.0010\n",
      "Epoch 11/300\n",
      "54/63 [========================>.....] - ETA: 0s - loss: 0.1229 - root_mean_squared_error: 0.1689\n",
      "Epoch 11: val_loss did not improve from 0.12052\n",
      "63/63 [==============================] - 0s 5ms/step - loss: 0.1234 - root_mean_squared_error: 0.1693 - val_loss: 0.1225 - val_root_mean_squared_error: 0.1719 - lr: 0.0010\n",
      "Epoch 12/300\n",
      "55/63 [=========================>....] - ETA: 0s - loss: 0.1282 - root_mean_squared_error: 0.1737\n",
      "Epoch 12: val_loss improved from 0.12052 to 0.11987, saving model to /disk1/jupyter/smhan/ASI-revised/output/models/kc/asi_kc_weights.hdf5\n",
      "63/63 [==============================] - 0s 5ms/step - loss: 0.1272 - root_mean_squared_error: 0.1723 - val_loss: 0.1199 - val_root_mean_squared_error: 0.1686 - lr: 0.0010\n",
      "Epoch 13/300\n",
      "58/63 [==========================>...] - ETA: 0s - loss: 0.1227 - root_mean_squared_error: 0.1690\n",
      "Epoch 13: val_loss did not improve from 0.11987\n",
      "63/63 [==============================] - 0s 4ms/step - loss: 0.1222 - root_mean_squared_error: 0.1682 - val_loss: 0.1201 - val_root_mean_squared_error: 0.1705 - lr: 0.0010\n",
      "Epoch 14/300\n",
      "54/63 [========================>.....] - ETA: 0s - loss: 0.1208 - root_mean_squared_error: 0.1659\n",
      "Epoch 14: val_loss did not improve from 0.11987\n",
      "63/63 [==============================] - 0s 4ms/step - loss: 0.1221 - root_mean_squared_error: 0.1676 - val_loss: 0.1401 - val_root_mean_squared_error: 0.1867 - lr: 0.0010\n",
      "Epoch 15/300\n",
      "53/63 [========================>.....] - ETA: 0s - loss: 0.1202 - root_mean_squared_error: 0.1656\n",
      "Epoch 15: val_loss did not improve from 0.11987\n",
      "63/63 [==============================] - 0s 5ms/step - loss: 0.1211 - root_mean_squared_error: 0.1668 - val_loss: 0.1345 - val_root_mean_squared_error: 0.1814 - lr: 0.0010\n",
      "Epoch 16/300\n",
      "53/63 [========================>.....] - ETA: 0s - loss: 0.1214 - root_mean_squared_error: 0.1673\n",
      "Epoch 16: val_loss improved from 0.11987 to 0.11498, saving model to /disk1/jupyter/smhan/ASI-revised/output/models/kc/asi_kc_weights.hdf5\n",
      "63/63 [==============================] - 0s 5ms/step - loss: 0.1207 - root_mean_squared_error: 0.1665 - val_loss: 0.1150 - val_root_mean_squared_error: 0.1645 - lr: 0.0010\n",
      "Epoch 17/300\n",
      "57/63 [==========================>...] - ETA: 0s - loss: 0.1193 - root_mean_squared_error: 0.1650\n",
      "Epoch 17: val_loss did not improve from 0.11498\n",
      "63/63 [==============================] - 0s 4ms/step - loss: 0.1200 - root_mean_squared_error: 0.1656 - val_loss: 0.1239 - val_root_mean_squared_error: 0.1731 - lr: 0.0010\n",
      "Epoch 18/300\n",
      "53/63 [========================>.....] - ETA: 0s - loss: 0.1184 - root_mean_squared_error: 0.1637\n",
      "Epoch 18: val_loss did not improve from 0.11498\n",
      "63/63 [==============================] - 0s 5ms/step - loss: 0.1189 - root_mean_squared_error: 0.1644 - val_loss: 0.1242 - val_root_mean_squared_error: 0.1737 - lr: 0.0010\n",
      "Epoch 19/300\n",
      "57/63 [==========================>...] - ETA: 0s - loss: 0.1182 - root_mean_squared_error: 0.1640\n",
      "Epoch 19: val_loss did not improve from 0.11498\n",
      "63/63 [==============================] - 0s 4ms/step - loss: 0.1178 - root_mean_squared_error: 0.1633 - val_loss: 0.1196 - val_root_mean_squared_error: 0.1668 - lr: 0.0010\n",
      "Epoch 20/300\n",
      "59/63 [===========================>..] - ETA: 0s - loss: 0.1189 - root_mean_squared_error: 0.1641\n",
      "Epoch 20: val_loss improved from 0.11498 to 0.11432, saving model to /disk1/jupyter/smhan/ASI-revised/output/models/kc/asi_kc_weights.hdf5\n",
      "63/63 [==============================] - 0s 4ms/step - loss: 0.1191 - root_mean_squared_error: 0.1645 - val_loss: 0.1143 - val_root_mean_squared_error: 0.1637 - lr: 0.0010\n",
      "Epoch 21/300\n",
      "59/63 [===========================>..] - ETA: 0s - loss: 0.1170 - root_mean_squared_error: 0.1625\n",
      "Epoch 21: val_loss did not improve from 0.11432\n",
      "63/63 [==============================] - 0s 4ms/step - loss: 0.1170 - root_mean_squared_error: 0.1626 - val_loss: 0.1164 - val_root_mean_squared_error: 0.1642 - lr: 0.0010\n",
      "Epoch 22/300\n",
      "56/63 [=========================>....] - ETA: 0s - loss: 0.1176 - root_mean_squared_error: 0.1637\n",
      "Epoch 22: val_loss did not improve from 0.11432\n",
      "63/63 [==============================] - 0s 4ms/step - loss: 0.1174 - root_mean_squared_error: 0.1631 - val_loss: 0.1326 - val_root_mean_squared_error: 0.1810 - lr: 0.0010\n",
      "Epoch 23/300\n",
      "56/63 [=========================>....] - ETA: 0s - loss: 0.1191 - root_mean_squared_error: 0.1640\n",
      "Epoch 23: val_loss did not improve from 0.11432\n"
     ]
    },
    {
     "name": "stdout",
     "output_type": "stream",
     "text": [
      "63/63 [==============================] - 0s 4ms/step - loss: 0.1187 - root_mean_squared_error: 0.1639 - val_loss: 0.1280 - val_root_mean_squared_error: 0.1733 - lr: 0.0010\n",
      "Epoch 24/300\n",
      "54/63 [========================>.....] - ETA: 0s - loss: 0.1197 - root_mean_squared_error: 0.1645\n",
      "Epoch 24: val_loss did not improve from 0.11432\n",
      "63/63 [==============================] - 0s 5ms/step - loss: 0.1201 - root_mean_squared_error: 0.1650 - val_loss: 0.1400 - val_root_mean_squared_error: 0.1846 - lr: 0.0010\n",
      "Epoch 25/300\n",
      "54/63 [========================>.....] - ETA: 0s - loss: 0.1189 - root_mean_squared_error: 0.1642\n",
      "Epoch 25: val_loss did not improve from 0.11432\n",
      "63/63 [==============================] - 0s 4ms/step - loss: 0.1184 - root_mean_squared_error: 0.1636 - val_loss: 0.1197 - val_root_mean_squared_error: 0.1669 - lr: 0.0010\n",
      "Epoch 26/300\n",
      "54/63 [========================>.....] - ETA: 0s - loss: 0.1109 - root_mean_squared_error: 0.1573\n",
      "Epoch 26: val_loss did not improve from 0.11432\n",
      "63/63 [==============================] - 0s 4ms/step - loss: 0.1105 - root_mean_squared_error: 0.1563 - val_loss: 0.1148 - val_root_mean_squared_error: 0.1633 - lr: 1.0000e-04\n",
      "Epoch 27/300\n",
      "56/63 [=========================>....] - ETA: 0s - loss: 0.1098 - root_mean_squared_error: 0.1554\n",
      "Epoch 27: val_loss improved from 0.11432 to 0.11300, saving model to /disk1/jupyter/smhan/ASI-revised/output/models/kc/asi_kc_weights.hdf5\n",
      "63/63 [==============================] - 0s 4ms/step - loss: 0.1097 - root_mean_squared_error: 0.1555 - val_loss: 0.1130 - val_root_mean_squared_error: 0.1619 - lr: 1.0000e-04\n",
      "Epoch 28/300\n",
      "58/63 [==========================>...] - ETA: 0s - loss: 0.1096 - root_mean_squared_error: 0.1554\n",
      "Epoch 28: val_loss improved from 0.11300 to 0.11275, saving model to /disk1/jupyter/smhan/ASI-revised/output/models/kc/asi_kc_weights.hdf5\n",
      "63/63 [==============================] - 0s 4ms/step - loss: 0.1094 - root_mean_squared_error: 0.1554 - val_loss: 0.1127 - val_root_mean_squared_error: 0.1618 - lr: 1.0000e-04\n",
      "Epoch 29/300\n",
      "57/63 [==========================>...] - ETA: 0s - loss: 0.1092 - root_mean_squared_error: 0.1547\n",
      "Epoch 29: val_loss did not improve from 0.11275\n",
      "63/63 [==============================] - 0s 4ms/step - loss: 0.1094 - root_mean_squared_error: 0.1554 - val_loss: 0.1129 - val_root_mean_squared_error: 0.1618 - lr: 1.0000e-04\n",
      "Epoch 30/300\n",
      "55/63 [=========================>....] - ETA: 0s - loss: 0.1092 - root_mean_squared_error: 0.1552\n",
      "Epoch 30: val_loss did not improve from 0.11275\n",
      "63/63 [==============================] - 0s 5ms/step - loss: 0.1092 - root_mean_squared_error: 0.1553 - val_loss: 0.1132 - val_root_mean_squared_error: 0.1623 - lr: 1.0000e-04\n",
      "Epoch 31/300\n",
      "53/63 [========================>.....] - ETA: 0s - loss: 0.1093 - root_mean_squared_error: 0.1555\n",
      "Epoch 31: val_loss did not improve from 0.11275\n",
      "63/63 [==============================] - 0s 5ms/step - loss: 0.1094 - root_mean_squared_error: 0.1554 - val_loss: 0.1134 - val_root_mean_squared_error: 0.1617 - lr: 1.0000e-04\n",
      "Epoch 32/300\n",
      "55/63 [=========================>....] - ETA: 0s - loss: 0.1088 - root_mean_squared_error: 0.1548\n",
      "Epoch 32: val_loss did not improve from 0.11275\n",
      "63/63 [==============================] - 0s 4ms/step - loss: 0.1091 - root_mean_squared_error: 0.1551 - val_loss: 0.1128 - val_root_mean_squared_error: 0.1618 - lr: 1.0000e-04\n",
      "Epoch 33/300\n",
      "57/63 [==========================>...] - ETA: 0s - loss: 0.1095 - root_mean_squared_error: 0.1555\n",
      "Epoch 33: val_loss did not improve from 0.11275\n",
      "63/63 [==============================] - 0s 4ms/step - loss: 0.1096 - root_mean_squared_error: 0.1557 - val_loss: 0.1138 - val_root_mean_squared_error: 0.1624 - lr: 1.0000e-04\n",
      "Epoch 34/300\n",
      "56/63 [=========================>....] - ETA: 0s - loss: 0.1084 - root_mean_squared_error: 0.1544\n",
      "Epoch 34: val_loss improved from 0.11275 to 0.11260, saving model to /disk1/jupyter/smhan/ASI-revised/output/models/kc/asi_kc_weights.hdf5\n",
      "63/63 [==============================] - 0s 4ms/step - loss: 0.1087 - root_mean_squared_error: 0.1547 - val_loss: 0.1126 - val_root_mean_squared_error: 0.1615 - lr: 1.0000e-05\n",
      "Epoch 35/300\n",
      "56/63 [=========================>....] - ETA: 0s - loss: 0.1087 - root_mean_squared_error: 0.1548\n",
      "Epoch 35: val_loss did not improve from 0.11260\n",
      "63/63 [==============================] - 0s 4ms/step - loss: 0.1086 - root_mean_squared_error: 0.1547 - val_loss: 0.1126 - val_root_mean_squared_error: 0.1615 - lr: 1.0000e-05\n",
      "Epoch 36/300\n",
      "55/63 [=========================>....] - ETA: 0s - loss: 0.1087 - root_mean_squared_error: 0.1546\n",
      "Epoch 36: val_loss did not improve from 0.11260\n",
      "63/63 [==============================] - 0s 4ms/step - loss: 0.1085 - root_mean_squared_error: 0.1546 - val_loss: 0.1126 - val_root_mean_squared_error: 0.1615 - lr: 1.0000e-05\n",
      "Epoch 37/300\n",
      "56/63 [=========================>....] - ETA: 0s - loss: 0.1087 - root_mean_squared_error: 0.1548\n",
      "Epoch 37: val_loss did not improve from 0.11260\n",
      "63/63 [==============================] - 0s 4ms/step - loss: 0.1085 - root_mean_squared_error: 0.1546 - val_loss: 0.1127 - val_root_mean_squared_error: 0.1615 - lr: 1.0000e-05\n",
      "Epoch 38/300\n",
      "58/63 [==========================>...] - ETA: 0s - loss: 0.1086 - root_mean_squared_error: 0.1548\n",
      "Epoch 38: val_loss did not improve from 0.11260\n",
      "63/63 [==============================] - 0s 4ms/step - loss: 0.1086 - root_mean_squared_error: 0.1547 - val_loss: 0.1126 - val_root_mean_squared_error: 0.1616 - lr: 1.0000e-05\n",
      "Epoch 39/300\n",
      "57/63 [==========================>...] - ETA: 0s - loss: 0.1083 - root_mean_squared_error: 0.1546\n",
      "Epoch 39: val_loss did not improve from 0.11260\n",
      "63/63 [==============================] - 0s 4ms/step - loss: 0.1085 - root_mean_squared_error: 0.1547 - val_loss: 0.1126 - val_root_mean_squared_error: 0.1615 - lr: 1.0000e-05\n",
      "Epoch 40/300\n",
      "56/63 [=========================>....] - ETA: 0s - loss: 0.1085 - root_mean_squared_error: 0.1551\n",
      "Epoch 40: val_loss improved from 0.11260 to 0.11259, saving model to /disk1/jupyter/smhan/ASI-revised/output/models/kc/asi_kc_weights.hdf5\n",
      "63/63 [==============================] - 0s 5ms/step - loss: 0.1084 - root_mean_squared_error: 0.1546 - val_loss: 0.1126 - val_root_mean_squared_error: 0.1615 - lr: 1.0000e-06\n",
      "Epoch 41/300\n",
      "57/63 [==========================>...] - ETA: 0s - loss: 0.1084 - root_mean_squared_error: 0.1545\n",
      "Epoch 41: val_loss improved from 0.11259 to 0.11257, saving model to /disk1/jupyter/smhan/ASI-revised/output/models/kc/asi_kc_weights.hdf5\n",
      "63/63 [==============================] - 0s 5ms/step - loss: 0.1084 - root_mean_squared_error: 0.1546 - val_loss: 0.1126 - val_root_mean_squared_error: 0.1614 - lr: 1.0000e-06\n",
      "Epoch 42/300\n",
      "55/63 [=========================>....] - ETA: 0s - loss: 0.1083 - root_mean_squared_error: 0.1545\n",
      "Epoch 42: val_loss did not improve from 0.11257\n",
      "63/63 [==============================] - 0s 4ms/step - loss: 0.1084 - root_mean_squared_error: 0.1546 - val_loss: 0.1126 - val_root_mean_squared_error: 0.1615 - lr: 1.0000e-06\n",
      "Epoch 43/300\n",
      "58/63 [==========================>...] - ETA: 0s - loss: 0.1083 - root_mean_squared_error: 0.1545\n",
      "Epoch 43: val_loss did not improve from 0.11257\n",
      "63/63 [==============================] - 0s 4ms/step - loss: 0.1084 - root_mean_squared_error: 0.1546 - val_loss: 0.1126 - val_root_mean_squared_error: 0.1614 - lr: 1.0000e-06\n",
      "Epoch 44/300\n",
      "54/63 [========================>.....] - ETA: 0s - loss: 0.1083 - root_mean_squared_error: 0.1548\n",
      "Epoch 44: val_loss did not improve from 0.11257\n",
      "63/63 [==============================] - 0s 4ms/step - loss: 0.1084 - root_mean_squared_error: 0.1546 - val_loss: 0.1126 - val_root_mean_squared_error: 0.1614 - lr: 1.0000e-06\n",
      "Epoch 45/300\n",
      "53/63 [========================>.....] - ETA: 0s - loss: 0.1081 - root_mean_squared_error: 0.1542\n",
      "Epoch 45: val_loss did not improve from 0.11257\n",
      "63/63 [==============================] - 0s 4ms/step - loss: 0.1084 - root_mean_squared_error: 0.1546 - val_loss: 0.1126 - val_root_mean_squared_error: 0.1614 - lr: 1.0000e-07\n",
      "Epoch 46/300\n",
      "56/63 [=========================>....] - ETA: 0s - loss: 0.1085 - root_mean_squared_error: 0.1545\n",
      "Epoch 46: val_loss did not improve from 0.11257\n",
      "63/63 [==============================] - 0s 4ms/step - loss: 0.1084 - root_mean_squared_error: 0.1546 - val_loss: 0.1126 - val_root_mean_squared_error: 0.1615 - lr: 1.0000e-07\n"
     ]
    },
    {
     "name": "stdout",
     "output_type": "stream",
     "text": [
      "Epoch 47/300\n",
      "55/63 [=========================>....] - ETA: 0s - loss: 0.1081 - root_mean_squared_error: 0.1539\n",
      "Epoch 47: val_loss did not improve from 0.11257\n",
      "63/63 [==============================] - 0s 4ms/step - loss: 0.1084 - root_mean_squared_error: 0.1546 - val_loss: 0.1126 - val_root_mean_squared_error: 0.1614 - lr: 1.0000e-07\n",
      "Epoch 48/300\n",
      "56/63 [=========================>....] - ETA: 0s - loss: 0.1083 - root_mean_squared_error: 0.1545\n",
      "Epoch 48: val_loss did not improve from 0.11257\n",
      "63/63 [==============================] - 0s 4ms/step - loss: 0.1084 - root_mean_squared_error: 0.1546 - val_loss: 0.1126 - val_root_mean_squared_error: 0.1614 - lr: 1.0000e-07\n",
      "Epoch 49/300\n",
      "58/63 [==========================>...] - ETA: 0s - loss: 0.1086 - root_mean_squared_error: 0.1545\n",
      "Epoch 49: val_loss did not improve from 0.11257\n",
      "63/63 [==============================] - 0s 4ms/step - loss: 0.1084 - root_mean_squared_error: 0.1546 - val_loss: 0.1126 - val_root_mean_squared_error: 0.1614 - lr: 1.0000e-07\n",
      "Epoch 50/300\n",
      "55/63 [=========================>....] - ETA: 0s - loss: 0.1086 - root_mean_squared_error: 0.1547\n",
      "Epoch 50: val_loss did not improve from 0.11257\n",
      "63/63 [==============================] - 0s 4ms/step - loss: 0.1084 - root_mean_squared_error: 0.1546 - val_loss: 0.1126 - val_root_mean_squared_error: 0.1614 - lr: 1.0000e-08\n",
      "Epoch 51/300\n",
      "60/63 [===========================>..] - ETA: 0s - loss: 0.1084 - root_mean_squared_error: 0.1545\n",
      "Epoch 51: val_loss did not improve from 0.11257\n",
      "63/63 [==============================] - 0s 4ms/step - loss: 0.1084 - root_mean_squared_error: 0.1546 - val_loss: 0.1126 - val_root_mean_squared_error: 0.1614 - lr: 1.0000e-08\n",
      "136/136 [==============================] - 0s 971us/step\n",
      "541/541 [==============================] - 1s 1ms/step\n",
      "70/70 [==============================] - 0s 1ms/step\n",
      "18/18 [==============================] - 0s 1ms/step\n",
      "70/70 [==============================] - 0s 1ms/step\n",
      "18/18 [==============================] - 0s 1ms/step\n"
     ]
    }
   ],
   "source": [
    "dataset,\\\n",
    "result,\\\n",
    "fit,\\\n",
    "embedded_train,\\\n",
    "embedded_test,\\\n",
    "predict_regression_train,\\\n",
    "predict_regression_test = spatial()"
   ]
  },
  {
   "cell_type": "code",
   "execution_count": 6,
   "metadata": {
    "scrolled": true
   },
   "outputs": [
    {
     "name": "stdout",
     "output_type": "stream",
     "text": [
      "################# Test ##########################\n",
      "MALE test:.... 0.11335728257659733\n",
      "RMSE test:.... 123335.87234589539\n",
      "MAPE test:.... 7.9815168611605385\n",
      "################# Train ##########################\n",
      "MALE train:.... 0.10884419490450825\n",
      "RMSE train:.... 102631.83410083839\n",
      "MAPE train:.... 7.66428631376403\n"
     ]
    }
   ],
   "source": [
    "print('################# Test ##########################')\n",
    "print('MALE test:.... {}'.format(result[0]))\n",
    "print('RMSE test:.... {}'.format(result[1]))\n",
    "print('MAPE test:.... {}'.format(result[2]))\n",
    "print('################# Train ##########################')\n",
    "print('MALE train:.... {}'.format(result[3]))\n",
    "print('RMSE train:.... {}'.format(result[4]))\n",
    "print('MAPE train:.... {}'.format(result[5]))"
   ]
  },
  {
   "cell_type": "code",
   "execution_count": 7,
   "metadata": {},
   "outputs": [],
   "source": [
    "from sklearn.metrics import r2_score\n",
    "import numpy as np\n",
    "\n",
    "# metric\n",
    "def metric(pred, label):\n",
    "    assert label.shape == pred.shape\n",
    "    \n",
    "    with np.errstate(divide = 'ignore', invalid = 'ignore'):\n",
    "        mask = np.not_equal(label, 0)\n",
    "        mask = mask.astype(np.float32)\n",
    "        mask /= np.mean(mask)\n",
    "        male = np.abs(np.subtract(np.log(pred), np.log(label))).astype(np.float32)\n",
    "        male = np.nan_to_num(male * mask)\n",
    "        male = np.mean(male)\n",
    "        mae = np.abs(np.subtract(pred, label)).astype(np.float32)\n",
    "        rmse = np.square(mae)\n",
    "        mape = np.divide(mae, label)\n",
    "        mae = np.nan_to_num(mae * mask)\n",
    "        mae = np.mean(mae)\n",
    "        rmse = np.nan_to_num(rmse * mask)\n",
    "        rmse = np.sqrt(np.mean(rmse))\n",
    "        mape = np.nan_to_num(mape * mask)\n",
    "        mape = np.median(mape) # np.mean(mape) -- author leverages median\n",
    "    return male, rmse, mape\n",
    "\n"
   ]
  },
  {
   "cell_type": "code",
   "execution_count": 8,
   "metadata": {},
   "outputs": [
    {
     "data": {
      "text/plain": [
       "(0.11335728, 123335.87, 0.07981516861160565)"
      ]
     },
     "execution_count": 8,
     "metadata": {},
     "output_type": "execute_result"
    }
   ],
   "source": [
    "y_label = np.exp(dataset.y_test)\n",
    "y_pred = np.exp(result[6].flatten())\n",
    "metric(y_pred, y_label) # should be same value"
   ]
  },
  {
   "cell_type": "code",
   "execution_count": 9,
   "metadata": {},
   "outputs": [
    {
     "data": {
      "text/plain": [
       "<matplotlib.collections.PathCollection at 0x7f3b88277370>"
      ]
     },
     "execution_count": 9,
     "metadata": {},
     "output_type": "execute_result"
    },
    {
     "data": {
      "image/png": "[encoded data removed]",
      "text/plain": [
       "<Figure size 800x400 with 1 Axes>"
      ]
     },
     "metadata": {},
     "output_type": "display_data"
    }
   ],
   "source": [
    "plt.scatter(y_label, y_pred)"
   ]
  },
  {
   "cell_type": "code",
   "execution_count": null,
   "metadata": {},
   "outputs": [],
   "source": []
  }
 ],
 "metadata": {
  "kernelspec": {
   "display_name": "TF2",
   "language": "python",
   "name": "tf2"
  },
  "language_info": {
   "codemirror_mode": {
    "name": "ipython",
    "version": 3
   },
   "file_extension": ".py",
   "mimetype": "text/x-python",
   "name": "python",
   "nbconvert_exporter": "python",
   "pygments_lexer": "ipython3",
   "version": "3.10.8"
  }
 },
 "nbformat": 4,
 "nbformat_minor": 4
}
