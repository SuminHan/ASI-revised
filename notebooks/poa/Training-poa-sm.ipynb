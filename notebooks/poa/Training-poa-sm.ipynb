{
 "cells": [
  {
   "cell_type": "code",
   "execution_count": 1,
   "metadata": {},
   "outputs": [],
   "source": [
    "import os\n",
    "os.environ[\"CUDA_VISIBLE_DEVICES\"]= '2'"
   ]
  },
  {
   "cell_type": "code",
   "execution_count": 2,
   "metadata": {
    "scrolled": true
   },
   "outputs": [
    {
     "name": "stderr",
     "output_type": "stream",
     "text": [
      "2023-08-22 10:45:49.143865: I tensorflow/core/platform/cpu_feature_guard.cc:193] This TensorFlow binary is optimized with oneAPI Deep Neural Network Library (oneDNN) to use the following CPU instructions in performance-critical operations:  SSE4.1 SSE4.2 AVX AVX2 FMA\n",
      "To enable them in other operations, rebuild TensorFlow with the appropriate compiler flags.\n"
     ]
    }
   ],
   "source": [
    "%matplotlib inline\n",
    "\n",
    "import sys\n",
    "sys.path.append(\"../../\")\n",
    "\n",
    "from train_model_sm import train\n",
    "\n",
    "from sklearn.linear_model import LinearRegression\n",
    "from yellowbrick.regressor import ResidualsPlot, PredictionError\n",
    "\n",
    "import seaborn as sns\n",
    "import matplotlib.pyplot as plt\n",
    "\n",
    "from matplotlib import rcParams\n",
    "rcParams['figure.figsize'] = (8, 4)\n",
    "rcParams['figure.dpi'] = 100\n",
    "rcParams['font.size'] = 8\n",
    "rcParams['font.family'] = 'sans-serif'\n",
    "rcParams['axes.facecolor'] = '#ffffff'\n",
    "rcParams['lines.linewidth'] = 2.0"
   ]
  },
  {
   "cell_type": "code",
   "execution_count": 3,
   "metadata": {
    "scrolled": true
   },
   "outputs": [],
   "source": [
    "hyperparameter={\n",
    "\"num_nearest\":60,\n",
    "\"sigma\":10,\n",
    "\"learning_rate\":0.008,\n",
    "\"batch_size\":250,\n",
    "\"num_neuron\":15,\n",
    "\"num_layers\":2,\n",
    "\"size_embedded\":50,\n",
    "\"num_nearest_geo\":30,\n",
    "\"num_nearest_eucli\":30,\n",
    "\"id_dataset\":'poa',\n",
    "\"epochs\":300,\n",
    "\"optimier\":'adam',\n",
    "\"validation_split\":0.1,\n",
    "\"label\":'asi_poa',\n",
    "\"early_stopping\": False,\n",
    "\"graph_label\":'matrix',\n",
    "\"sequence\":'_normalized'\n",
    "}"
   ]
  },
  {
   "cell_type": "markdown",
   "metadata": {},
   "source": [
    "# Model"
   ]
  },
  {
   "cell_type": "code",
   "execution_count": 4,
   "metadata": {},
   "outputs": [],
   "source": [
    "spatial = train(**hyperparameter)"
   ]
  },
  {
   "cell_type": "code",
   "execution_count": 5,
   "metadata": {},
   "outputs": [
    {
     "name": "stdout",
     "output_type": "stream",
     "text": [
      "node2vec (15368, 7)\n",
      "self.dist_eucli.shape, self.context_struc_eucli_target.shape, self.n2v_eucli.shape (None, 30) (None, 30, 8) (None, 31, 7)\n",
      "self.dist_geo.shape, self.context_geo_target_dist.shape, self.n2v_geo.shape (None, 30) (None, 30, 9) (None, 31, 7)\n",
      "WARNING:tensorflow:From /home/smhan/.conda/envs/TF2/lib/python3.10/site-packages/tensorflow/python/autograph/pyct/static_analysis/liveness.py:83: Analyzer.lamba_check (from tensorflow.python.autograph.pyct.static_analysis.liveness) is deprecated and will be removed after 2023-09-23.\n",
      "Instructions for updating:\n",
      "Lambda fuctions will be no more assumed to be used in the statement where they are used, or at least in the same block. https://github.com/tensorflow/tensorflow/issues/56089\n"
     ]
    },
    {
     "name": "stderr",
     "output_type": "stream",
     "text": [
      "2023-08-22 10:45:50.698890: I tensorflow/compiler/xla/stream_executor/cuda/cuda_gpu_executor.cc:981] successful NUMA node read from SysFS had negative value (-1), but there must be at least one NUMA node, so returning NUMA node zero\n",
      "2023-08-22 10:45:50.702948: I tensorflow/compiler/xla/stream_executor/cuda/cuda_gpu_executor.cc:981] successful NUMA node read from SysFS had negative value (-1), but there must be at least one NUMA node, so returning NUMA node zero\n",
      "2023-08-22 10:45:50.703184: I tensorflow/compiler/xla/stream_executor/cuda/cuda_gpu_executor.cc:981] successful NUMA node read from SysFS had negative value (-1), but there must be at least one NUMA node, so returning NUMA node zero\n",
      "2023-08-22 10:45:50.704006: I tensorflow/core/platform/cpu_feature_guard.cc:193] This TensorFlow binary is optimized with oneAPI Deep Neural Network Library (oneDNN) to use the following CPU instructions in performance-critical operations:  SSE4.1 SSE4.2 AVX AVX2 FMA\n",
      "To enable them in other operations, rebuild TensorFlow with the appropriate compiler flags.\n",
      "2023-08-22 10:45:50.705963: I tensorflow/compiler/xla/stream_executor/cuda/cuda_gpu_executor.cc:981] successful NUMA node read from SysFS had negative value (-1), but there must be at least one NUMA node, so returning NUMA node zero\n",
      "2023-08-22 10:45:50.706204: I tensorflow/compiler/xla/stream_executor/cuda/cuda_gpu_executor.cc:981] successful NUMA node read from SysFS had negative value (-1), but there must be at least one NUMA node, so returning NUMA node zero\n",
      "2023-08-22 10:45:50.706413: I tensorflow/compiler/xla/stream_executor/cuda/cuda_gpu_executor.cc:981] successful NUMA node read from SysFS had negative value (-1), but there must be at least one NUMA node, so returning NUMA node zero\n",
      "2023-08-22 10:45:51.069022: I tensorflow/compiler/xla/stream_executor/cuda/cuda_gpu_executor.cc:981] successful NUMA node read from SysFS had negative value (-1), but there must be at least one NUMA node, so returning NUMA node zero\n",
      "2023-08-22 10:45:51.069282: I tensorflow/compiler/xla/stream_executor/cuda/cuda_gpu_executor.cc:981] successful NUMA node read from SysFS had negative value (-1), but there must be at least one NUMA node, so returning NUMA node zero\n",
      "2023-08-22 10:45:51.069496: I tensorflow/compiler/xla/stream_executor/cuda/cuda_gpu_executor.cc:981] successful NUMA node read from SysFS had negative value (-1), but there must be at least one NUMA node, so returning NUMA node zero\n",
      "2023-08-22 10:45:51.069673: I tensorflow/core/common_runtime/gpu/gpu_device.cc:1613] Created device /job:localhost/replica:0/task:0/device:GPU:0 with 22273 MB memory:  -> device: 0, name: NVIDIA GeForce RTX 3090, pci bus id: 0000:82:00.0, compute capability: 8.6\n"
     ]
    },
    {
     "name": "stdout",
     "output_type": "stream",
     "text": [
      "self.input_phenomenon.shape Tensor(\"Placeholder:0\", shape=(None, 7), dtype=float32)\n",
      "self.source_distance.shape (None, 30)\n",
      "self.context.shape (None, 30, 9)\n",
      "self.n2v.shape (None, 31, 7)\n",
      "att_query.shape, att_value.shape (None, 1, 64) (None, 30, 64)\n",
      "att_output (None, 64)\n",
      "feedforward (None, 15)\n",
      "Epoch 1/300\n",
      "self.input_phenomenon.shape Tensor(\"IteratorGetNext:0\", shape=(None, 7), dtype=float32)\n",
      "self.source_distance.shape (None, 30)\n",
      "self.context.shape (None, 30, 9)\n",
      "self.n2v.shape (None, 31, 7)\n",
      "att_query.shape, att_value.shape (None, 1, 64) (None, 30, 64)\n",
      "att_output (None, 64)\n",
      "self.input_phenomenon.shape Tensor(\"IteratorGetNext:0\", shape=(None, 7), dtype=float32)\n",
      "self.source_distance.shape (None, 30)\n",
      "self.context.shape (None, 30, 9)\n",
      "self.n2v.shape (None, 31, 7)\n",
      "att_query.shape, att_value.shape (None, 1, 64) (None, 30, 64)\n",
      "att_output (None, 64)\n"
     ]
    },
    {
     "name": "stderr",
     "output_type": "stream",
     "text": [
      "2023-08-22 10:45:54.537384: I tensorflow/compiler/xla/stream_executor/cuda/cuda_blas.cc:630] TensorFloat-32 will be used for the matrix multiplication. This will only be logged once.\n",
      "2023-08-22 10:45:54.546545: I tensorflow/compiler/xla/service/service.cc:173] XLA service 0x7f5a8001d540 initialized for platform CUDA (this does not guarantee that XLA will be used). Devices:\n",
      "2023-08-22 10:45:54.546591: I tensorflow/compiler/xla/service/service.cc:181]   StreamExecutor device (0): NVIDIA GeForce RTX 3090, Compute Capability 8.6\n",
      "2023-08-22 10:45:54.553703: I tensorflow/compiler/mlir/tensorflow/utils/dump_mlir_util.cc:268] disabling MLIR crash reproducer, set env var `MLIR_CRASH_REPRODUCER_DIRECTORY` to enable.\n",
      "2023-08-22 10:45:54.641499: I tensorflow/compiler/jit/xla_compilation_cache.cc:477] Compiled cluster using XLA!  This line is logged at most once for the lifetime of the process.\n"
     ]
    },
    {
     "name": "stdout",
     "output_type": "stream",
     "text": [
      "45/45 [==============================] - ETA: 0s - loss: 2.9630 - root_mean_squared_error: 5.6681self.input_phenomenon.shape Tensor(\"IteratorGetNext:0\", shape=(None, 7), dtype=float32)\n",
      "self.source_distance.shape (None, 30)\n",
      "self.context.shape (None, 30, 9)\n",
      "self.n2v.shape (None, 31, 7)\n",
      "att_query.shape, att_value.shape (None, 1, 64) (None, 30, 64)\n",
      "att_output (None, 64)\n",
      "\n",
      "Epoch 1: val_loss improved from inf to 0.26096, saving model to /disk1/jupyter/smhan/ASI-revised/output_sm/models/poa/asi_poa_weights.hdf5\n",
      "45/45 [==============================] - 6s 16ms/step - loss: 2.9630 - root_mean_squared_error: 5.6681 - val_loss: 0.2610 - val_root_mean_squared_error: 0.3372 - lr: 0.0080\n",
      "Epoch 2/300\n",
      "43/45 [===========================>..] - ETA: 0s - loss: 0.2212 - root_mean_squared_error: 0.2791\n",
      "Epoch 2: val_loss improved from 0.26096 to 0.20630, saving model to /disk1/jupyter/smhan/ASI-revised/output_sm/models/poa/asi_poa_weights.hdf5\n",
      "45/45 [==============================] - 0s 9ms/step - loss: 0.2205 - root_mean_squared_error: 0.2784 - val_loss: 0.2063 - val_root_mean_squared_error: 0.2586 - lr: 0.0080\n",
      "Epoch 3/300\n",
      "39/45 [=========================>....] - ETA: 0s - loss: 0.1865 - root_mean_squared_error: 0.2407\n",
      "Epoch 3: val_loss did not improve from 0.20630\n",
      "45/45 [==============================] - 0s 8ms/step - loss: 0.1871 - root_mean_squared_error: 0.2415 - val_loss: 0.2375 - val_root_mean_squared_error: 0.2913 - lr: 0.0080\n",
      "Epoch 4/300\n",
      "44/45 [============================>.] - ETA: 0s - loss: 0.1791 - root_mean_squared_error: 0.2366\n",
      "Epoch 4: val_loss improved from 0.20630 to 0.16326, saving model to /disk1/jupyter/smhan/ASI-revised/output_sm/models/poa/asi_poa_weights.hdf5\n",
      "45/45 [==============================] - 0s 9ms/step - loss: 0.1789 - root_mean_squared_error: 0.2364 - val_loss: 0.1633 - val_root_mean_squared_error: 0.2151 - lr: 0.0080\n",
      "Epoch 5/300\n",
      "43/45 [===========================>..] - ETA: 0s - loss: 0.1685 - root_mean_squared_error: 0.2289\n",
      "Epoch 5: val_loss did not improve from 0.16326\n",
      "45/45 [==============================] - 0s 9ms/step - loss: 0.1683 - root_mean_squared_error: 0.2288 - val_loss: 0.1659 - val_root_mean_squared_error: 0.2196 - lr: 0.0080\n",
      "Epoch 6/300\n",
      "45/45 [==============================] - ETA: 0s - loss: 0.1780 - root_mean_squared_error: 0.2372\n",
      "Epoch 6: val_loss did not improve from 0.16326\n",
      "45/45 [==============================] - 0s 8ms/step - loss: 0.1780 - root_mean_squared_error: 0.2372 - val_loss: 0.1876 - val_root_mean_squared_error: 0.2365 - lr: 0.0080\n",
      "Epoch 7/300\n",
      "45/45 [==============================] - ETA: 0s - loss: 0.1751 - root_mean_squared_error: 0.2327\n",
      "Epoch 7: val_loss did not improve from 0.16326\n",
      "45/45 [==============================] - 0s 8ms/step - loss: 0.1751 - root_mean_squared_error: 0.2327 - val_loss: 0.1660 - val_root_mean_squared_error: 0.2186 - lr: 0.0080\n",
      "Epoch 8/300\n",
      "44/45 [============================>.] - ETA: 0s - loss: 0.1731 - root_mean_squared_error: 0.2321\n",
      "Epoch 8: val_loss did not improve from 0.16326\n",
      "45/45 [==============================] - 0s 8ms/step - loss: 0.1728 - root_mean_squared_error: 0.2317 - val_loss: 0.1881 - val_root_mean_squared_error: 0.2397 - lr: 0.0080\n",
      "Epoch 9/300\n",
      "45/45 [==============================] - ETA: 0s - loss: 0.1648 - root_mean_squared_error: 0.2261\n",
      "Epoch 9: val_loss improved from 0.16326 to 0.15844, saving model to /disk1/jupyter/smhan/ASI-revised/output_sm/models/poa/asi_poa_weights.hdf5\n",
      "45/45 [==============================] - 0s 9ms/step - loss: 0.1648 - root_mean_squared_error: 0.2261 - val_loss: 0.1584 - val_root_mean_squared_error: 0.2115 - lr: 0.0080\n",
      "Epoch 10/300\n",
      "40/45 [=========================>....] - ETA: 0s - loss: 0.1580 - root_mean_squared_error: 0.2201\n",
      "Epoch 10: val_loss did not improve from 0.15844\n",
      "45/45 [==============================] - 0s 8ms/step - loss: 0.1578 - root_mean_squared_error: 0.2199 - val_loss: 0.1683 - val_root_mean_squared_error: 0.2187 - lr: 0.0080\n",
      "Epoch 11/300\n",
      "41/45 [==========================>...] - ETA: 0s - loss: 0.1705 - root_mean_squared_error: 0.2295\n",
      "Epoch 11: val_loss did not improve from 0.15844\n",
      "45/45 [==============================] - 0s 8ms/step - loss: 0.1720 - root_mean_squared_error: 0.2315 - val_loss: 0.1675 - val_root_mean_squared_error: 0.2204 - lr: 0.0080\n",
      "Epoch 12/300\n",
      "40/45 [=========================>....] - ETA: 0s - loss: 0.1676 - root_mean_squared_error: 0.2270\n",
      "Epoch 12: val_loss did not improve from 0.15844\n",
      "45/45 [==============================] - 0s 8ms/step - loss: 0.1688 - root_mean_squared_error: 0.2280 - val_loss: 0.1865 - val_root_mean_squared_error: 0.2373 - lr: 0.0080\n",
      "Epoch 13/300\n",
      "40/45 [=========================>....] - ETA: 0s - loss: 0.1660 - root_mean_squared_error: 0.2252\n",
      "Epoch 13: val_loss improved from 0.15844 to 0.15428, saving model to /disk1/jupyter/smhan/ASI-revised/output_sm/models/poa/asi_poa_weights.hdf5\n",
      "45/45 [==============================] - 0s 9ms/step - loss: 0.1645 - root_mean_squared_error: 0.2243 - val_loss: 0.1543 - val_root_mean_squared_error: 0.2090 - lr: 0.0080\n",
      "Epoch 14/300\n",
      "39/45 [=========================>....] - ETA: 0s - loss: 0.1796 - root_mean_squared_error: 0.2397\n",
      "Epoch 14: val_loss did not improve from 0.15428\n",
      "45/45 [==============================] - 0s 8ms/step - loss: 0.1800 - root_mean_squared_error: 0.2400 - val_loss: 0.1748 - val_root_mean_squared_error: 0.2262 - lr: 0.0080\n",
      "Epoch 15/300\n",
      "45/45 [==============================] - ETA: 0s - loss: 0.1639 - root_mean_squared_error: 0.2234\n",
      "Epoch 15: val_loss did not improve from 0.15428\n",
      "45/45 [==============================] - 0s 8ms/step - loss: 0.1639 - root_mean_squared_error: 0.2234 - val_loss: 0.1832 - val_root_mean_squared_error: 0.2342 - lr: 0.0080\n",
      "Epoch 16/300\n",
      "43/45 [===========================>..] - ETA: 0s - loss: 0.1627 - root_mean_squared_error: 0.2221\n",
      "Epoch 16: val_loss did not improve from 0.15428\n",
      "45/45 [==============================] - 0s 9ms/step - loss: 0.1636 - root_mean_squared_error: 0.2229 - val_loss: 0.1993 - val_root_mean_squared_error: 0.2501 - lr: 0.0080\n",
      "Epoch 17/300\n",
      "43/45 [===========================>..] - ETA: 0s - loss: 0.1644 - root_mean_squared_error: 0.2241\n",
      "Epoch 17: val_loss improved from 0.15428 to 0.15336, saving model to /disk1/jupyter/smhan/ASI-revised/output_sm/models/poa/asi_poa_weights.hdf5\n",
      "45/45 [==============================] - 0s 9ms/step - loss: 0.1648 - root_mean_squared_error: 0.2248 - val_loss: 0.1534 - val_root_mean_squared_error: 0.2062 - lr: 0.0080\n",
      "Epoch 18/300\n",
      "39/45 [=========================>....] - ETA: 0s - loss: 0.1655 - root_mean_squared_error: 0.2242\n",
      "Epoch 18: val_loss did not improve from 0.15336\n",
      "45/45 [==============================] - 0s 8ms/step - loss: 0.1650 - root_mean_squared_error: 0.2239 - val_loss: 0.1983 - val_root_mean_squared_error: 0.2496 - lr: 0.0080\n",
      "Epoch 19/300\n",
      "40/45 [=========================>....] - ETA: 0s - loss: 0.1641 - root_mean_squared_error: 0.2234\n",
      "Epoch 19: val_loss did not improve from 0.15336\n",
      "45/45 [==============================] - 0s 8ms/step - loss: 0.1632 - root_mean_squared_error: 0.2227 - val_loss: 0.1540 - val_root_mean_squared_error: 0.2071 - lr: 0.0080\n",
      "Epoch 20/300\n",
      "38/45 [========================>.....] - ETA: 0s - loss: 0.1557 - root_mean_squared_error: 0.2179\n",
      "Epoch 20: val_loss improved from 0.15336 to 0.15039, saving model to /disk1/jupyter/smhan/ASI-revised/output_sm/models/poa/asi_poa_weights.hdf5\n",
      "45/45 [==============================] - 0s 9ms/step - loss: 0.1544 - root_mean_squared_error: 0.2161 - val_loss: 0.1504 - val_root_mean_squared_error: 0.2044 - lr: 0.0080\n",
      "Epoch 21/300\n",
      "44/45 [============================>.] - ETA: 0s - loss: 0.1627 - root_mean_squared_error: 0.2231\n",
      "Epoch 21: val_loss did not improve from 0.15039\n",
      "45/45 [==============================] - 0s 8ms/step - loss: 0.1625 - root_mean_squared_error: 0.2229 - val_loss: 0.1521 - val_root_mean_squared_error: 0.2043 - lr: 0.0080\n",
      "Epoch 22/300\n",
      "45/45 [==============================] - ETA: 0s - loss: 0.1563 - root_mean_squared_error: 0.2164\n",
      "Epoch 22: val_loss did not improve from 0.15039\n",
      "45/45 [==============================] - 0s 8ms/step - loss: 0.1563 - root_mean_squared_error: 0.2164 - val_loss: 0.1608 - val_root_mean_squared_error: 0.2127 - lr: 0.0080\n"
     ]
    },
    {
     "name": "stdout",
     "output_type": "stream",
     "text": [
      "Epoch 23/300\n",
      "38/45 [========================>.....] - ETA: 0s - loss: 0.1594 - root_mean_squared_error: 0.2192\n",
      "Epoch 23: val_loss did not improve from 0.15039\n",
      "45/45 [==============================] - 0s 8ms/step - loss: 0.1579 - root_mean_squared_error: 0.2180 - val_loss: 0.1542 - val_root_mean_squared_error: 0.2062 - lr: 0.0080\n",
      "Epoch 24/300\n",
      "44/45 [============================>.] - ETA: 0s - loss: 0.1559 - root_mean_squared_error: 0.2170\n",
      "Epoch 24: val_loss did not improve from 0.15039\n",
      "45/45 [==============================] - 0s 8ms/step - loss: 0.1561 - root_mean_squared_error: 0.2170 - val_loss: 0.1648 - val_root_mean_squared_error: 0.2162 - lr: 0.0080\n",
      "Epoch 25/300\n",
      "39/45 [=========================>....] - ETA: 0s - loss: 0.1630 - root_mean_squared_error: 0.2223\n",
      "Epoch 25: val_loss did not improve from 0.15039\n",
      "45/45 [==============================] - 0s 8ms/step - loss: 0.1622 - root_mean_squared_error: 0.2213 - val_loss: 0.1518 - val_root_mean_squared_error: 0.2048 - lr: 0.0080\n",
      "Epoch 26/300\n",
      "39/45 [=========================>....] - ETA: 0s - loss: 0.1466 - root_mean_squared_error: 0.2086\n",
      "Epoch 26: val_loss did not improve from 0.15039\n",
      "45/45 [==============================] - 0s 8ms/step - loss: 0.1471 - root_mean_squared_error: 0.2095 - val_loss: 0.1518 - val_root_mean_squared_error: 0.2059 - lr: 8.0000e-04\n",
      "Epoch 27/300\n",
      "43/45 [===========================>..] - ETA: 0s - loss: 0.1462 - root_mean_squared_error: 0.2094\n",
      "Epoch 27: val_loss improved from 0.15039 to 0.14925, saving model to /disk1/jupyter/smhan/ASI-revised/output_sm/models/poa/asi_poa_weights.hdf5\n",
      "45/45 [==============================] - 0s 9ms/step - loss: 0.1461 - root_mean_squared_error: 0.2093 - val_loss: 0.1493 - val_root_mean_squared_error: 0.2036 - lr: 8.0000e-04\n",
      "Epoch 28/300\n",
      "40/45 [=========================>....] - ETA: 0s - loss: 0.1454 - root_mean_squared_error: 0.2081\n",
      "Epoch 28: val_loss improved from 0.14925 to 0.14921, saving model to /disk1/jupyter/smhan/ASI-revised/output_sm/models/poa/asi_poa_weights.hdf5\n",
      "45/45 [==============================] - 0s 8ms/step - loss: 0.1457 - root_mean_squared_error: 0.2092 - val_loss: 0.1492 - val_root_mean_squared_error: 0.2035 - lr: 8.0000e-04\n",
      "Epoch 29/300\n",
      "45/45 [==============================] - ETA: 0s - loss: 0.1460 - root_mean_squared_error: 0.2092\n",
      "Epoch 29: val_loss did not improve from 0.14921\n",
      "45/45 [==============================] - 0s 8ms/step - loss: 0.1460 - root_mean_squared_error: 0.2092 - val_loss: 0.1493 - val_root_mean_squared_error: 0.2039 - lr: 8.0000e-04\n",
      "Epoch 30/300\n",
      "41/45 [==========================>...] - ETA: 0s - loss: 0.1452 - root_mean_squared_error: 0.2085\n",
      "Epoch 30: val_loss improved from 0.14921 to 0.14873, saving model to /disk1/jupyter/smhan/ASI-revised/output_sm/models/poa/asi_poa_weights.hdf5\n",
      "45/45 [==============================] - 0s 8ms/step - loss: 0.1452 - root_mean_squared_error: 0.2089 - val_loss: 0.1487 - val_root_mean_squared_error: 0.2037 - lr: 8.0000e-04\n",
      "Epoch 31/300\n",
      "44/45 [============================>.] - ETA: 0s - loss: 0.1450 - root_mean_squared_error: 0.2089\n",
      "Epoch 31: val_loss did not improve from 0.14873\n",
      "45/45 [==============================] - 0s 8ms/step - loss: 0.1450 - root_mean_squared_error: 0.2089 - val_loss: 0.1503 - val_root_mean_squared_error: 0.2047 - lr: 8.0000e-04\n",
      "Epoch 32/300\n",
      "39/45 [=========================>....] - ETA: 0s - loss: 0.1457 - root_mean_squared_error: 0.2101\n",
      "Epoch 32: val_loss did not improve from 0.14873\n",
      "45/45 [==============================] - 0s 8ms/step - loss: 0.1449 - root_mean_squared_error: 0.2089 - val_loss: 0.1488 - val_root_mean_squared_error: 0.2034 - lr: 8.0000e-04\n",
      "Epoch 33/300\n",
      "43/45 [===========================>..] - ETA: 0s - loss: 0.1450 - root_mean_squared_error: 0.2088\n",
      "Epoch 33: val_loss improved from 0.14873 to 0.14862, saving model to /disk1/jupyter/smhan/ASI-revised/output_sm/models/poa/asi_poa_weights.hdf5\n",
      "45/45 [==============================] - 0s 9ms/step - loss: 0.1447 - root_mean_squared_error: 0.2086 - val_loss: 0.1486 - val_root_mean_squared_error: 0.2034 - lr: 8.0000e-04\n",
      "Epoch 34/300\n",
      "44/45 [============================>.] - ETA: 0s - loss: 0.1445 - root_mean_squared_error: 0.2086\n",
      "Epoch 34: val_loss did not improve from 0.14862\n",
      "45/45 [==============================] - 0s 8ms/step - loss: 0.1447 - root_mean_squared_error: 0.2089 - val_loss: 0.1499 - val_root_mean_squared_error: 0.2045 - lr: 8.0000e-04\n",
      "Epoch 35/300\n",
      "39/45 [=========================>....] - ETA: 0s - loss: 0.1447 - root_mean_squared_error: 0.2094\n",
      "Epoch 35: val_loss did not improve from 0.14862\n",
      "45/45 [==============================] - 0s 8ms/step - loss: 0.1442 - root_mean_squared_error: 0.2085 - val_loss: 0.1491 - val_root_mean_squared_error: 0.2037 - lr: 8.0000e-04\n",
      "Epoch 36/300\n",
      "39/45 [=========================>....] - ETA: 0s - loss: 0.1440 - root_mean_squared_error: 0.2074\n",
      "Epoch 36: val_loss did not improve from 0.14862\n",
      "45/45 [==============================] - 0s 8ms/step - loss: 0.1440 - root_mean_squared_error: 0.2080 - val_loss: 0.1490 - val_root_mean_squared_error: 0.2039 - lr: 8.0000e-04\n",
      "Epoch 37/300\n",
      "40/45 [=========================>....] - ETA: 0s - loss: 0.1440 - root_mean_squared_error: 0.2080\n",
      "Epoch 37: val_loss did not improve from 0.14862\n",
      "45/45 [==============================] - 0s 8ms/step - loss: 0.1440 - root_mean_squared_error: 0.2082 - val_loss: 0.1493 - val_root_mean_squared_error: 0.2039 - lr: 8.0000e-04\n",
      "Epoch 38/300\n",
      "39/45 [=========================>....] - ETA: 0s - loss: 0.1450 - root_mean_squared_error: 0.2091\n",
      "Epoch 38: val_loss did not improve from 0.14862\n",
      "45/45 [==============================] - 0s 8ms/step - loss: 0.1444 - root_mean_squared_error: 0.2083 - val_loss: 0.1511 - val_root_mean_squared_error: 0.2051 - lr: 8.0000e-04\n",
      "Epoch 39/300\n",
      "39/45 [=========================>....] - ETA: 0s - loss: 0.1437 - root_mean_squared_error: 0.2081\n",
      "Epoch 39: val_loss improved from 0.14862 to 0.14845, saving model to /disk1/jupyter/smhan/ASI-revised/output_sm/models/poa/asi_poa_weights.hdf5\n",
      "45/45 [==============================] - 0s 8ms/step - loss: 0.1436 - root_mean_squared_error: 0.2077 - val_loss: 0.1484 - val_root_mean_squared_error: 0.2034 - lr: 8.0000e-05\n",
      "Epoch 40/300\n",
      "39/45 [=========================>....] - ETA: 0s - loss: 0.1429 - root_mean_squared_error: 0.2068\n",
      "Epoch 40: val_loss did not improve from 0.14845\n",
      "45/45 [==============================] - 0s 8ms/step - loss: 0.1431 - root_mean_squared_error: 0.2076 - val_loss: 0.1486 - val_root_mean_squared_error: 0.2035 - lr: 8.0000e-05\n",
      "Epoch 41/300\n",
      "44/45 [============================>.] - ETA: 0s - loss: 0.1429 - root_mean_squared_error: 0.2074\n",
      "Epoch 41: val_loss did not improve from 0.14845\n",
      "45/45 [==============================] - 0s 8ms/step - loss: 0.1431 - root_mean_squared_error: 0.2076 - val_loss: 0.1487 - val_root_mean_squared_error: 0.2036 - lr: 8.0000e-05\n",
      "Epoch 42/300\n",
      "45/45 [==============================] - ETA: 0s - loss: 0.1430 - root_mean_squared_error: 0.2075\n",
      "Epoch 42: val_loss did not improve from 0.14845\n",
      "45/45 [==============================] - 0s 8ms/step - loss: 0.1430 - root_mean_squared_error: 0.2075 - val_loss: 0.1486 - val_root_mean_squared_error: 0.2036 - lr: 8.0000e-05\n",
      "Epoch 43/300\n",
      "43/45 [===========================>..] - ETA: 0s - loss: 0.1429 - root_mean_squared_error: 0.2073\n",
      "Epoch 43: val_loss did not improve from 0.14845\n",
      "45/45 [==============================] - 0s 9ms/step - loss: 0.1430 - root_mean_squared_error: 0.2075 - val_loss: 0.1486 - val_root_mean_squared_error: 0.2036 - lr: 8.0000e-05\n",
      "Epoch 44/300\n",
      "44/45 [============================>.] - ETA: 0s - loss: 0.1429 - root_mean_squared_error: 0.2073\n",
      "Epoch 44: val_loss did not improve from 0.14845\n",
      "45/45 [==============================] - 0s 8ms/step - loss: 0.1430 - root_mean_squared_error: 0.2075 - val_loss: 0.1489 - val_root_mean_squared_error: 0.2039 - lr: 8.0000e-05\n",
      "Epoch 45/300\n",
      "43/45 [===========================>..] - ETA: 0s - loss: 0.1428 - root_mean_squared_error: 0.2070\n",
      "Epoch 45: val_loss did not improve from 0.14845\n",
      "45/45 [==============================] - 0s 9ms/step - loss: 0.1429 - root_mean_squared_error: 0.2074 - val_loss: 0.1487 - val_root_mean_squared_error: 0.2037 - lr: 8.0000e-06\n",
      "Epoch 46/300\n"
     ]
    },
    {
     "name": "stdout",
     "output_type": "stream",
     "text": [
      "40/45 [=========================>....] - ETA: 0s - loss: 0.1430 - root_mean_squared_error: 0.2079\n",
      "Epoch 46: val_loss did not improve from 0.14845\n",
      "45/45 [==============================] - 0s 8ms/step - loss: 0.1428 - root_mean_squared_error: 0.2074 - val_loss: 0.1487 - val_root_mean_squared_error: 0.2037 - lr: 8.0000e-06\n",
      "Epoch 47/300\n",
      "45/45 [==============================] - ETA: 0s - loss: 0.1428 - root_mean_squared_error: 0.2074\n",
      "Epoch 47: val_loss did not improve from 0.14845\n",
      "45/45 [==============================] - 0s 8ms/step - loss: 0.1428 - root_mean_squared_error: 0.2074 - val_loss: 0.1486 - val_root_mean_squared_error: 0.2037 - lr: 8.0000e-06\n",
      "Epoch 48/300\n",
      "45/45 [==============================] - ETA: 0s - loss: 0.1428 - root_mean_squared_error: 0.2074\n",
      "Epoch 48: val_loss did not improve from 0.14845\n",
      "45/45 [==============================] - 0s 8ms/step - loss: 0.1428 - root_mean_squared_error: 0.2074 - val_loss: 0.1486 - val_root_mean_squared_error: 0.2036 - lr: 8.0000e-06\n",
      "Epoch 49/300\n",
      "45/45 [==============================] - ETA: 0s - loss: 0.1428 - root_mean_squared_error: 0.2074\n",
      "Epoch 49: val_loss did not improve from 0.14845\n",
      "45/45 [==============================] - 0s 8ms/step - loss: 0.1428 - root_mean_squared_error: 0.2074 - val_loss: 0.1487 - val_root_mean_squared_error: 0.2037 - lr: 8.0000e-06\n",
      "self.input_phenomenon.shape Tensor(\"IteratorGetNext:0\", shape=(None, 7), dtype=float32)\n",
      "self.source_distance.shape (None, 30)\n",
      "self.context.shape (None, 30, 9)\n",
      "self.n2v.shape (None, 31, 7)\n",
      "att_query.shape, att_value.shape (None, 1, 64) (None, 30, 64)\n",
      "att_output (None, 64)\n",
      "97/97 [==============================] - 0s 2ms/step\n",
      "385/385 [==============================] - 1s 2ms/step\n",
      "self.input_phenomenon.shape Tensor(\"IteratorGetNext:0\", shape=(None, 7), dtype=float32)\n",
      "self.source_distance.shape (None, 30)\n",
      "self.context.shape (None, 30, 9)\n",
      "self.n2v.shape (None, 31, 7)\n",
      "att_query.shape, att_value.shape (None, 1, 64) (None, 30, 64)\n",
      "att_output (None, 64)\n",
      "50/50 [==============================] - 0s 2ms/step\n",
      "self.input_phenomenon.shape Tensor(\"IteratorGetNext:0\", shape=(None, 7), dtype=float32)\n",
      "self.source_distance.shape (None, 30)\n",
      "self.context.shape (None, 30, 9)\n",
      "self.n2v.shape (None, 31, 7)\n",
      "att_query.shape, att_value.shape (None, 1, 64) (None, 30, 64)\n",
      "att_output (None, 64)\n",
      "13/13 [==============================] - 0s 2ms/step\n",
      "self.input_phenomenon.shape Tensor(\"IteratorGetNext:0\", shape=(None, 7), dtype=float32)\n",
      "self.source_distance.shape (None, 30)\n",
      "self.context.shape (None, 30, 9)\n",
      "self.n2v.shape (None, 31, 7)\n",
      "att_query.shape, att_value.shape (None, 1, 64) (None, 30, 64)\n",
      "att_output (None, 64)\n",
      "50/50 [==============================] - 0s 2ms/step\n",
      "self.input_phenomenon.shape Tensor(\"IteratorGetNext:0\", shape=(None, 7), dtype=float32)\n",
      "self.source_distance.shape (None, 30)\n",
      "self.context.shape (None, 30, 9)\n",
      "self.n2v.shape (None, 31, 7)\n",
      "att_query.shape, att_value.shape (None, 1, 64) (None, 30, 64)\n",
      "att_output (None, 64)\n",
      "13/13 [==============================] - 0s 2ms/step\n"
     ]
    }
   ],
   "source": [
    "dataset,\\\n",
    "result,\\\n",
    "fit,\\\n",
    "embedded_train,\\\n",
    "embedded_test,\\\n",
    "predict_regression_train,\\\n",
    "predict_regression_test = spatial()"
   ]
  },
  {
   "cell_type": "code",
   "execution_count": 6,
   "metadata": {},
   "outputs": [
    {
     "name": "stdout",
     "output_type": "stream",
     "text": [
      "################# Test ##########################\n",
      "MALE test:.... 0.14834079734132197\n",
      "RMSE test:.... 98516.48850899347\n",
      "MAPE test:.... 10.12113036565973\n",
      "################# Train ##########################\n",
      "MALE train:.... 0.14356516469059882\n",
      "RMSE train:.... 99765.33510889487\n",
      "MAPE train:.... 9.38460700496411\n"
     ]
    }
   ],
   "source": [
    "print('################# Test ##########################')\n",
    "print('MALE test:.... {}'.format(result[0]))\n",
    "print('RMSE test:.... {}'.format(result[1]))\n",
    "print('MAPE test:.... {}'.format(result[2]))\n",
    "print('################# Train ##########################')\n",
    "print('MALE train:.... {}'.format(result[3]))\n",
    "print('RMSE train:.... {}'.format(result[4]))\n",
    "print('MAPE train:.... {}'.format(result[5]))"
   ]
  },
  {
   "cell_type": "code",
   "execution_count": 7,
   "metadata": {},
   "outputs": [],
   "source": [
    "from sklearn.metrics import r2_score\n",
    "import numpy as np\n",
    "\n",
    "# metric\n",
    "def metric(pred, label):\n",
    "    assert label.shape == pred.shape\n",
    "    \n",
    "    with np.errstate(divide = 'ignore', invalid = 'ignore'):\n",
    "        mask = np.not_equal(label, 0)\n",
    "        mask = mask.astype(np.float32)\n",
    "        mask /= np.mean(mask)\n",
    "        male = np.abs(np.subtract(np.log(pred), np.log(label))).astype(np.float32)\n",
    "        male = np.nan_to_num(male * mask)\n",
    "        male = np.mean(male)\n",
    "        mae = np.abs(np.subtract(pred, label)).astype(np.float32)\n",
    "        rmse = np.square(mae)\n",
    "        mape = np.divide(mae, label)\n",
    "        mae = np.nan_to_num(mae * mask)\n",
    "        mae = np.mean(mae)\n",
    "        rmse = np.nan_to_num(rmse * mask)\n",
    "        rmse = np.sqrt(np.mean(rmse))\n",
    "        mape = np.nan_to_num(mape * mask)\n",
    "        mape = np.median(mape) # np.mean(mape) -- author leverages median\n",
    "    return male, rmse, mape\n",
    "\n"
   ]
  },
  {
   "cell_type": "code",
   "execution_count": 8,
   "metadata": {},
   "outputs": [
    {
     "data": {
      "text/plain": [
       "(0.1483408, 98516.49, 0.10121130365659779)"
      ]
     },
     "execution_count": 8,
     "metadata": {},
     "output_type": "execute_result"
    }
   ],
   "source": [
    "y_label = np.exp(dataset.y_test)\n",
    "y_pred = np.exp(result[6].flatten())\n",
    "metric(y_pred, y_label) # should be same value"
   ]
  },
  {
   "cell_type": "code",
   "execution_count": 9,
   "metadata": {},
   "outputs": [
    {
     "data": {
      "text/plain": [
       "<matplotlib.collections.PathCollection at 0x7f5d3ade6e90>"
      ]
     },
     "execution_count": 9,
     "metadata": {},
     "output_type": "execute_result"
    },
    {
     "data": {
      "image/png": "[encoded data removed]",
      "text/plain": [
       "<Figure size 800x400 with 1 Axes>"
      ]
     },
     "metadata": {},
     "output_type": "display_data"
    }
   ],
   "source": [
    "plt.scatter(y_label, y_pred)"
   ]
  }
 ],
 "metadata": {
  "kernelspec": {
   "display_name": "TF2",
   "language": "python",
   "name": "tf2"
  },
  "language_info": {
   "codemirror_mode": {
    "name": "ipython",
    "version": 3
   },
   "file_extension": ".py",
   "mimetype": "text/x-python",
   "name": "python",
   "nbconvert_exporter": "python",
   "pygments_lexer": "ipython3",
   "version": "3.10.8"
  }
 },
 "nbformat": 4,
 "nbformat_minor": 4
}
