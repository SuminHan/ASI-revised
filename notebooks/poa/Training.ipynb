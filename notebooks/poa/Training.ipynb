{
 "cells": [
  {
   "cell_type": "code",
   "execution_count": 1,
   "metadata": {},
   "outputs": [],
   "source": [
    "import os\n",
    "os.environ[\"CUDA_VISIBLE_DEVICES\"]= '2'"
   ]
  },
  {
   "cell_type": "code",
   "execution_count": 2,
   "metadata": {
    "scrolled": true
   },
   "outputs": [
    {
     "name": "stderr",
     "output_type": "stream",
     "text": [
      "2023-08-22 00:08:21.203549: I tensorflow/core/platform/cpu_feature_guard.cc:193] This TensorFlow binary is optimized with oneAPI Deep Neural Network Library (oneDNN) to use the following CPU instructions in performance-critical operations:  SSE4.1 SSE4.2 AVX AVX2 FMA\n",
      "To enable them in other operations, rebuild TensorFlow with the appropriate compiler flags.\n"
     ]
    }
   ],
   "source": [
    "%matplotlib inline\n",
    "\n",
    "import sys\n",
    "sys.path.append(\"../../\")\n",
    "\n",
    "from train_model import train\n",
    "\n",
    "from sklearn.linear_model import LinearRegression\n",
    "from yellowbrick.regressor import ResidualsPlot, PredictionError\n",
    "\n",
    "import seaborn as sns\n",
    "import matplotlib.pyplot as plt\n",
    "\n",
    "from matplotlib import rcParams\n",
    "rcParams['figure.figsize'] = (8, 4)\n",
    "rcParams['figure.dpi'] = 100\n",
    "rcParams['font.size'] = 8\n",
    "rcParams['font.family'] = 'sans-serif'\n",
    "rcParams['axes.facecolor'] = '#ffffff'\n",
    "rcParams['lines.linewidth'] = 2.0"
   ]
  },
  {
   "cell_type": "code",
   "execution_count": 3,
   "metadata": {
    "scrolled": true
   },
   "outputs": [],
   "source": [
    "hyperparameter={\n",
    "\"num_nearest\":60,\n",
    "\"sigma\":10,\n",
    "\"learning_rate\":0.008,\n",
    "\"batch_size\":250,\n",
    "\"num_neuron\":15,\n",
    "\"num_layers\":2,\n",
    "\"size_embedded\":50,\n",
    "\"num_nearest_geo\":30,\n",
    "\"num_nearest_eucli\":30,\n",
    "\"id_dataset\":'poa',\n",
    "\"epochs\":300,\n",
    "\"optimier\":'adam',\n",
    "\"validation_split\":0.1,\n",
    "\"label\":'asi_poa',\n",
    "\"early_stopping\": False,\n",
    "\"graph_label\":'matrix',\n",
    "}"
   ]
  },
  {
   "cell_type": "markdown",
   "metadata": {},
   "source": [
    "# Model"
   ]
  },
  {
   "cell_type": "code",
   "execution_count": 4,
   "metadata": {},
   "outputs": [],
   "source": [
    "spatial = train(**hyperparameter)"
   ]
  },
  {
   "cell_type": "code",
   "execution_count": 5,
   "metadata": {},
   "outputs": [
    {
     "name": "stdout",
     "output_type": "stream",
     "text": [
      "WARNING:tensorflow:From /home/smhan/.conda/envs/TF2/lib/python3.10/site-packages/tensorflow/python/autograph/pyct/static_analysis/liveness.py:83: Analyzer.lamba_check (from tensorflow.python.autograph.pyct.static_analysis.liveness) is deprecated and will be removed after 2023-09-23.\n",
      "Instructions for updating:\n",
      "Lambda fuctions will be no more assumed to be used in the statement where they are used, or at least in the same block. https://github.com/tensorflow/tensorflow/issues/56089\n"
     ]
    },
    {
     "name": "stderr",
     "output_type": "stream",
     "text": [
      "2023-08-22 00:08:22.732693: I tensorflow/compiler/xla/stream_executor/cuda/cuda_gpu_executor.cc:981] successful NUMA node read from SysFS had negative value (-1), but there must be at least one NUMA node, so returning NUMA node zero\n",
      "2023-08-22 00:08:22.736666: I tensorflow/compiler/xla/stream_executor/cuda/cuda_gpu_executor.cc:981] successful NUMA node read from SysFS had negative value (-1), but there must be at least one NUMA node, so returning NUMA node zero\n",
      "2023-08-22 00:08:22.736918: I tensorflow/compiler/xla/stream_executor/cuda/cuda_gpu_executor.cc:981] successful NUMA node read from SysFS had negative value (-1), but there must be at least one NUMA node, so returning NUMA node zero\n",
      "2023-08-22 00:08:22.737783: I tensorflow/core/platform/cpu_feature_guard.cc:193] This TensorFlow binary is optimized with oneAPI Deep Neural Network Library (oneDNN) to use the following CPU instructions in performance-critical operations:  SSE4.1 SSE4.2 AVX AVX2 FMA\n",
      "To enable them in other operations, rebuild TensorFlow with the appropriate compiler flags.\n",
      "2023-08-22 00:08:22.740151: I tensorflow/compiler/xla/stream_executor/cuda/cuda_gpu_executor.cc:981] successful NUMA node read from SysFS had negative value (-1), but there must be at least one NUMA node, so returning NUMA node zero\n",
      "2023-08-22 00:08:22.740403: I tensorflow/compiler/xla/stream_executor/cuda/cuda_gpu_executor.cc:981] successful NUMA node read from SysFS had negative value (-1), but there must be at least one NUMA node, so returning NUMA node zero\n",
      "2023-08-22 00:08:22.740636: I tensorflow/compiler/xla/stream_executor/cuda/cuda_gpu_executor.cc:981] successful NUMA node read from SysFS had negative value (-1), but there must be at least one NUMA node, so returning NUMA node zero\n",
      "2023-08-22 00:08:23.111488: I tensorflow/compiler/xla/stream_executor/cuda/cuda_gpu_executor.cc:981] successful NUMA node read from SysFS had negative value (-1), but there must be at least one NUMA node, so returning NUMA node zero\n",
      "2023-08-22 00:08:23.111751: I tensorflow/compiler/xla/stream_executor/cuda/cuda_gpu_executor.cc:981] successful NUMA node read from SysFS had negative value (-1), but there must be at least one NUMA node, so returning NUMA node zero\n",
      "2023-08-22 00:08:23.111968: I tensorflow/compiler/xla/stream_executor/cuda/cuda_gpu_executor.cc:981] successful NUMA node read from SysFS had negative value (-1), but there must be at least one NUMA node, so returning NUMA node zero\n",
      "2023-08-22 00:08:23.112152: I tensorflow/core/common_runtime/gpu/gpu_device.cc:1613] Created device /job:localhost/replica:0/task:0/device:GPU:0 with 22273 MB memory:  -> device: 0, name: NVIDIA GeForce RTX 3090, pci bus id: 0000:82:00.0, compute capability: 8.6\n"
     ]
    },
    {
     "name": "stdout",
     "output_type": "stream",
     "text": [
      "Epoch 1/300\n"
     ]
    },
    {
     "name": "stderr",
     "output_type": "stream",
     "text": [
      "2023-08-22 00:08:24.938637: I tensorflow/compiler/xla/stream_executor/cuda/cuda_blas.cc:630] TensorFloat-32 will be used for the matrix multiplication. This will only be logged once.\n",
      "2023-08-22 00:08:24.941276: I tensorflow/compiler/xla/service/service.cc:173] XLA service 0x7f1a19c83470 initialized for platform CUDA (this does not guarantee that XLA will be used). Devices:\n",
      "2023-08-22 00:08:24.941290: I tensorflow/compiler/xla/service/service.cc:181]   StreamExecutor device (0): NVIDIA GeForce RTX 3090, Compute Capability 8.6\n",
      "2023-08-22 00:08:24.944515: I tensorflow/compiler/mlir/tensorflow/utils/dump_mlir_util.cc:268] disabling MLIR crash reproducer, set env var `MLIR_CRASH_REPRODUCER_DIRECTORY` to enable.\n",
      "2023-08-22 00:08:25.029452: I tensorflow/compiler/jit/xla_compilation_cache.cc:477] Compiled cluster using XLA!  This line is logged at most once for the lifetime of the process.\n"
     ]
    },
    {
     "name": "stdout",
     "output_type": "stream",
     "text": [
      "45/45 [==============================] - ETA: 0s - loss: 3.6633 - root_mean_squared_error: 5.4959  \n",
      "Epoch 1: val_loss improved from inf to 0.51618, saving model to /disk1/jupyter/smhan/ASI-revised/output/models/poa/asi_poa_weights.hdf5\n",
      "45/45 [==============================] - 2s 7ms/step - loss: 3.6633 - root_mean_squared_error: 5.4959 - val_loss: 0.5162 - val_root_mean_squared_error: 0.6813 - lr: 0.0080\n",
      "Epoch 2/300\n",
      "31/45 [===================>..........] - ETA: 0s - loss: 0.3970 - root_mean_squared_error: 0.5324\n",
      "Epoch 2: val_loss improved from 0.51618 to 0.26228, saving model to /disk1/jupyter/smhan/ASI-revised/output/models/poa/asi_poa_weights.hdf5\n",
      "45/45 [==============================] - 0s 4ms/step - loss: 0.3608 - root_mean_squared_error: 0.4889 - val_loss: 0.2623 - val_root_mean_squared_error: 0.3416 - lr: 0.0080\n",
      "Epoch 3/300\n",
      "45/45 [==============================] - ETA: 0s - loss: 0.2349 - root_mean_squared_error: 0.3033\n",
      "Epoch 3: val_loss improved from 0.26228 to 0.22487, saving model to /disk1/jupyter/smhan/ASI-revised/output/models/poa/asi_poa_weights.hdf5\n",
      "45/45 [==============================] - 0s 5ms/step - loss: 0.2349 - root_mean_squared_error: 0.3033 - val_loss: 0.2249 - val_root_mean_squared_error: 0.2904 - lr: 0.0080\n",
      "Epoch 4/300\n",
      "45/45 [==============================] - ETA: 0s - loss: 0.2084 - root_mean_squared_error: 0.2691\n",
      "Epoch 4: val_loss improved from 0.22487 to 0.20126, saving model to /disk1/jupyter/smhan/ASI-revised/output/models/poa/asi_poa_weights.hdf5\n",
      "45/45 [==============================] - 0s 5ms/step - loss: 0.2084 - root_mean_squared_error: 0.2691 - val_loss: 0.2013 - val_root_mean_squared_error: 0.2554 - lr: 0.0080\n",
      "Epoch 5/300\n",
      "31/45 [===================>..........] - ETA: 0s - loss: 0.1944 - root_mean_squared_error: 0.2533\n",
      "Epoch 5: val_loss did not improve from 0.20126\n",
      "45/45 [==============================] - 0s 4ms/step - loss: 0.1930 - root_mean_squared_error: 0.2515 - val_loss: 0.2078 - val_root_mean_squared_error: 0.2682 - lr: 0.0080\n",
      "Epoch 6/300\n",
      "45/45 [==============================] - ETA: 0s - loss: 0.1913 - root_mean_squared_error: 0.2495\n",
      "Epoch 6: val_loss improved from 0.20126 to 0.18921, saving model to /disk1/jupyter/smhan/ASI-revised/output/models/poa/asi_poa_weights.hdf5\n",
      "45/45 [==============================] - 0s 4ms/step - loss: 0.1913 - root_mean_squared_error: 0.2495 - val_loss: 0.1892 - val_root_mean_squared_error: 0.2409 - lr: 0.0080\n",
      "Epoch 7/300\n",
      "31/45 [===================>..........] - ETA: 0s - loss: 0.1983 - root_mean_squared_error: 0.2570\n",
      "Epoch 7: val_loss improved from 0.18921 to 0.16934, saving model to /disk1/jupyter/smhan/ASI-revised/output/models/poa/asi_poa_weights.hdf5\n",
      "45/45 [==============================] - 0s 4ms/step - loss: 0.1916 - root_mean_squared_error: 0.2502 - val_loss: 0.1693 - val_root_mean_squared_error: 0.2210 - lr: 0.0080\n",
      "Epoch 8/300\n",
      "31/45 [===================>..........] - ETA: 0s - loss: 0.1739 - root_mean_squared_error: 0.2326\n",
      "Epoch 8: val_loss did not improve from 0.16934\n",
      "45/45 [==============================] - 0s 4ms/step - loss: 0.1730 - root_mean_squared_error: 0.2311 - val_loss: 0.1695 - val_root_mean_squared_error: 0.2221 - lr: 0.0080\n",
      "Epoch 9/300\n",
      "45/45 [==============================] - ETA: 0s - loss: 0.1701 - root_mean_squared_error: 0.2292\n",
      "Epoch 9: val_loss improved from 0.16934 to 0.16485, saving model to /disk1/jupyter/smhan/ASI-revised/output/models/poa/asi_poa_weights.hdf5\n",
      "45/45 [==============================] - 0s 5ms/step - loss: 0.1701 - root_mean_squared_error: 0.2292 - val_loss: 0.1648 - val_root_mean_squared_error: 0.2169 - lr: 0.0080\n",
      "Epoch 10/300\n",
      "44/45 [============================>.] - ETA: 0s - loss: 0.1669 - root_mean_squared_error: 0.2267\n",
      "Epoch 10: val_loss improved from 0.16485 to 0.16412, saving model to /disk1/jupyter/smhan/ASI-revised/output/models/poa/asi_poa_weights.hdf5\n",
      "45/45 [==============================] - 0s 5ms/step - loss: 0.1669 - root_mean_squared_error: 0.2268 - val_loss: 0.1641 - val_root_mean_squared_error: 0.2153 - lr: 0.0080\n",
      "Epoch 11/300\n",
      "45/45 [==============================] - ETA: 0s - loss: 0.1644 - root_mean_squared_error: 0.2246\n",
      "Epoch 11: val_loss improved from 0.16412 to 0.16035, saving model to /disk1/jupyter/smhan/ASI-revised/output/models/poa/asi_poa_weights.hdf5\n",
      "45/45 [==============================] - 0s 4ms/step - loss: 0.1644 - root_mean_squared_error: 0.2246 - val_loss: 0.1604 - val_root_mean_squared_error: 0.2104 - lr: 0.0080\n",
      "Epoch 12/300\n",
      "31/45 [===================>..........] - ETA: 0s - loss: 0.1618 - root_mean_squared_error: 0.2223\n",
      "Epoch 12: val_loss did not improve from 0.16035\n",
      "45/45 [==============================] - 0s 4ms/step - loss: 0.1638 - root_mean_squared_error: 0.2242 - val_loss: 0.1605 - val_root_mean_squared_error: 0.2106 - lr: 0.0080\n",
      "Epoch 13/300\n",
      "45/45 [==============================] - ETA: 0s - loss: 0.1613 - root_mean_squared_error: 0.2222\n",
      "Epoch 13: val_loss did not improve from 0.16035\n",
      "45/45 [==============================] - 0s 4ms/step - loss: 0.1613 - root_mean_squared_error: 0.2222 - val_loss: 0.1627 - val_root_mean_squared_error: 0.2149 - lr: 0.0080\n",
      "Epoch 14/300\n",
      "34/45 [=====================>........] - ETA: 0s - loss: 0.1721 - root_mean_squared_error: 0.2308\n",
      "Epoch 14: val_loss did not improve from 0.16035\n",
      "45/45 [==============================] - 0s 4ms/step - loss: 0.1717 - root_mean_squared_error: 0.2305 - val_loss: 0.1610 - val_root_mean_squared_error: 0.2127 - lr: 0.0080\n",
      "Epoch 15/300\n",
      "32/45 [====================>.........] - ETA: 0s - loss: 0.1586 - root_mean_squared_error: 0.2184\n",
      "Epoch 15: val_loss improved from 0.16035 to 0.15711, saving model to /disk1/jupyter/smhan/ASI-revised/output/models/poa/asi_poa_weights.hdf5\n",
      "45/45 [==============================] - 0s 4ms/step - loss: 0.1579 - root_mean_squared_error: 0.2183 - val_loss: 0.1571 - val_root_mean_squared_error: 0.2113 - lr: 0.0080\n",
      "Epoch 16/300\n",
      "32/45 [====================>.........] - ETA: 0s - loss: 0.1582 - root_mean_squared_error: 0.2186\n",
      "Epoch 16: val_loss improved from 0.15711 to 0.15575, saving model to /disk1/jupyter/smhan/ASI-revised/output/models/poa/asi_poa_weights.hdf5\n",
      "45/45 [==============================] - 0s 4ms/step - loss: 0.1569 - root_mean_squared_error: 0.2176 - val_loss: 0.1558 - val_root_mean_squared_error: 0.2079 - lr: 0.0080\n",
      "Epoch 17/300\n",
      "45/45 [==============================] - ETA: 0s - loss: 0.1599 - root_mean_squared_error: 0.2209\n",
      "Epoch 17: val_loss did not improve from 0.15575\n",
      "45/45 [==============================] - 0s 4ms/step - loss: 0.1599 - root_mean_squared_error: 0.2209 - val_loss: 0.1599 - val_root_mean_squared_error: 0.2118 - lr: 0.0080\n",
      "Epoch 18/300\n",
      "32/45 [====================>.........] - ETA: 0s - loss: 0.1610 - root_mean_squared_error: 0.2193\n",
      "Epoch 18: val_loss did not improve from 0.15575\n",
      "45/45 [==============================] - 0s 4ms/step - loss: 0.1626 - root_mean_squared_error: 0.2215 - val_loss: 0.1561 - val_root_mean_squared_error: 0.2081 - lr: 0.0080\n",
      "Epoch 19/300\n",
      "32/45 [====================>.........] - ETA: 0s - loss: 0.1579 - root_mean_squared_error: 0.2168\n",
      "Epoch 19: val_loss did not improve from 0.15575\n",
      "45/45 [==============================] - 0s 4ms/step - loss: 0.1571 - root_mean_squared_error: 0.2164 - val_loss: 0.1591 - val_root_mean_squared_error: 0.2106 - lr: 0.0080\n",
      "Epoch 20/300\n",
      "31/45 [===================>..........] - ETA: 0s - loss: 0.1553 - root_mean_squared_error: 0.2169\n",
      "Epoch 20: val_loss improved from 0.15575 to 0.15455, saving model to /disk1/jupyter/smhan/ASI-revised/output/models/poa/asi_poa_weights.hdf5\n",
      "45/45 [==============================] - 0s 4ms/step - loss: 0.1542 - root_mean_squared_error: 0.2148 - val_loss: 0.1545 - val_root_mean_squared_error: 0.2071 - lr: 0.0080\n",
      "Epoch 21/300\n",
      "32/45 [====================>.........] - ETA: 0s - loss: 0.1599 - root_mean_squared_error: 0.2204\n",
      "Epoch 21: val_loss improved from 0.15455 to 0.15337, saving model to /disk1/jupyter/smhan/ASI-revised/output/models/poa/asi_poa_weights.hdf5\n",
      "45/45 [==============================] - 0s 4ms/step - loss: 0.1580 - root_mean_squared_error: 0.2175 - val_loss: 0.1534 - val_root_mean_squared_error: 0.2061 - lr: 0.0080\n",
      "Epoch 22/300\n"
     ]
    },
    {
     "name": "stdout",
     "output_type": "stream",
     "text": [
      "31/45 [===================>..........] - ETA: 0s - loss: 0.1537 - root_mean_squared_error: 0.2136\n",
      "Epoch 22: val_loss improved from 0.15337 to 0.15290, saving model to /disk1/jupyter/smhan/ASI-revised/output/models/poa/asi_poa_weights.hdf5\n",
      "45/45 [==============================] - 0s 4ms/step - loss: 0.1533 - root_mean_squared_error: 0.2137 - val_loss: 0.1529 - val_root_mean_squared_error: 0.2064 - lr: 0.0080\n",
      "Epoch 23/300\n",
      "32/45 [====================>.........] - ETA: 0s - loss: 0.1535 - root_mean_squared_error: 0.2134\n",
      "Epoch 23: val_loss improved from 0.15290 to 0.15154, saving model to /disk1/jupyter/smhan/ASI-revised/output/models/poa/asi_poa_weights.hdf5\n",
      "45/45 [==============================] - 0s 4ms/step - loss: 0.1534 - root_mean_squared_error: 0.2137 - val_loss: 0.1515 - val_root_mean_squared_error: 0.2052 - lr: 0.0080\n",
      "Epoch 24/300\n",
      "32/45 [====================>.........] - ETA: 0s - loss: 0.1531 - root_mean_squared_error: 0.2135\n",
      "Epoch 24: val_loss did not improve from 0.15154\n",
      "45/45 [==============================] - 0s 4ms/step - loss: 0.1529 - root_mean_squared_error: 0.2130 - val_loss: 0.1725 - val_root_mean_squared_error: 0.2240 - lr: 0.0080\n",
      "Epoch 25/300\n",
      "31/45 [===================>..........] - ETA: 0s - loss: 0.1656 - root_mean_squared_error: 0.2242\n",
      "Epoch 25: val_loss did not improve from 0.15154\n",
      "45/45 [==============================] - 0s 4ms/step - loss: 0.1687 - root_mean_squared_error: 0.2256 - val_loss: 0.1717 - val_root_mean_squared_error: 0.2240 - lr: 0.0080\n",
      "Epoch 26/300\n",
      "32/45 [====================>.........] - ETA: 0s - loss: 0.1582 - root_mean_squared_error: 0.2169\n",
      "Epoch 26: val_loss did not improve from 0.15154\n",
      "45/45 [==============================] - 0s 4ms/step - loss: 0.1577 - root_mean_squared_error: 0.2167 - val_loss: 0.1543 - val_root_mean_squared_error: 0.2085 - lr: 0.0080\n",
      "Epoch 27/300\n",
      "45/45 [==============================] - ETA: 0s - loss: 0.1536 - root_mean_squared_error: 0.2133\n",
      "Epoch 27: val_loss did not improve from 0.15154\n",
      "45/45 [==============================] - 0s 4ms/step - loss: 0.1536 - root_mean_squared_error: 0.2133 - val_loss: 0.1746 - val_root_mean_squared_error: 0.2254 - lr: 0.0080\n",
      "Epoch 28/300\n",
      "45/45 [==============================] - ETA: 0s - loss: 0.1528 - root_mean_squared_error: 0.2128\n",
      "Epoch 28: val_loss improved from 0.15154 to 0.14863, saving model to /disk1/jupyter/smhan/ASI-revised/output/models/poa/asi_poa_weights.hdf5\n",
      "45/45 [==============================] - 0s 5ms/step - loss: 0.1528 - root_mean_squared_error: 0.2128 - val_loss: 0.1486 - val_root_mean_squared_error: 0.2036 - lr: 0.0080\n",
      "Epoch 29/300\n",
      "31/45 [===================>..........] - ETA: 0s - loss: 0.1529 - root_mean_squared_error: 0.2130\n",
      "Epoch 29: val_loss did not improve from 0.14863\n",
      "45/45 [==============================] - 0s 4ms/step - loss: 0.1528 - root_mean_squared_error: 0.2123 - val_loss: 0.1546 - val_root_mean_squared_error: 0.2088 - lr: 0.0080\n",
      "Epoch 30/300\n",
      "31/45 [===================>..........] - ETA: 0s - loss: 0.1534 - root_mean_squared_error: 0.2124\n",
      "Epoch 30: val_loss did not improve from 0.14863\n",
      "45/45 [==============================] - 0s 4ms/step - loss: 0.1535 - root_mean_squared_error: 0.2123 - val_loss: 0.1507 - val_root_mean_squared_error: 0.2063 - lr: 0.0080\n",
      "Epoch 31/300\n",
      "45/45 [==============================] - ETA: 0s - loss: 0.1523 - root_mean_squared_error: 0.2114\n",
      "Epoch 31: val_loss did not improve from 0.14863\n",
      "45/45 [==============================] - 0s 4ms/step - loss: 0.1523 - root_mean_squared_error: 0.2114 - val_loss: 0.1804 - val_root_mean_squared_error: 0.2312 - lr: 0.0080\n",
      "Epoch 32/300\n",
      "31/45 [===================>..........] - ETA: 0s - loss: 0.1556 - root_mean_squared_error: 0.2136\n",
      "Epoch 32: val_loss did not improve from 0.14863\n",
      "45/45 [==============================] - 0s 4ms/step - loss: 0.1559 - root_mean_squared_error: 0.2144 - val_loss: 0.1634 - val_root_mean_squared_error: 0.2169 - lr: 0.0080\n",
      "Epoch 33/300\n",
      "45/45 [==============================] - ETA: 0s - loss: 0.1524 - root_mean_squared_error: 0.2116\n",
      "Epoch 33: val_loss improved from 0.14863 to 0.14665, saving model to /disk1/jupyter/smhan/ASI-revised/output/models/poa/asi_poa_weights.hdf5\n",
      "45/45 [==============================] - 0s 4ms/step - loss: 0.1524 - root_mean_squared_error: 0.2116 - val_loss: 0.1467 - val_root_mean_squared_error: 0.2028 - lr: 0.0080\n",
      "Epoch 34/300\n",
      "45/45 [==============================] - ETA: 0s - loss: 0.1499 - root_mean_squared_error: 0.2100\n",
      "Epoch 34: val_loss did not improve from 0.14665\n",
      "45/45 [==============================] - 0s 4ms/step - loss: 0.1499 - root_mean_squared_error: 0.2100 - val_loss: 0.1589 - val_root_mean_squared_error: 0.2118 - lr: 0.0080\n",
      "Epoch 35/300\n",
      "32/45 [====================>.........] - ETA: 0s - loss: 0.1504 - root_mean_squared_error: 0.2103\n",
      "Epoch 35: val_loss did not improve from 0.14665\n",
      "45/45 [==============================] - 0s 4ms/step - loss: 0.1499 - root_mean_squared_error: 0.2099 - val_loss: 0.1593 - val_root_mean_squared_error: 0.2125 - lr: 0.0080\n",
      "Epoch 36/300\n",
      "32/45 [====================>.........] - ETA: 0s - loss: 0.1485 - root_mean_squared_error: 0.2076\n",
      "Epoch 36: val_loss did not improve from 0.14665\n",
      "45/45 [==============================] - 0s 4ms/step - loss: 0.1492 - root_mean_squared_error: 0.2090 - val_loss: 0.1484 - val_root_mean_squared_error: 0.2047 - lr: 0.0080\n",
      "Epoch 37/300\n",
      "45/45 [==============================] - ETA: 0s - loss: 0.1480 - root_mean_squared_error: 0.2085\n",
      "Epoch 37: val_loss did not improve from 0.14665\n",
      "45/45 [==============================] - 0s 4ms/step - loss: 0.1480 - root_mean_squared_error: 0.2085 - val_loss: 0.1642 - val_root_mean_squared_error: 0.2181 - lr: 0.0080\n",
      "Epoch 38/300\n",
      "31/45 [===================>..........] - ETA: 0s - loss: 0.1501 - root_mean_squared_error: 0.2097\n",
      "Epoch 38: val_loss did not improve from 0.14665\n",
      "45/45 [==============================] - 0s 4ms/step - loss: 0.1504 - root_mean_squared_error: 0.2098 - val_loss: 0.1574 - val_root_mean_squared_error: 0.2124 - lr: 0.0080\n",
      "Epoch 39/300\n",
      "31/45 [===================>..........] - ETA: 0s - loss: 0.1444 - root_mean_squared_error: 0.2048\n",
      "Epoch 39: val_loss improved from 0.14665 to 0.14660, saving model to /disk1/jupyter/smhan/ASI-revised/output/models/poa/asi_poa_weights.hdf5\n",
      "45/45 [==============================] - 0s 4ms/step - loss: 0.1446 - root_mean_squared_error: 0.2052 - val_loss: 0.1466 - val_root_mean_squared_error: 0.2035 - lr: 8.0000e-04\n",
      "Epoch 40/300\n",
      "31/45 [===================>..........] - ETA: 0s - loss: 0.1422 - root_mean_squared_error: 0.2024\n",
      "Epoch 40: val_loss improved from 0.14660 to 0.14593, saving model to /disk1/jupyter/smhan/ASI-revised/output/models/poa/asi_poa_weights.hdf5\n",
      "45/45 [==============================] - 0s 4ms/step - loss: 0.1432 - root_mean_squared_error: 0.2044 - val_loss: 0.1459 - val_root_mean_squared_error: 0.2030 - lr: 8.0000e-04\n",
      "Epoch 41/300\n",
      "31/45 [===================>..........] - ETA: 0s - loss: 0.1430 - root_mean_squared_error: 0.2046\n",
      "Epoch 41: val_loss did not improve from 0.14593\n",
      "45/45 [==============================] - 0s 4ms/step - loss: 0.1427 - root_mean_squared_error: 0.2040 - val_loss: 0.1474 - val_root_mean_squared_error: 0.2041 - lr: 8.0000e-04\n",
      "Epoch 42/300\n",
      "45/45 [==============================] - ETA: 0s - loss: 0.1429 - root_mean_squared_error: 0.2043\n",
      "Epoch 42: val_loss did not improve from 0.14593\n",
      "45/45 [==============================] - 0s 4ms/step - loss: 0.1429 - root_mean_squared_error: 0.2043 - val_loss: 0.1462 - val_root_mean_squared_error: 0.2030 - lr: 8.0000e-04\n",
      "Epoch 43/300\n",
      "31/45 [===================>..........] - ETA: 0s - loss: 0.1441 - root_mean_squared_error: 0.2062\n",
      "Epoch 43: val_loss improved from 0.14593 to 0.14592, saving model to /disk1/jupyter/smhan/ASI-revised/output/models/poa/asi_poa_weights.hdf5\n",
      "45/45 [==============================] - 0s 4ms/step - loss: 0.1427 - root_mean_squared_error: 0.2042 - val_loss: 0.1459 - val_root_mean_squared_error: 0.2029 - lr: 8.0000e-04\n",
      "Epoch 44/300\n",
      "31/45 [===================>..........] - ETA: 0s - loss: 0.1441 - root_mean_squared_error: 0.2062\n",
      "Epoch 44: val_loss did not improve from 0.14592\n",
      "45/45 [==============================] - 0s 4ms/step - loss: 0.1429 - root_mean_squared_error: 0.2043 - val_loss: 0.1460 - val_root_mean_squared_error: 0.2031 - lr: 8.0000e-04\n"
     ]
    },
    {
     "name": "stdout",
     "output_type": "stream",
     "text": [
      "Epoch 45/300\n",
      "45/45 [==============================] - ETA: 0s - loss: 0.1427 - root_mean_squared_error: 0.2042\n",
      "Epoch 45: val_loss improved from 0.14592 to 0.14583, saving model to /disk1/jupyter/smhan/ASI-revised/output/models/poa/asi_poa_weights.hdf5\n",
      "45/45 [==============================] - 0s 4ms/step - loss: 0.1427 - root_mean_squared_error: 0.2042 - val_loss: 0.1458 - val_root_mean_squared_error: 0.2028 - lr: 8.0000e-04\n",
      "Epoch 46/300\n",
      "31/45 [===================>..........] - ETA: 0s - loss: 0.1426 - root_mean_squared_error: 0.2049\n",
      "Epoch 46: val_loss improved from 0.14583 to 0.14552, saving model to /disk1/jupyter/smhan/ASI-revised/output/models/poa/asi_poa_weights.hdf5\n",
      "45/45 [==============================] - 0s 4ms/step - loss: 0.1421 - root_mean_squared_error: 0.2038 - val_loss: 0.1455 - val_root_mean_squared_error: 0.2026 - lr: 8.0000e-05\n",
      "Epoch 47/300\n",
      "31/45 [===================>..........] - ETA: 0s - loss: 0.1411 - root_mean_squared_error: 0.2041\n",
      "Epoch 47: val_loss improved from 0.14552 to 0.14543, saving model to /disk1/jupyter/smhan/ASI-revised/output/models/poa/asi_poa_weights.hdf5\n",
      "45/45 [==============================] - 0s 5ms/step - loss: 0.1420 - root_mean_squared_error: 0.2038 - val_loss: 0.1454 - val_root_mean_squared_error: 0.2027 - lr: 8.0000e-05\n",
      "Epoch 48/300\n",
      "32/45 [====================>.........] - ETA: 0s - loss: 0.1418 - root_mean_squared_error: 0.2046\n",
      "Epoch 48: val_loss did not improve from 0.14543\n",
      "45/45 [==============================] - 0s 4ms/step - loss: 0.1420 - root_mean_squared_error: 0.2037 - val_loss: 0.1455 - val_root_mean_squared_error: 0.2027 - lr: 8.0000e-05\n",
      "Epoch 49/300\n",
      "31/45 [===================>..........] - ETA: 0s - loss: 0.1418 - root_mean_squared_error: 0.2038\n",
      "Epoch 49: val_loss did not improve from 0.14543\n",
      "45/45 [==============================] - 0s 4ms/step - loss: 0.1419 - root_mean_squared_error: 0.2038 - val_loss: 0.1455 - val_root_mean_squared_error: 0.2028 - lr: 8.0000e-05\n",
      "Epoch 50/300\n",
      "32/45 [====================>.........] - ETA: 0s - loss: 0.1422 - root_mean_squared_error: 0.2044\n",
      "Epoch 50: val_loss did not improve from 0.14543\n",
      "45/45 [==============================] - 0s 4ms/step - loss: 0.1419 - root_mean_squared_error: 0.2038 - val_loss: 0.1456 - val_root_mean_squared_error: 0.2029 - lr: 8.0000e-05\n",
      "Epoch 51/300\n",
      "44/45 [============================>.] - ETA: 0s - loss: 0.1420 - root_mean_squared_error: 0.2038\n",
      "Epoch 51: val_loss did not improve from 0.14543\n",
      "45/45 [==============================] - 0s 4ms/step - loss: 0.1420 - root_mean_squared_error: 0.2038 - val_loss: 0.1456 - val_root_mean_squared_error: 0.2028 - lr: 8.0000e-05\n",
      "Epoch 52/300\n",
      "31/45 [===================>..........] - ETA: 0s - loss: 0.1435 - root_mean_squared_error: 0.2066\n",
      "Epoch 52: val_loss did not improve from 0.14543\n",
      "45/45 [==============================] - 0s 4ms/step - loss: 0.1419 - root_mean_squared_error: 0.2037 - val_loss: 0.1455 - val_root_mean_squared_error: 0.2028 - lr: 8.0000e-06\n",
      "Epoch 53/300\n",
      "45/45 [==============================] - ETA: 0s - loss: 0.1419 - root_mean_squared_error: 0.2037\n",
      "Epoch 53: val_loss did not improve from 0.14543\n",
      "45/45 [==============================] - 0s 4ms/step - loss: 0.1419 - root_mean_squared_error: 0.2037 - val_loss: 0.1455 - val_root_mean_squared_error: 0.2028 - lr: 8.0000e-06\n",
      "Epoch 54/300\n",
      "31/45 [===================>..........] - ETA: 0s - loss: 0.1416 - root_mean_squared_error: 0.2024\n",
      "Epoch 54: val_loss did not improve from 0.14543\n",
      "45/45 [==============================] - 0s 4ms/step - loss: 0.1419 - root_mean_squared_error: 0.2037 - val_loss: 0.1455 - val_root_mean_squared_error: 0.2028 - lr: 8.0000e-06\n",
      "Epoch 55/300\n",
      "31/45 [===================>..........] - ETA: 0s - loss: 0.1429 - root_mean_squared_error: 0.2050\n",
      "Epoch 55: val_loss did not improve from 0.14543\n",
      "45/45 [==============================] - 0s 4ms/step - loss: 0.1419 - root_mean_squared_error: 0.2037 - val_loss: 0.1455 - val_root_mean_squared_error: 0.2028 - lr: 8.0000e-06\n",
      "Epoch 56/300\n",
      "33/45 [=====================>........] - ETA: 0s - loss: 0.1415 - root_mean_squared_error: 0.2031\n",
      "Epoch 56: val_loss did not improve from 0.14543\n",
      "45/45 [==============================] - 0s 4ms/step - loss: 0.1419 - root_mean_squared_error: 0.2037 - val_loss: 0.1455 - val_root_mean_squared_error: 0.2028 - lr: 8.0000e-06\n",
      "Epoch 57/300\n",
      "34/45 [=====================>........] - ETA: 0s - loss: 0.1414 - root_mean_squared_error: 0.2028\n",
      "Epoch 57: val_loss did not improve from 0.14543\n",
      "45/45 [==============================] - 0s 4ms/step - loss: 0.1418 - root_mean_squared_error: 0.2037 - val_loss: 0.1455 - val_root_mean_squared_error: 0.2028 - lr: 8.0000e-07\n",
      "97/97 [==============================] - 0s 976us/step\n",
      "385/385 [==============================] - 0s 1ms/step\n",
      "50/50 [==============================] - 0s 927us/step\n",
      "13/13 [==============================] - 0s 1ms/step\n",
      "50/50 [==============================] - 0s 907us/step\n",
      "13/13 [==============================] - 0s 986us/step\n"
     ]
    }
   ],
   "source": [
    "dataset,\\\n",
    "result,\\\n",
    "fit,\\\n",
    "embedded_train,\\\n",
    "embedded_test,\\\n",
    "predict_regression_train,\\\n",
    "predict_regression_test = spatial()"
   ]
  },
  {
   "cell_type": "code",
   "execution_count": 6,
   "metadata": {},
   "outputs": [
    {
     "name": "stdout",
     "output_type": "stream",
     "text": [
      "################# Test ##########################\n",
      "MALE test:.... 0.14391874059534998\n",
      "RMSE test:.... 95584.65036012759\n",
      "MAPE test:.... 9.87174232844057\n",
      "################# Train ##########################\n",
      "MALE train:.... 0.1422741944157731\n",
      "RMSE train:.... 97066.78333773772\n",
      "MAPE train:.... 9.356999736286935\n"
     ]
    }
   ],
   "source": [
    "print('################# Test ##########################')\n",
    "print('MALE test:.... {}'.format(result[0]))\n",
    "print('RMSE test:.... {}'.format(result[1]))\n",
    "print('MAPE test:.... {}'.format(result[2]))\n",
    "print('################# Train ##########################')\n",
    "print('MALE train:.... {}'.format(result[3]))\n",
    "print('RMSE train:.... {}'.format(result[4]))\n",
    "print('MAPE train:.... {}'.format(result[5]))"
   ]
  },
  {
   "cell_type": "code",
   "execution_count": 7,
   "metadata": {},
   "outputs": [],
   "source": [
    "from sklearn.metrics import r2_score\n",
    "import numpy as np\n",
    "\n",
    "# metric\n",
    "def metric(pred, label):\n",
    "    assert label.shape == pred.shape\n",
    "    \n",
    "    with np.errstate(divide = 'ignore', invalid = 'ignore'):\n",
    "        mask = np.not_equal(label, 0)\n",
    "        mask = mask.astype(np.float32)\n",
    "        mask /= np.mean(mask)\n",
    "        male = np.abs(np.subtract(np.log(pred), np.log(label))).astype(np.float32)\n",
    "        male = np.nan_to_num(male * mask)\n",
    "        male = np.mean(male)\n",
    "        mae = np.abs(np.subtract(pred, label)).astype(np.float32)\n",
    "        rmse = np.square(mae)\n",
    "        mape = np.divide(mae, label)\n",
    "        mae = np.nan_to_num(mae * mask)\n",
    "        mae = np.mean(mae)\n",
    "        rmse = np.nan_to_num(rmse * mask)\n",
    "        rmse = np.sqrt(np.mean(rmse))\n",
    "        mape = np.nan_to_num(mape * mask)\n",
    "        mape = np.median(mape) # np.mean(mape) -- author leverages median\n",
    "    return male, rmse, mape\n",
    "\n"
   ]
  },
  {
   "cell_type": "code",
   "execution_count": 8,
   "metadata": {},
   "outputs": [
    {
     "data": {
      "text/plain": [
       "(0.14391874, 95584.65, 0.09871742328440491)"
      ]
     },
     "execution_count": 8,
     "metadata": {},
     "output_type": "execute_result"
    }
   ],
   "source": [
    "y_label = np.exp(dataset.y_test)\n",
    "y_pred = np.exp(result[6].flatten())\n",
    "metric(y_pred, y_label) # should be same value"
   ]
  },
  {
   "cell_type": "code",
   "execution_count": 9,
   "metadata": {},
   "outputs": [
    {
     "data": {
      "text/plain": [
       "<matplotlib.collections.PathCollection at 0x7f2419aed120>"
      ]
     },
     "execution_count": 9,
     "metadata": {},
     "output_type": "execute_result"
    },
    {
     "data": {
      "image/png": "[encoded data removed]",
      "text/plain": [
       "<Figure size 800x400 with 1 Axes>"
      ]
     },
     "metadata": {},
     "output_type": "display_data"
    }
   ],
   "source": [
    "plt.scatter(y_label, y_pred)"
   ]
  }
 ],
 "metadata": {
  "kernelspec": {
   "display_name": "TF2",
   "language": "python",
   "name": "tf2"
  },
  "language_info": {
   "codemirror_mode": {
    "name": "ipython",
    "version": 3
   },
   "file_extension": ".py",
   "mimetype": "text/x-python",
   "name": "python",
   "nbconvert_exporter": "python",
   "pygments_lexer": "ipython3",
   "version": "3.10.8"
  }
 },
 "nbformat": 4,
 "nbformat_minor": 4
}
