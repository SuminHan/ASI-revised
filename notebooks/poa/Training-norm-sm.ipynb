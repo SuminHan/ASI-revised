{
 "cells": [
  {
   "cell_type": "code",
   "execution_count": 1,
   "metadata": {},
   "outputs": [],
   "source": [
    "import os\n",
    "os.environ[\"CUDA_VISIBLE_DEVICES\"]= '2'"
   ]
  },
  {
   "cell_type": "code",
   "execution_count": 2,
   "metadata": {
    "scrolled": true
   },
   "outputs": [
    {
     "name": "stderr",
     "output_type": "stream",
     "text": [
      "2023-08-22 00:10:04.037183: I tensorflow/core/platform/cpu_feature_guard.cc:193] This TensorFlow binary is optimized with oneAPI Deep Neural Network Library (oneDNN) to use the following CPU instructions in performance-critical operations:  SSE4.1 SSE4.2 AVX AVX2 FMA\n",
      "To enable them in other operations, rebuild TensorFlow with the appropriate compiler flags.\n"
     ]
    }
   ],
   "source": [
    "%matplotlib inline\n",
    "\n",
    "import sys\n",
    "sys.path.append(\"../../\")\n",
    "\n",
    "from train_model_sm import train\n",
    "\n",
    "from sklearn.linear_model import LinearRegression\n",
    "from yellowbrick.regressor import ResidualsPlot, PredictionError\n",
    "\n",
    "import seaborn as sns\n",
    "import matplotlib.pyplot as plt\n",
    "\n",
    "from matplotlib import rcParams\n",
    "rcParams['figure.figsize'] = (8, 4)\n",
    "rcParams['figure.dpi'] = 100\n",
    "rcParams['font.size'] = 8\n",
    "rcParams['font.family'] = 'sans-serif'\n",
    "rcParams['axes.facecolor'] = '#ffffff'\n",
    "rcParams['lines.linewidth'] = 2.0"
   ]
  },
  {
   "cell_type": "code",
   "execution_count": 3,
   "metadata": {
    "scrolled": true
   },
   "outputs": [],
   "source": [
    "hyperparameter={\n",
    "\"num_nearest\":60,\n",
    "\"sigma\":10,\n",
    "\"learning_rate\":0.008,\n",
    "\"batch_size\":250,\n",
    "\"num_neuron\":15,\n",
    "\"num_layers\":2,\n",
    "\"size_embedded\":50,\n",
    "\"num_nearest_geo\":30,\n",
    "\"num_nearest_eucli\":30,\n",
    "\"id_dataset\":'poa',\n",
    "\"epochs\":300,\n",
    "\"optimier\":'adam',\n",
    "\"validation_split\":0.1,\n",
    "\"label\":'asi_poa',\n",
    "\"early_stopping\": False,\n",
    "\"graph_label\":'matrix',\n",
    "\"sequence\":'_normalized'\n",
    "}"
   ]
  },
  {
   "cell_type": "markdown",
   "metadata": {},
   "source": [
    "# Model"
   ]
  },
  {
   "cell_type": "code",
   "execution_count": 4,
   "metadata": {},
   "outputs": [],
   "source": [
    "spatial = train(**hyperparameter)"
   ]
  },
  {
   "cell_type": "code",
   "execution_count": 5,
   "metadata": {},
   "outputs": [
    {
     "name": "stdout",
     "output_type": "stream",
     "text": [
      "node2vec (15368, 8)\n"
     ]
    },
    {
     "name": "stderr",
     "output_type": "stream",
     "text": [
      "2023-08-22 00:10:05.517976: I tensorflow/compiler/xla/stream_executor/cuda/cuda_gpu_executor.cc:981] successful NUMA node read from SysFS had negative value (-1), but there must be at least one NUMA node, so returning NUMA node zero\n"
     ]
    },
    {
     "name": "stdout",
     "output_type": "stream",
     "text": [
      "self.dist_eucli.shape, self.context_struc_eucli_target.shape, self.n2v_eucli.shape (None, 30) (None, 30, 9) (None, 31, 8)\n",
      "self.dist_geo.shape, self.context_geo_target_dist.shape, self.n2v_geo.shape (None, 30) (None, 30, 10) (None, 31, 8)\n",
      "WARNING:tensorflow:From /home/smhan/.conda/envs/TF2/lib/python3.10/site-packages/tensorflow/python/autograph/pyct/static_analysis/liveness.py:83: Analyzer.lamba_check (from tensorflow.python.autograph.pyct.static_analysis.liveness) is deprecated and will be removed after 2023-09-23.\n",
      "Instructions for updating:\n",
      "Lambda fuctions will be no more assumed to be used in the statement where they are used, or at least in the same block. https://github.com/tensorflow/tensorflow/issues/56089\n"
     ]
    },
    {
     "name": "stderr",
     "output_type": "stream",
     "text": [
      "2023-08-22 00:10:05.521928: I tensorflow/compiler/xla/stream_executor/cuda/cuda_gpu_executor.cc:981] successful NUMA node read from SysFS had negative value (-1), but there must be at least one NUMA node, so returning NUMA node zero\n",
      "2023-08-22 00:10:05.522193: I tensorflow/compiler/xla/stream_executor/cuda/cuda_gpu_executor.cc:981] successful NUMA node read from SysFS had negative value (-1), but there must be at least one NUMA node, so returning NUMA node zero\n",
      "2023-08-22 00:10:05.523601: I tensorflow/core/platform/cpu_feature_guard.cc:193] This TensorFlow binary is optimized with oneAPI Deep Neural Network Library (oneDNN) to use the following CPU instructions in performance-critical operations:  SSE4.1 SSE4.2 AVX AVX2 FMA\n",
      "To enable them in other operations, rebuild TensorFlow with the appropriate compiler flags.\n",
      "2023-08-22 00:10:05.526234: I tensorflow/compiler/xla/stream_executor/cuda/cuda_gpu_executor.cc:981] successful NUMA node read from SysFS had negative value (-1), but there must be at least one NUMA node, so returning NUMA node zero\n",
      "2023-08-22 00:10:05.526527: I tensorflow/compiler/xla/stream_executor/cuda/cuda_gpu_executor.cc:981] successful NUMA node read from SysFS had negative value (-1), but there must be at least one NUMA node, so returning NUMA node zero\n",
      "2023-08-22 00:10:05.526788: I tensorflow/compiler/xla/stream_executor/cuda/cuda_gpu_executor.cc:981] successful NUMA node read from SysFS had negative value (-1), but there must be at least one NUMA node, so returning NUMA node zero\n",
      "2023-08-22 00:10:05.893573: I tensorflow/compiler/xla/stream_executor/cuda/cuda_gpu_executor.cc:981] successful NUMA node read from SysFS had negative value (-1), but there must be at least one NUMA node, so returning NUMA node zero\n",
      "2023-08-22 00:10:05.893844: I tensorflow/compiler/xla/stream_executor/cuda/cuda_gpu_executor.cc:981] successful NUMA node read from SysFS had negative value (-1), but there must be at least one NUMA node, so returning NUMA node zero\n",
      "2023-08-22 00:10:05.894073: I tensorflow/compiler/xla/stream_executor/cuda/cuda_gpu_executor.cc:981] successful NUMA node read from SysFS had negative value (-1), but there must be at least one NUMA node, so returning NUMA node zero\n",
      "2023-08-22 00:10:05.894266: I tensorflow/core/common_runtime/gpu/gpu_device.cc:1613] Created device /job:localhost/replica:0/task:0/device:GPU:0 with 22273 MB memory:  -> device: 0, name: NVIDIA GeForce RTX 3090, pci bus id: 0000:82:00.0, compute capability: 8.6\n"
     ]
    },
    {
     "name": "stdout",
     "output_type": "stream",
     "text": [
      "self.input_phenomenon.shape Tensor(\"Placeholder:0\", shape=(None, 8), dtype=float32)\n",
      "self.source_distance.shape (None, 30)\n",
      "self.context.shape (None, 30, 10)\n",
      "self.n2v.shape (None, 31, 8)\n",
      "att_query.shape, att_value.shape (None, 1, 64) (None, 30, 64)\n",
      "att_output (None, 64)\n",
      "feedforward (None, 15)\n",
      "Epoch 1/300\n",
      "self.input_phenomenon.shape Tensor(\"IteratorGetNext:0\", shape=(None, 8), dtype=float32)\n",
      "self.source_distance.shape (None, 30)\n",
      "self.context.shape (None, 30, 10)\n",
      "self.n2v.shape (None, 31, 8)\n",
      "att_query.shape, att_value.shape (None, 1, 64) (None, 30, 64)\n",
      "att_output (None, 64)\n",
      "self.input_phenomenon.shape Tensor(\"IteratorGetNext:0\", shape=(None, 8), dtype=float32)\n",
      "self.source_distance.shape (None, 30)\n",
      "self.context.shape (None, 30, 10)\n",
      "self.n2v.shape (None, 31, 8)\n",
      "att_query.shape, att_value.shape (None, 1, 64) (None, 30, 64)\n",
      "att_output (None, 64)\n"
     ]
    },
    {
     "name": "stderr",
     "output_type": "stream",
     "text": [
      "2023-08-22 00:10:09.233820: I tensorflow/compiler/xla/stream_executor/cuda/cuda_blas.cc:630] TensorFloat-32 will be used for the matrix multiplication. This will only be logged once.\n",
      "2023-08-22 00:10:09.242388: I tensorflow/compiler/xla/service/service.cc:173] XLA service 0x55e19778e380 initialized for platform CUDA (this does not guarantee that XLA will be used). Devices:\n",
      "2023-08-22 00:10:09.242429: I tensorflow/compiler/xla/service/service.cc:181]   StreamExecutor device (0): NVIDIA GeForce RTX 3090, Compute Capability 8.6\n",
      "2023-08-22 00:10:09.248323: I tensorflow/compiler/mlir/tensorflow/utils/dump_mlir_util.cc:268] disabling MLIR crash reproducer, set env var `MLIR_CRASH_REPRODUCER_DIRECTORY` to enable.\n",
      "2023-08-22 00:10:09.337725: I tensorflow/compiler/jit/xla_compilation_cache.cc:477] Compiled cluster using XLA!  This line is logged at most once for the lifetime of the process.\n"
     ]
    },
    {
     "name": "stdout",
     "output_type": "stream",
     "text": [
      "40/45 [=========================>....] - ETA: 0s - loss: 3.0072 - root_mean_squared_error: 5.1541self.input_phenomenon.shape Tensor(\"IteratorGetNext:0\", shape=(None, 8), dtype=float32)\n",
      "self.source_distance.shape (None, 30)\n",
      "self.context.shape (None, 30, 10)\n",
      "self.n2v.shape (None, 31, 8)\n",
      "att_query.shape, att_value.shape (None, 1, 64) (None, 30, 64)\n",
      "att_output (None, 64)\n",
      "\n",
      "Epoch 1: val_loss improved from inf to 0.28476, saving model to /disk1/jupyter/smhan/ASI-revised/output_sm/models/poa/asi_poa_weights.hdf5\n",
      "45/45 [==============================] - 5s 17ms/step - loss: 2.7420 - root_mean_squared_error: 4.9009 - val_loss: 0.2848 - val_root_mean_squared_error: 0.3399 - lr: 0.0080\n",
      "Epoch 2/300\n",
      "42/45 [===========================>..] - ETA: 0s - loss: 0.1473 - root_mean_squared_error: 0.1872\n",
      "Epoch 2: val_loss improved from 0.28476 to 0.13167, saving model to /disk1/jupyter/smhan/ASI-revised/output_sm/models/poa/asi_poa_weights.hdf5\n",
      "45/45 [==============================] - 0s 10ms/step - loss: 0.1464 - root_mean_squared_error: 0.1856 - val_loss: 0.1317 - val_root_mean_squared_error: 0.1462 - lr: 0.0080\n",
      "Epoch 3/300\n",
      "42/45 [===========================>..] - ETA: 0s - loss: 0.1122 - root_mean_squared_error: 0.1310\n",
      "Epoch 3: val_loss improved from 0.13167 to 0.12051, saving model to /disk1/jupyter/smhan/ASI-revised/output_sm/models/poa/asi_poa_weights.hdf5\n",
      "45/45 [==============================] - 0s 9ms/step - loss: 0.1126 - root_mean_squared_error: 0.1309 - val_loss: 0.1205 - val_root_mean_squared_error: 0.1328 - lr: 0.0080\n",
      "Epoch 4/300\n",
      "41/45 [==========================>...] - ETA: 0s - loss: 0.0820 - root_mean_squared_error: 0.1008\n",
      "Epoch 4: val_loss improved from 0.12051 to 0.02143, saving model to /disk1/jupyter/smhan/ASI-revised/output_sm/models/poa/asi_poa_weights.hdf5\n",
      "45/45 [==============================] - 0s 10ms/step - loss: 0.0794 - root_mean_squared_error: 0.0981 - val_loss: 0.0214 - val_root_mean_squared_error: 0.0289 - lr: 0.0080\n",
      "Epoch 5/300\n",
      "42/45 [===========================>..] - ETA: 0s - loss: 0.0566 - root_mean_squared_error: 0.0742\n",
      "Epoch 5: val_loss did not improve from 0.02143\n",
      "45/45 [==============================] - 0s 9ms/step - loss: 0.0563 - root_mean_squared_error: 0.0736 - val_loss: 0.0305 - val_root_mean_squared_error: 0.0369 - lr: 0.0080\n",
      "Epoch 6/300\n",
      "44/45 [============================>.] - ETA: 0s - loss: 0.0960 - root_mean_squared_error: 0.1121\n",
      "Epoch 6: val_loss did not improve from 0.02143\n",
      "45/45 [==============================] - 0s 9ms/step - loss: 0.0960 - root_mean_squared_error: 0.1120 - val_loss: 0.0821 - val_root_mean_squared_error: 0.0885 - lr: 0.0080\n",
      "Epoch 7/300\n",
      "44/45 [============================>.] - ETA: 0s - loss: 0.0869 - root_mean_squared_error: 0.0941\n",
      "Epoch 7: val_loss did not improve from 0.02143\n",
      "45/45 [==============================] - 0s 8ms/step - loss: 0.0869 - root_mean_squared_error: 0.0940 - val_loss: 0.0693 - val_root_mean_squared_error: 0.0777 - lr: 0.0080\n",
      "Epoch 8/300\n",
      "43/45 [===========================>..] - ETA: 0s - loss: 0.1358 - root_mean_squared_error: 0.1597\n",
      "Epoch 8: val_loss did not improve from 0.02143\n",
      "45/45 [==============================] - 0s 9ms/step - loss: 0.1358 - root_mean_squared_error: 0.1593 - val_loss: 0.1322 - val_root_mean_squared_error: 0.1406 - lr: 0.0080\n",
      "Epoch 9/300\n",
      "42/45 [===========================>..] - ETA: 0s - loss: 0.0651 - root_mean_squared_error: 0.0798\n",
      "Epoch 9: val_loss did not improve from 0.02143\n",
      "45/45 [==============================] - 0s 9ms/step - loss: 0.0658 - root_mean_squared_error: 0.0803 - val_loss: 0.1310 - val_root_mean_squared_error: 0.1326 - lr: 0.0080\n",
      "Epoch 10/300\n",
      "42/45 [===========================>..] - ETA: 0s - loss: 0.0317 - root_mean_squared_error: 0.0449\n",
      "Epoch 10: val_loss improved from 0.02143 to 0.01006, saving model to /disk1/jupyter/smhan/ASI-revised/output_sm/models/poa/asi_poa_weights.hdf5\n",
      "45/45 [==============================] - 0s 9ms/step - loss: 0.0307 - root_mean_squared_error: 0.0439 - val_loss: 0.0101 - val_root_mean_squared_error: 0.0152 - lr: 8.0000e-04\n",
      "Epoch 11/300\n",
      "41/45 [==========================>...] - ETA: 0s - loss: 0.0095 - root_mean_squared_error: 0.0138\n",
      "Epoch 11: val_loss improved from 0.01006 to 0.00828, saving model to /disk1/jupyter/smhan/ASI-revised/output_sm/models/poa/asi_poa_weights.hdf5\n",
      "45/45 [==============================] - 0s 10ms/step - loss: 0.0094 - root_mean_squared_error: 0.0136 - val_loss: 0.0083 - val_root_mean_squared_error: 0.0125 - lr: 8.0000e-04\n",
      "Epoch 12/300\n",
      "42/45 [===========================>..] - ETA: 0s - loss: 0.0078 - root_mean_squared_error: 0.0116\n",
      "Epoch 12: val_loss improved from 0.00828 to 0.00800, saving model to /disk1/jupyter/smhan/ASI-revised/output_sm/models/poa/asi_poa_weights.hdf5\n",
      "45/45 [==============================] - 0s 9ms/step - loss: 0.0078 - root_mean_squared_error: 0.0116 - val_loss: 0.0080 - val_root_mean_squared_error: 0.0118 - lr: 8.0000e-04\n",
      "Epoch 13/300\n",
      "43/45 [===========================>..] - ETA: 0s - loss: 0.0070 - root_mean_squared_error: 0.0104\n",
      "Epoch 13: val_loss improved from 0.00800 to 0.00645, saving model to /disk1/jupyter/smhan/ASI-revised/output_sm/models/poa/asi_poa_weights.hdf5\n",
      "45/45 [==============================] - 0s 9ms/step - loss: 0.0069 - root_mean_squared_error: 0.0103 - val_loss: 0.0065 - val_root_mean_squared_error: 0.0100 - lr: 8.0000e-04\n",
      "Epoch 14/300\n",
      "43/45 [===========================>..] - ETA: 0s - loss: 0.0063 - root_mean_squared_error: 0.0095\n",
      "Epoch 14: val_loss did not improve from 0.00645\n",
      "45/45 [==============================] - 0s 9ms/step - loss: 0.0063 - root_mean_squared_error: 0.0095 - val_loss: 0.0119 - val_root_mean_squared_error: 0.0140 - lr: 8.0000e-04\n",
      "Epoch 15/300\n",
      "43/45 [===========================>..] - ETA: 0s - loss: 0.0092 - root_mean_squared_error: 0.0117\n",
      "Epoch 15: val_loss did not improve from 0.00645\n",
      "45/45 [==============================] - 0s 9ms/step - loss: 0.0093 - root_mean_squared_error: 0.0118 - val_loss: 0.0085 - val_root_mean_squared_error: 0.0108 - lr: 8.0000e-04\n",
      "Epoch 16/300\n",
      "41/45 [==========================>...] - ETA: 0s - loss: 0.0094 - root_mean_squared_error: 0.0116\n",
      "Epoch 16: val_loss improved from 0.00645 to 0.00622, saving model to /disk1/jupyter/smhan/ASI-revised/output_sm/models/poa/asi_poa_weights.hdf5\n",
      "45/45 [==============================] - 0s 9ms/step - loss: 0.0093 - root_mean_squared_error: 0.0115 - val_loss: 0.0062 - val_root_mean_squared_error: 0.0087 - lr: 8.0000e-04\n",
      "Epoch 17/300\n",
      "42/45 [===========================>..] - ETA: 0s - loss: 0.0094 - root_mean_squared_error: 0.0115\n",
      "Epoch 17: val_loss did not improve from 0.00622\n",
      "45/45 [==============================] - 0s 9ms/step - loss: 0.0093 - root_mean_squared_error: 0.0115 - val_loss: 0.0087 - val_root_mean_squared_error: 0.0111 - lr: 8.0000e-04\n",
      "Epoch 18/300\n",
      "42/45 [===========================>..] - ETA: 0s - loss: 0.0092 - root_mean_squared_error: 0.0112\n",
      "Epoch 18: val_loss did not improve from 0.00622\n",
      "45/45 [==============================] - 0s 9ms/step - loss: 0.0092 - root_mean_squared_error: 0.0113 - val_loss: 0.0096 - val_root_mean_squared_error: 0.0115 - lr: 8.0000e-04\n",
      "Epoch 19/300\n",
      "45/45 [==============================] - ETA: 0s - loss: 0.0075 - root_mean_squared_error: 0.0096\n",
      "Epoch 19: val_loss improved from 0.00622 to 0.00562, saving model to /disk1/jupyter/smhan/ASI-revised/output_sm/models/poa/asi_poa_weights.hdf5\n",
      "45/45 [==============================] - 0s 10ms/step - loss: 0.0075 - root_mean_squared_error: 0.0096 - val_loss: 0.0056 - val_root_mean_squared_error: 0.0082 - lr: 8.0000e-04\n",
      "Epoch 20/300\n",
      "40/45 [=========================>....] - ETA: 0s - loss: 0.0055 - root_mean_squared_error: 0.0076\n",
      "Epoch 20: val_loss improved from 0.00562 to 0.00504, saving model to /disk1/jupyter/smhan/ASI-revised/output_sm/models/poa/asi_poa_weights.hdf5\n",
      "45/45 [==============================] - 0s 10ms/step - loss: 0.0055 - root_mean_squared_error: 0.0075 - val_loss: 0.0050 - val_root_mean_squared_error: 0.0076 - lr: 8.0000e-04\n",
      "Epoch 21/300\n",
      "42/45 [===========================>..] - ETA: 0s - loss: 0.0057 - root_mean_squared_error: 0.0077\n",
      "Epoch 21: val_loss improved from 0.00504 to 0.00428, saving model to /disk1/jupyter/smhan/ASI-revised/output_sm/models/poa/asi_poa_weights.hdf5\n"
     ]
    },
    {
     "name": "stdout",
     "output_type": "stream",
     "text": [
      "45/45 [==============================] - 0s 10ms/step - loss: 0.0057 - root_mean_squared_error: 0.0077 - val_loss: 0.0043 - val_root_mean_squared_error: 0.0066 - lr: 8.0000e-04\n",
      "Epoch 22/300\n",
      "40/45 [=========================>....] - ETA: 0s - loss: 0.0089 - root_mean_squared_error: 0.0109\n",
      "Epoch 22: val_loss improved from 0.00428 to 0.00427, saving model to /disk1/jupyter/smhan/ASI-revised/output_sm/models/poa/asi_poa_weights.hdf5\n",
      "45/45 [==============================] - 0s 10ms/step - loss: 0.0092 - root_mean_squared_error: 0.0113 - val_loss: 0.0043 - val_root_mean_squared_error: 0.0065 - lr: 8.0000e-04\n",
      "Epoch 23/300\n",
      "40/45 [=========================>....] - ETA: 0s - loss: 0.0102 - root_mean_squared_error: 0.0119\n",
      "Epoch 23: val_loss did not improve from 0.00427\n",
      "45/45 [==============================] - 0s 9ms/step - loss: 0.0103 - root_mean_squared_error: 0.0118 - val_loss: 0.0089 - val_root_mean_squared_error: 0.0105 - lr: 8.0000e-04\n",
      "Epoch 24/300\n",
      "42/45 [===========================>..] - ETA: 0s - loss: 0.0100 - root_mean_squared_error: 0.0116\n",
      "Epoch 24: val_loss did not improve from 0.00427\n",
      "45/45 [==============================] - 0s 9ms/step - loss: 0.0100 - root_mean_squared_error: 0.0116 - val_loss: 0.0083 - val_root_mean_squared_error: 0.0096 - lr: 8.0000e-04\n",
      "Epoch 25/300\n",
      "42/45 [===========================>..] - ETA: 0s - loss: 0.0102 - root_mean_squared_error: 0.0116\n",
      "Epoch 25: val_loss did not improve from 0.00427\n",
      "45/45 [==============================] - 0s 9ms/step - loss: 0.0101 - root_mean_squared_error: 0.0116 - val_loss: 0.0092 - val_root_mean_squared_error: 0.0104 - lr: 8.0000e-04\n",
      "Epoch 26/300\n",
      "44/45 [============================>.] - ETA: 0s - loss: 0.0098 - root_mean_squared_error: 0.0114\n",
      "Epoch 26: val_loss did not improve from 0.00427\n",
      "45/45 [==============================] - 0s 9ms/step - loss: 0.0098 - root_mean_squared_error: 0.0114 - val_loss: 0.0077 - val_root_mean_squared_error: 0.0094 - lr: 8.0000e-04\n",
      "Epoch 27/300\n",
      "42/45 [===========================>..] - ETA: 0s - loss: 0.0043 - root_mean_squared_error: 0.0060\n",
      "Epoch 27: val_loss improved from 0.00427 to 0.00370, saving model to /disk1/jupyter/smhan/ASI-revised/output_sm/models/poa/asi_poa_weights.hdf5\n",
      "45/45 [==============================] - 0s 9ms/step - loss: 0.0043 - root_mean_squared_error: 0.0059 - val_loss: 0.0037 - val_root_mean_squared_error: 0.0055 - lr: 8.0000e-05\n",
      "Epoch 28/300\n",
      "42/45 [===========================>..] - ETA: 0s - loss: 0.0035 - root_mean_squared_error: 0.0050\n",
      "Epoch 28: val_loss improved from 0.00370 to 0.00353, saving model to /disk1/jupyter/smhan/ASI-revised/output_sm/models/poa/asi_poa_weights.hdf5\n",
      "45/45 [==============================] - 0s 10ms/step - loss: 0.0035 - root_mean_squared_error: 0.0051 - val_loss: 0.0035 - val_root_mean_squared_error: 0.0054 - lr: 8.0000e-05\n",
      "Epoch 29/300\n",
      "39/45 [=========================>....] - ETA: 0s - loss: 0.0034 - root_mean_squared_error: 0.0050\n",
      "Epoch 29: val_loss did not improve from 0.00353\n",
      "45/45 [==============================] - 0s 8ms/step - loss: 0.0034 - root_mean_squared_error: 0.0050 - val_loss: 0.0036 - val_root_mean_squared_error: 0.0055 - lr: 8.0000e-05\n",
      "Epoch 30/300\n",
      "43/45 [===========================>..] - ETA: 0s - loss: 0.0034 - root_mean_squared_error: 0.0049\n",
      "Epoch 30: val_loss improved from 0.00353 to 0.00347, saving model to /disk1/jupyter/smhan/ASI-revised/output_sm/models/poa/asi_poa_weights.hdf5\n",
      "45/45 [==============================] - 0s 9ms/step - loss: 0.0034 - root_mean_squared_error: 0.0050 - val_loss: 0.0035 - val_root_mean_squared_error: 0.0054 - lr: 8.0000e-05\n",
      "Epoch 31/300\n",
      "44/45 [============================>.] - ETA: 0s - loss: 0.0034 - root_mean_squared_error: 0.0049\n",
      "Epoch 31: val_loss improved from 0.00347 to 0.00343, saving model to /disk1/jupyter/smhan/ASI-revised/output_sm/models/poa/asi_poa_weights.hdf5\n",
      "45/45 [==============================] - 0s 9ms/step - loss: 0.0034 - root_mean_squared_error: 0.0049 - val_loss: 0.0034 - val_root_mean_squared_error: 0.0053 - lr: 8.0000e-05\n",
      "Epoch 32/300\n",
      "42/45 [===========================>..] - ETA: 0s - loss: 0.0033 - root_mean_squared_error: 0.0048\n",
      "Epoch 32: val_loss improved from 0.00343 to 0.00337, saving model to /disk1/jupyter/smhan/ASI-revised/output_sm/models/poa/asi_poa_weights.hdf5\n",
      "45/45 [==============================] - 0s 10ms/step - loss: 0.0033 - root_mean_squared_error: 0.0048 - val_loss: 0.0034 - val_root_mean_squared_error: 0.0053 - lr: 8.0000e-05\n",
      "Epoch 33/300\n",
      "40/45 [=========================>....] - ETA: 0s - loss: 0.0033 - root_mean_squared_error: 0.0048\n",
      "Epoch 33: val_loss did not improve from 0.00337\n",
      "45/45 [==============================] - 0s 9ms/step - loss: 0.0033 - root_mean_squared_error: 0.0048 - val_loss: 0.0034 - val_root_mean_squared_error: 0.0053 - lr: 8.0000e-05\n",
      "Epoch 34/300\n",
      "43/45 [===========================>..] - ETA: 0s - loss: 0.0032 - root_mean_squared_error: 0.0048\n",
      "Epoch 34: val_loss did not improve from 0.00337\n",
      "45/45 [==============================] - 0s 9ms/step - loss: 0.0032 - root_mean_squared_error: 0.0048 - val_loss: 0.0034 - val_root_mean_squared_error: 0.0051 - lr: 8.0000e-05\n",
      "Epoch 35/300\n",
      "44/45 [============================>.] - ETA: 0s - loss: 0.0032 - root_mean_squared_error: 0.0047\n",
      "Epoch 35: val_loss improved from 0.00337 to 0.00323, saving model to /disk1/jupyter/smhan/ASI-revised/output_sm/models/poa/asi_poa_weights.hdf5\n",
      "45/45 [==============================] - 0s 9ms/step - loss: 0.0032 - root_mean_squared_error: 0.0047 - val_loss: 0.0032 - val_root_mean_squared_error: 0.0050 - lr: 8.0000e-05\n",
      "Epoch 36/300\n",
      "42/45 [===========================>..] - ETA: 0s - loss: 0.0032 - root_mean_squared_error: 0.0047\n",
      "Epoch 36: val_loss did not improve from 0.00323\n",
      "45/45 [==============================] - 0s 9ms/step - loss: 0.0032 - root_mean_squared_error: 0.0047 - val_loss: 0.0032 - val_root_mean_squared_error: 0.0050 - lr: 8.0000e-05\n",
      "Epoch 37/300\n",
      "43/45 [===========================>..] - ETA: 0s - loss: 0.0031 - root_mean_squared_error: 0.0046\n",
      "Epoch 37: val_loss improved from 0.00323 to 0.00321, saving model to /disk1/jupyter/smhan/ASI-revised/output_sm/models/poa/asi_poa_weights.hdf5\n",
      "45/45 [==============================] - 0s 9ms/step - loss: 0.0031 - root_mean_squared_error: 0.0046 - val_loss: 0.0032 - val_root_mean_squared_error: 0.0050 - lr: 8.0000e-05\n",
      "Epoch 38/300\n",
      "41/45 [==========================>...] - ETA: 0s - loss: 0.0031 - root_mean_squared_error: 0.0045\n",
      "Epoch 38: val_loss improved from 0.00321 to 0.00317, saving model to /disk1/jupyter/smhan/ASI-revised/output_sm/models/poa/asi_poa_weights.hdf5\n",
      "45/45 [==============================] - 0s 10ms/step - loss: 0.0031 - root_mean_squared_error: 0.0046 - val_loss: 0.0032 - val_root_mean_squared_error: 0.0049 - lr: 8.0000e-05\n",
      "Epoch 39/300\n",
      "41/45 [==========================>...] - ETA: 0s - loss: 0.0031 - root_mean_squared_error: 0.0046\n",
      "Epoch 39: val_loss improved from 0.00317 to 0.00314, saving model to /disk1/jupyter/smhan/ASI-revised/output_sm/models/poa/asi_poa_weights.hdf5\n",
      "45/45 [==============================] - 0s 9ms/step - loss: 0.0031 - root_mean_squared_error: 0.0045 - val_loss: 0.0031 - val_root_mean_squared_error: 0.0049 - lr: 8.0000e-05\n",
      "Epoch 40/300\n",
      "41/45 [==========================>...] - ETA: 0s - loss: 0.0030 - root_mean_squared_error: 0.0044\n",
      "Epoch 40: val_loss improved from 0.00314 to 0.00304, saving model to /disk1/jupyter/smhan/ASI-revised/output_sm/models/poa/asi_poa_weights.hdf5\n",
      "45/45 [==============================] - 0s 10ms/step - loss: 0.0030 - root_mean_squared_error: 0.0045 - val_loss: 0.0030 - val_root_mean_squared_error: 0.0048 - lr: 8.0000e-05\n",
      "Epoch 41/300\n",
      "41/45 [==========================>...] - ETA: 0s - loss: 0.0030 - root_mean_squared_error: 0.0044\n",
      "Epoch 41: val_loss did not improve from 0.00304\n",
      "45/45 [==============================] - 0s 9ms/step - loss: 0.0030 - root_mean_squared_error: 0.0044 - val_loss: 0.0031 - val_root_mean_squared_error: 0.0047 - lr: 8.0000e-05\n",
      "Epoch 42/300\n",
      "41/45 [==========================>...] - ETA: 0s - loss: 0.0030 - root_mean_squared_error: 0.0044\n",
      "Epoch 42: val_loss improved from 0.00304 to 0.00299, saving model to /disk1/jupyter/smhan/ASI-revised/output_sm/models/poa/asi_poa_weights.hdf5\n"
     ]
    },
    {
     "name": "stdout",
     "output_type": "stream",
     "text": [
      "45/45 [==============================] - 0s 10ms/step - loss: 0.0030 - root_mean_squared_error: 0.0044 - val_loss: 0.0030 - val_root_mean_squared_error: 0.0047 - lr: 8.0000e-05\n",
      "Epoch 43/300\n",
      "44/45 [============================>.] - ETA: 0s - loss: 0.0029 - root_mean_squared_error: 0.0043\n",
      "Epoch 43: val_loss improved from 0.00299 to 0.00297, saving model to /disk1/jupyter/smhan/ASI-revised/output_sm/models/poa/asi_poa_weights.hdf5\n",
      "45/45 [==============================] - 0s 9ms/step - loss: 0.0029 - root_mean_squared_error: 0.0043 - val_loss: 0.0030 - val_root_mean_squared_error: 0.0047 - lr: 8.0000e-05\n",
      "Epoch 44/300\n",
      "43/45 [===========================>..] - ETA: 0s - loss: 0.0029 - root_mean_squared_error: 0.0043\n",
      "Epoch 44: val_loss improved from 0.00297 to 0.00294, saving model to /disk1/jupyter/smhan/ASI-revised/output_sm/models/poa/asi_poa_weights.hdf5\n",
      "45/45 [==============================] - 0s 9ms/step - loss: 0.0029 - root_mean_squared_error: 0.0043 - val_loss: 0.0029 - val_root_mean_squared_error: 0.0046 - lr: 8.0000e-05\n",
      "Epoch 45/300\n",
      "41/45 [==========================>...] - ETA: 0s - loss: 0.0029 - root_mean_squared_error: 0.0042\n",
      "Epoch 45: val_loss improved from 0.00294 to 0.00289, saving model to /disk1/jupyter/smhan/ASI-revised/output_sm/models/poa/asi_poa_weights.hdf5\n",
      "45/45 [==============================] - 0s 10ms/step - loss: 0.0029 - root_mean_squared_error: 0.0042 - val_loss: 0.0029 - val_root_mean_squared_error: 0.0045 - lr: 8.0000e-05\n",
      "Epoch 46/300\n",
      "43/45 [===========================>..] - ETA: 0s - loss: 0.0029 - root_mean_squared_error: 0.0042\n",
      "Epoch 46: val_loss improved from 0.00289 to 0.00286, saving model to /disk1/jupyter/smhan/ASI-revised/output_sm/models/poa/asi_poa_weights.hdf5\n",
      "45/45 [==============================] - 0s 9ms/step - loss: 0.0029 - root_mean_squared_error: 0.0042 - val_loss: 0.0029 - val_root_mean_squared_error: 0.0045 - lr: 8.0000e-05\n",
      "Epoch 47/300\n",
      "43/45 [===========================>..] - ETA: 0s - loss: 0.0029 - root_mean_squared_error: 0.0042\n",
      "Epoch 47: val_loss improved from 0.00286 to 0.00283, saving model to /disk1/jupyter/smhan/ASI-revised/output_sm/models/poa/asi_poa_weights.hdf5\n",
      "45/45 [==============================] - 0s 9ms/step - loss: 0.0029 - root_mean_squared_error: 0.0042 - val_loss: 0.0028 - val_root_mean_squared_error: 0.0044 - lr: 8.0000e-05\n",
      "Epoch 48/300\n",
      "42/45 [===========================>..] - ETA: 0s - loss: 0.0029 - root_mean_squared_error: 0.0042\n",
      "Epoch 48: val_loss did not improve from 0.00283\n",
      "45/45 [==============================] - 0s 9ms/step - loss: 0.0029 - root_mean_squared_error: 0.0042 - val_loss: 0.0029 - val_root_mean_squared_error: 0.0044 - lr: 8.0000e-05\n",
      "Epoch 49/300\n",
      "43/45 [===========================>..] - ETA: 0s - loss: 0.0028 - root_mean_squared_error: 0.0041\n",
      "Epoch 49: val_loss improved from 0.00283 to 0.00280, saving model to /disk1/jupyter/smhan/ASI-revised/output_sm/models/poa/asi_poa_weights.hdf5\n",
      "45/45 [==============================] - 0s 9ms/step - loss: 0.0028 - root_mean_squared_error: 0.0041 - val_loss: 0.0028 - val_root_mean_squared_error: 0.0043 - lr: 8.0000e-05\n",
      "Epoch 50/300\n",
      "42/45 [===========================>..] - ETA: 0s - loss: 0.0028 - root_mean_squared_error: 0.0040\n",
      "Epoch 50: val_loss did not improve from 0.00280\n",
      "45/45 [==============================] - 0s 9ms/step - loss: 0.0028 - root_mean_squared_error: 0.0040 - val_loss: 0.0028 - val_root_mean_squared_error: 0.0043 - lr: 8.0000e-05\n",
      "Epoch 51/300\n",
      "43/45 [===========================>..] - ETA: 0s - loss: 0.0027 - root_mean_squared_error: 0.0040\n",
      "Epoch 51: val_loss did not improve from 0.00280\n",
      "45/45 [==============================] - 0s 9ms/step - loss: 0.0027 - root_mean_squared_error: 0.0040 - val_loss: 0.0028 - val_root_mean_squared_error: 0.0043 - lr: 8.0000e-05\n",
      "Epoch 52/300\n",
      "41/45 [==========================>...] - ETA: 0s - loss: 0.0027 - root_mean_squared_error: 0.0040\n",
      "Epoch 52: val_loss did not improve from 0.00280\n",
      "45/45 [==============================] - 0s 9ms/step - loss: 0.0027 - root_mean_squared_error: 0.0039 - val_loss: 0.0030 - val_root_mean_squared_error: 0.0044 - lr: 8.0000e-05\n",
      "Epoch 53/300\n",
      "39/45 [=========================>....] - ETA: 0s - loss: 0.0027 - root_mean_squared_error: 0.0038\n",
      "Epoch 53: val_loss improved from 0.00280 to 0.00265, saving model to /disk1/jupyter/smhan/ASI-revised/output_sm/models/poa/asi_poa_weights.hdf5\n",
      "45/45 [==============================] - 0s 10ms/step - loss: 0.0027 - root_mean_squared_error: 0.0039 - val_loss: 0.0026 - val_root_mean_squared_error: 0.0041 - lr: 8.0000e-06\n",
      "Epoch 54/300\n",
      "43/45 [===========================>..] - ETA: 0s - loss: 0.0026 - root_mean_squared_error: 0.0038\n",
      "Epoch 54: val_loss improved from 0.00265 to 0.00263, saving model to /disk1/jupyter/smhan/ASI-revised/output_sm/models/poa/asi_poa_weights.hdf5\n",
      "45/45 [==============================] - 0s 9ms/step - loss: 0.0026 - root_mean_squared_error: 0.0038 - val_loss: 0.0026 - val_root_mean_squared_error: 0.0041 - lr: 8.0000e-06\n",
      "Epoch 55/300\n",
      "43/45 [===========================>..] - ETA: 0s - loss: 0.0026 - root_mean_squared_error: 0.0038\n",
      "Epoch 55: val_loss did not improve from 0.00263\n",
      "45/45 [==============================] - 0s 9ms/step - loss: 0.0026 - root_mean_squared_error: 0.0038 - val_loss: 0.0027 - val_root_mean_squared_error: 0.0041 - lr: 8.0000e-06\n",
      "Epoch 56/300\n",
      "42/45 [===========================>..] - ETA: 0s - loss: 0.0026 - root_mean_squared_error: 0.0038\n",
      "Epoch 56: val_loss did not improve from 0.00263\n",
      "45/45 [==============================] - 0s 9ms/step - loss: 0.0026 - root_mean_squared_error: 0.0038 - val_loss: 0.0026 - val_root_mean_squared_error: 0.0041 - lr: 8.0000e-06\n",
      "Epoch 57/300\n",
      "43/45 [===========================>..] - ETA: 0s - loss: 0.0026 - root_mean_squared_error: 0.0038\n",
      "Epoch 57: val_loss did not improve from 0.00263\n",
      "45/45 [==============================] - 0s 9ms/step - loss: 0.0026 - root_mean_squared_error: 0.0038 - val_loss: 0.0027 - val_root_mean_squared_error: 0.0041 - lr: 8.0000e-06\n",
      "Epoch 58/300\n",
      "42/45 [===========================>..] - ETA: 0s - loss: 0.0026 - root_mean_squared_error: 0.0038\n",
      "Epoch 58: val_loss did not improve from 0.00263\n",
      "45/45 [==============================] - 0s 9ms/step - loss: 0.0026 - root_mean_squared_error: 0.0038 - val_loss: 0.0027 - val_root_mean_squared_error: 0.0041 - lr: 8.0000e-06\n",
      "Epoch 59/300\n",
      "44/45 [============================>.] - ETA: 0s - loss: 0.0026 - root_mean_squared_error: 0.0038\n",
      "Epoch 59: val_loss did not improve from 0.00263\n",
      "45/45 [==============================] - 0s 9ms/step - loss: 0.0026 - root_mean_squared_error: 0.0038 - val_loss: 0.0026 - val_root_mean_squared_error: 0.0041 - lr: 8.0000e-07\n",
      "Epoch 60/300\n",
      "42/45 [===========================>..] - ETA: 0s - loss: 0.0026 - root_mean_squared_error: 0.0038\n",
      "Epoch 60: val_loss did not improve from 0.00263\n",
      "45/45 [==============================] - 0s 9ms/step - loss: 0.0026 - root_mean_squared_error: 0.0038 - val_loss: 0.0026 - val_root_mean_squared_error: 0.0041 - lr: 8.0000e-07\n",
      "Epoch 61/300\n",
      "41/45 [==========================>...] - ETA: 0s - loss: 0.0026 - root_mean_squared_error: 0.0038\n",
      "Epoch 61: val_loss did not improve from 0.00263\n",
      "45/45 [==============================] - 0s 9ms/step - loss: 0.0026 - root_mean_squared_error: 0.0038 - val_loss: 0.0026 - val_root_mean_squared_error: 0.0041 - lr: 8.0000e-07\n",
      "Epoch 62/300\n",
      "42/45 [===========================>..] - ETA: 0s - loss: 0.0026 - root_mean_squared_error: 0.0038\n",
      "Epoch 62: val_loss did not improve from 0.00263\n",
      "45/45 [==============================] - 0s 9ms/step - loss: 0.0026 - root_mean_squared_error: 0.0038 - val_loss: 0.0026 - val_root_mean_squared_error: 0.0041 - lr: 8.0000e-07\n",
      "Epoch 63/300\n",
      "42/45 [===========================>..] - ETA: 0s - loss: 0.0026 - root_mean_squared_error: 0.0038\n",
      "Epoch 63: val_loss did not improve from 0.00263\n",
      "45/45 [==============================] - 0s 9ms/step - loss: 0.0026 - root_mean_squared_error: 0.0038 - val_loss: 0.0026 - val_root_mean_squared_error: 0.0041 - lr: 8.0000e-07\n",
      "Epoch 64/300\n",
      "41/45 [==========================>...] - ETA: 0s - loss: 0.0026 - root_mean_squared_error: 0.0038\n",
      "Epoch 64: val_loss did not improve from 0.00263\n",
      "45/45 [==============================] - 0s 9ms/step - loss: 0.0026 - root_mean_squared_error: 0.0038 - val_loss: 0.0026 - val_root_mean_squared_error: 0.0041 - lr: 8.0000e-08\n"
     ]
    },
    {
     "name": "stdout",
     "output_type": "stream",
     "text": [
      "self.input_phenomenon.shape Tensor(\"IteratorGetNext:0\", shape=(None, 8), dtype=float32)\n",
      "self.source_distance.shape (None, 30)\n",
      "self.context.shape (None, 30, 10)\n",
      "self.n2v.shape (None, 31, 8)\n",
      "att_query.shape, att_value.shape (None, 1, 64) (None, 30, 64)\n",
      "att_output (None, 64)\n",
      "97/97 [==============================] - 1s 3ms/step\n",
      "385/385 [==============================] - 1s 3ms/step\n",
      "self.input_phenomenon.shape Tensor(\"IteratorGetNext:0\", shape=(None, 8), dtype=float32)\n",
      "self.source_distance.shape (None, 30)\n",
      "self.context.shape (None, 30, 10)\n",
      "self.n2v.shape (None, 31, 8)\n",
      "att_query.shape, att_value.shape (None, 1, 64) (None, 30, 64)\n",
      "att_output (None, 64)\n",
      "50/50 [==============================] - 0s 3ms/step\n",
      "self.input_phenomenon.shape Tensor(\"IteratorGetNext:0\", shape=(None, 8), dtype=float32)\n",
      "self.source_distance.shape (None, 30)\n",
      "self.context.shape (None, 30, 10)\n",
      "self.n2v.shape (None, 31, 8)\n",
      "att_query.shape, att_value.shape (None, 1, 64) (None, 30, 64)\n",
      "att_output (None, 64)\n",
      "13/13 [==============================] - 0s 3ms/step\n",
      "self.input_phenomenon.shape Tensor(\"IteratorGetNext:0\", shape=(None, 8), dtype=float32)\n",
      "self.source_distance.shape (None, 30)\n",
      "self.context.shape (None, 30, 10)\n",
      "self.n2v.shape (None, 31, 8)\n",
      "att_query.shape, att_value.shape (None, 1, 64) (None, 30, 64)\n",
      "att_output (None, 64)\n",
      "50/50 [==============================] - 0s 3ms/step\n",
      "self.input_phenomenon.shape Tensor(\"IteratorGetNext:0\", shape=(None, 8), dtype=float32)\n",
      "self.source_distance.shape (None, 30)\n",
      "self.context.shape (None, 30, 10)\n",
      "self.n2v.shape (None, 31, 8)\n",
      "att_query.shape, att_value.shape (None, 1, 64) (None, 30, 64)\n",
      "att_output (None, 64)\n",
      "13/13 [==============================] - 0s 3ms/step\n"
     ]
    }
   ],
   "source": [
    "dataset,\\\n",
    "result,\\\n",
    "fit,\\\n",
    "embedded_train,\\\n",
    "embedded_test,\\\n",
    "predict_regression_train,\\\n",
    "predict_regression_test = spatial()"
   ]
  },
  {
   "cell_type": "code",
   "execution_count": 6,
   "metadata": {},
   "outputs": [
    {
     "name": "stdout",
     "output_type": "stream",
     "text": [
      "################# Test ##########################\n",
      "MALE test:.... 0.005025669134416063\n",
      "RMSE test:.... 3874.2253734143223\n",
      "MAPE test:.... 0.428793309438514\n",
      "################# Train ##########################\n",
      "MALE train:.... 0.002611257607285484\n",
      "RMSE train:.... 1988.472364576148\n",
      "MAPE train:.... 0.18477489264623814\n"
     ]
    }
   ],
   "source": [
    "print('################# Test ##########################')\n",
    "print('MALE test:.... {}'.format(result[0]))\n",
    "print('RMSE test:.... {}'.format(result[1]))\n",
    "print('MAPE test:.... {}'.format(result[2]))\n",
    "print('################# Train ##########################')\n",
    "print('MALE train:.... {}'.format(result[3]))\n",
    "print('RMSE train:.... {}'.format(result[4]))\n",
    "print('MAPE train:.... {}'.format(result[5]))"
   ]
  },
  {
   "cell_type": "code",
   "execution_count": 7,
   "metadata": {},
   "outputs": [],
   "source": [
    "from sklearn.metrics import r2_score\n",
    "import numpy as np\n",
    "\n",
    "# metric\n",
    "def metric(pred, label):\n",
    "    assert label.shape == pred.shape\n",
    "    \n",
    "    with np.errstate(divide = 'ignore', invalid = 'ignore'):\n",
    "        mask = np.not_equal(label, 0)\n",
    "        mask = mask.astype(np.float32)\n",
    "        mask /= np.mean(mask)\n",
    "        male = np.abs(np.subtract(np.log(pred), np.log(label))).astype(np.float32)\n",
    "        male = np.nan_to_num(male * mask)\n",
    "        male = np.mean(male)\n",
    "        mae = np.abs(np.subtract(pred, label)).astype(np.float32)\n",
    "        rmse = np.square(mae)\n",
    "        mape = np.divide(mae, label)\n",
    "        mae = np.nan_to_num(mae * mask)\n",
    "        mae = np.mean(mae)\n",
    "        rmse = np.nan_to_num(rmse * mask)\n",
    "        rmse = np.sqrt(np.mean(rmse))\n",
    "        mape = np.nan_to_num(mape * mask)\n",
    "        mape = np.median(mape) # np.mean(mape) -- author leverages median\n",
    "    return male, rmse, mape\n",
    "\n"
   ]
  },
  {
   "cell_type": "code",
   "execution_count": 8,
   "metadata": {},
   "outputs": [
    {
     "data": {
      "text/plain": [
       "(0.005025669, 3874.2256, 0.004287933094384709)"
      ]
     },
     "execution_count": 8,
     "metadata": {},
     "output_type": "execute_result"
    }
   ],
   "source": [
    "y_label = np.exp(dataset.y_test)\n",
    "y_pred = np.exp(result[6].flatten())\n",
    "metric(y_pred, y_label) # should be same value"
   ]
  },
  {
   "cell_type": "code",
   "execution_count": 9,
   "metadata": {},
   "outputs": [
    {
     "data": {
      "text/plain": [
       "<matplotlib.collections.PathCollection at 0x7fc0e056c400>"
      ]
     },
     "execution_count": 9,
     "metadata": {},
     "output_type": "execute_result"
    },
    {
     "data": {
      "image/png": "[encoded data removed]",
      "text/plain": [
       "<Figure size 800x400 with 1 Axes>"
      ]
     },
     "metadata": {},
     "output_type": "display_data"
    }
   ],
   "source": [
    "plt.scatter(y_label, y_pred)"
   ]
  }
 ],
 "metadata": {
  "kernelspec": {
   "display_name": "TF2",
   "language": "python",
   "name": "tf2"
  },
  "language_info": {
   "codemirror_mode": {
    "name": "ipython",
    "version": 3
   },
   "file_extension": ".py",
   "mimetype": "text/x-python",
   "name": "python",
   "nbconvert_exporter": "python",
   "pygments_lexer": "ipython3",
   "version": "3.10.8"
  }
 },
 "nbformat": 4,
 "nbformat_minor": 4
}
